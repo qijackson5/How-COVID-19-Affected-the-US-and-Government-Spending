{
 "cells": [
  {
   "cell_type": "code",
   "metadata": {
    "cell_id": "e0fd7a7edfa944d3b2c3fd8d24ecbd1b",
    "tags": [],
    "owner_user_id": "c8014b8e-de6f-4fba-965b-3f1020e929fa",
    "deepnote_to_be_reexecuted": false,
    "source_hash": "d5a2ae9d",
    "execution_start": 1652129102572,
    "execution_millis": 8224,
    "deepnote_cell_type": "code",
    "deepnote_cell_height": 496.015625
   },
   "source": "!pip install statsmodels==0.13.2",
   "execution_count": null,
   "outputs": [
    {
     "name": "stdout",
     "text": "Collecting statsmodels==0.13.2\n  Downloading statsmodels-0.13.2-cp37-cp37m-manylinux_2_17_x86_64.manylinux2014_x86_64.whl (9.8 MB)\n\u001b[K     |████████████████████████████████| 9.8 MB 37.8 MB/s \n\u001b[?25hRequirement already satisfied: numpy>=1.17 in /shared-libs/python3.7/py/lib/python3.7/site-packages (from statsmodels==0.13.2) (1.21.6)\nRequirement already satisfied: pandas>=0.25 in /shared-libs/python3.7/py/lib/python3.7/site-packages (from statsmodels==0.13.2) (1.2.5)\nRequirement already satisfied: packaging>=21.3 in /shared-libs/python3.7/py/lib/python3.7/site-packages (from statsmodels==0.13.2) (21.3)\nRequirement already satisfied: scipy>=1.3 in /shared-libs/python3.7/py/lib/python3.7/site-packages (from statsmodels==0.13.2) (1.7.3)\nCollecting patsy>=0.5.2\n  Downloading patsy-0.5.2-py2.py3-none-any.whl (233 kB)\n\u001b[K     |████████████████████████████████| 233 kB 66.8 MB/s \n\u001b[?25hRequirement already satisfied: python-dateutil>=2.7.3 in /shared-libs/python3.7/py-core/lib/python3.7/site-packages (from pandas>=0.25->statsmodels==0.13.2) (2.8.2)\nRequirement already satisfied: pytz>=2017.3 in /shared-libs/python3.7/py/lib/python3.7/site-packages (from pandas>=0.25->statsmodels==0.13.2) (2022.1)\nRequirement already satisfied: pyparsing!=3.0.5,>=2.0.2 in /shared-libs/python3.7/py/lib/python3.7/site-packages (from packaging>=21.3->statsmodels==0.13.2) (3.0.8)\nRequirement already satisfied: six in /shared-libs/python3.7/py-core/lib/python3.7/site-packages (from patsy>=0.5.2->statsmodels==0.13.2) (1.16.0)\nInstalling collected packages: patsy, statsmodels\nSuccessfully installed patsy-0.5.2 statsmodels-0.13.2\n\u001b[33mWARNING: You are using pip version 20.1.1; however, version 22.0.4 is available.\nYou should consider upgrading via the '/root/venv/bin/python -m pip install --upgrade pip' command.\u001b[0m\n",
     "output_type": "stream"
    }
   ]
  },
  {
   "cell_type": "code",
   "metadata": {
    "deepnote_to_be_reexecuted": false,
    "execution_millis": 1717,
    "execution_start": 1652129110793,
    "source_hash": "46dc19eb",
    "tags": [],
    "cell_id": "b379bd3a-d5e5-4e89-b7cc-35cc7a70d422",
    "deepnote_cell_type": "code",
    "deepnote_cell_height": 333
   },
   "source": "import matplotlib.pyplot as plt\nimport numpy as np\nimport pandas as pd\nimport statsmodels.api as sm\nimport seaborn as sns\nimport itertools\nfrom scipy.stats import beta, binom\nimport scipy.stats\n\n\nsns.set(style=\"dark\")\nplt.style.use(\"ggplot\")\n%matplotlib inline\n\n",
   "execution_count": null,
   "outputs": []
  },
  {
   "cell_type": "code",
   "metadata": {
    "deepnote_to_be_reexecuted": false,
    "execution_millis": 407,
    "execution_start": 1652129112524,
    "source_hash": "80afa49b",
    "tags": [],
    "cell_id": "00001-2a47af85-8e5a-4cfa-8f5b-f2bccdbc4aff",
    "deepnote_cell_type": "code",
    "deepnote_cell_height": 892.671875
   },
   "source": "df = pd.read_csv('Monthly_Transportation_Statistics.csv')\ndf['Date'] = pd.to_datetime(df['Date'], format='%m/%d/%Y 12:00:00 AM')\n  \n# Filter data between two dates (pre pandemic and post pandemic)\nspending = df.query(\"Date >= '01-01-2019' \\\n                       and Date < '04-01-2020'\")\n  \nspending['Date'] = pd.DatetimeIndex(spending['Date']).year\nspending",
   "execution_count": null,
   "outputs": [
    {
     "name": "stderr",
     "text": "/shared-libs/python3.7/py-core/lib/python3.7/site-packages/ipykernel_launcher.py:8: SettingWithCopyWarning: \nA value is trying to be set on a copy of a slice from a DataFrame.\nTry using .loc[row_indexer,col_indexer] = value instead\n\nSee the caveats in the documentation: https://pandas.pydata.org/pandas-docs/stable/user_guide/indexing.html#returning-a-view-versus-a-copy\n  \n",
     "output_type": "stream"
    },
    {
     "output_type": "execute_result",
     "execution_count": 3,
     "data": {
      "application/vnd.deepnote.dataframe.v3+json": {
       "column_count": 136,
       "row_count": 15,
       "columns": [
        {
         "name": "Index",
         "dtype": "int64",
         "stats": {
          "unique_count": 15,
          "nan_count": 0,
          "min": "864",
          "max": "878",
          "histogram": [
           {
            "bin_start": 864,
            "bin_end": 865.4,
            "count": 2
           },
           {
            "bin_start": 865.4,
            "bin_end": 866.8,
            "count": 1
           },
           {
            "bin_start": 866.8,
            "bin_end": 868.2,
            "count": 2
           },
           {
            "bin_start": 868.2,
            "bin_end": 869.6,
            "count": 1
           },
           {
            "bin_start": 869.6,
            "bin_end": 871,
            "count": 1
           },
           {
            "bin_start": 871,
            "bin_end": 872.4,
            "count": 2
           },
           {
            "bin_start": 872.4,
            "bin_end": 873.8,
            "count": 1
           },
           {
            "bin_start": 873.8,
            "bin_end": 875.2,
            "count": 2
           },
           {
            "bin_start": 875.2,
            "bin_end": 876.6,
            "count": 1
           },
           {
            "bin_start": 876.6,
            "bin_end": 878,
            "count": 2
           }
          ]
         }
        },
        {
         "name": "Date",
         "dtype": "int64",
         "stats": {
          "unique_count": 2,
          "nan_count": 0,
          "min": "2019",
          "max": "2020",
          "histogram": [
           {
            "bin_start": 2019,
            "bin_end": 2019.1,
            "count": 12
           },
           {
            "bin_start": 2019.1,
            "bin_end": 2019.2,
            "count": 0
           },
           {
            "bin_start": 2019.2,
            "bin_end": 2019.3,
            "count": 0
           },
           {
            "bin_start": 2019.3,
            "bin_end": 2019.4,
            "count": 0
           },
           {
            "bin_start": 2019.4,
            "bin_end": 2019.5,
            "count": 0
           },
           {
            "bin_start": 2019.5,
            "bin_end": 2019.6,
            "count": 0
           },
           {
            "bin_start": 2019.6,
            "bin_end": 2019.7,
            "count": 0
           },
           {
            "bin_start": 2019.7,
            "bin_end": 2019.8,
            "count": 0
           },
           {
            "bin_start": 2019.8,
            "bin_end": 2019.9,
            "count": 0
           },
           {
            "bin_start": 2019.9,
            "bin_end": 2020,
            "count": 3
           }
          ]
         }
        },
        {
         "name": "Air Safety - General Aviation Fatalities",
         "dtype": "float64",
         "stats": {
          "unique_count": 12,
          "nan_count": 0,
          "min": "14.0",
          "max": "69.0",
          "histogram": [
           {
            "bin_start": 14,
            "bin_end": 19.5,
            "count": 2
           },
           {
            "bin_start": 19.5,
            "bin_end": 25,
            "count": 2
           },
           {
            "bin_start": 25,
            "bin_end": 30.5,
            "count": 6
           },
           {
            "bin_start": 30.5,
            "bin_end": 36,
            "count": 1
           },
           {
            "bin_start": 36,
            "bin_end": 41.5,
            "count": 1
           },
           {
            "bin_start": 41.5,
            "bin_end": 47,
            "count": 0
           },
           {
            "bin_start": 47,
            "bin_end": 52.5,
            "count": 2
           },
           {
            "bin_start": 52.5,
            "bin_end": 58,
            "count": 0
           },
           {
            "bin_start": 58,
            "bin_end": 63.5,
            "count": 0
           },
           {
            "bin_start": 63.5,
            "bin_end": 69,
            "count": 1
           }
          ]
         }
        },
        {
         "name": "Highway Fatalities Per 100 Million Vehicle Miles Traveled",
         "dtype": "float64",
         "stats": {
          "unique_count": 4,
          "nan_count": 10,
          "min": "1.04",
          "max": "1.17",
          "histogram": [
           {
            "bin_start": 1.04,
            "bin_end": 1.053,
            "count": 1
           },
           {
            "bin_start": 1.053,
            "bin_end": 1.066,
            "count": 0
           },
           {
            "bin_start": 1.066,
            "bin_end": 1.079,
            "count": 0
           },
           {
            "bin_start": 1.079,
            "bin_end": 1.092,
            "count": 1
           },
           {
            "bin_start": 1.092,
            "bin_end": 1.105,
            "count": 0
           },
           {
            "bin_start": 1.105,
            "bin_end": 1.1179999999999999,
            "count": 0
           },
           {
            "bin_start": 1.1179999999999999,
            "bin_end": 1.131,
            "count": 2
           },
           {
            "bin_start": 1.131,
            "bin_end": 1.144,
            "count": 0
           },
           {
            "bin_start": 1.144,
            "bin_end": 1.157,
            "count": 0
           },
           {
            "bin_start": 1.157,
            "bin_end": 1.17,
            "count": 1
           }
          ]
         }
        },
        {
         "name": "Highway Fatalities",
         "dtype": "float64",
         "stats": {
          "unique_count": 5,
          "nan_count": 10,
          "min": "7816.0",
          "max": "9953.0",
          "histogram": [
           {
            "bin_start": 7816,
            "bin_end": 8029.7,
            "count": 2
           },
           {
            "bin_start": 8029.7,
            "bin_end": 8243.4,
            "count": 0
           },
           {
            "bin_start": 8243.4,
            "bin_end": 8457.1,
            "count": 0
           },
           {
            "bin_start": 8457.1,
            "bin_end": 8670.8,
            "count": 0
           },
           {
            "bin_start": 8670.8,
            "bin_end": 8884.5,
            "count": 0
           },
           {
            "bin_start": 8884.5,
            "bin_end": 9098.2,
            "count": 0
           },
           {
            "bin_start": 9098.2,
            "bin_end": 9311.9,
            "count": 2
           },
           {
            "bin_start": 9311.9,
            "bin_end": 9525.6,
            "count": 0
           },
           {
            "bin_start": 9525.6,
            "bin_end": 9739.3,
            "count": 0
           },
           {
            "bin_start": 9739.3,
            "bin_end": 9953,
            "count": 1
           }
          ]
         }
        },
        {
         "name": "U.S. Airline Traffic - Total - Seasonally Adjusted",
         "dtype": "float64",
         "stats": {
          "unique_count": 15,
          "nan_count": 0,
          "min": "37460000.0",
          "max": "79590000.0",
          "histogram": [
           {
            "bin_start": 37460000,
            "bin_end": 41673000,
            "count": 1
           },
           {
            "bin_start": 41673000,
            "bin_end": 45886000,
            "count": 0
           },
           {
            "bin_start": 45886000,
            "bin_end": 50099000,
            "count": 0
           },
           {
            "bin_start": 50099000,
            "bin_end": 54312000,
            "count": 0
           },
           {
            "bin_start": 54312000,
            "bin_end": 58525000,
            "count": 0
           },
           {
            "bin_start": 58525000,
            "bin_end": 62738000,
            "count": 0
           },
           {
            "bin_start": 62738000,
            "bin_end": 66951000,
            "count": 0
           },
           {
            "bin_start": 66951000,
            "bin_end": 71164000,
            "count": 0
           },
           {
            "bin_start": 71164000,
            "bin_end": 75377000,
            "count": 1
           },
           {
            "bin_start": 75377000,
            "bin_end": 79590000,
            "count": 13
           }
          ]
         }
        },
        {
         "name": "U.S. Airline Traffic - International - Seasonally Adjusted",
         "dtype": "float64",
         "stats": {
          "unique_count": 10,
          "nan_count": 0,
          "min": "4560000.0",
          "max": "9760000.0",
          "histogram": [
           {
            "bin_start": 4560000,
            "bin_end": 5080000,
            "count": 1
           },
           {
            "bin_start": 5080000,
            "bin_end": 5600000,
            "count": 0
           },
           {
            "bin_start": 5600000,
            "bin_end": 6120000,
            "count": 0
           },
           {
            "bin_start": 6120000,
            "bin_end": 6640000,
            "count": 0
           },
           {
            "bin_start": 6640000,
            "bin_end": 7160000,
            "count": 0
           },
           {
            "bin_start": 7160000,
            "bin_end": 7680000,
            "count": 0
           },
           {
            "bin_start": 7680000,
            "bin_end": 8200000,
            "count": 0
           },
           {
            "bin_start": 8200000,
            "bin_end": 8720000,
            "count": 0
           },
           {
            "bin_start": 8720000,
            "bin_end": 9240000,
            "count": 0
           },
           {
            "bin_start": 9240000,
            "bin_end": 9760000,
            "count": 14
           }
          ]
         }
        },
        {
         "name": "U.S. Airline Traffic - Domestic - Seasonally Adjusted",
         "dtype": "float64",
         "stats": {
          "unique_count": 15,
          "nan_count": 0,
          "min": "32900000.0",
          "max": "69910000.0",
          "histogram": [
           {
            "bin_start": 32900000,
            "bin_end": 36601000,
            "count": 1
           },
           {
            "bin_start": 36601000,
            "bin_end": 40302000,
            "count": 0
           },
           {
            "bin_start": 40302000,
            "bin_end": 44003000,
            "count": 0
           },
           {
            "bin_start": 44003000,
            "bin_end": 47704000,
            "count": 0
           },
           {
            "bin_start": 47704000,
            "bin_end": 51405000,
            "count": 0
           },
           {
            "bin_start": 51405000,
            "bin_end": 55106000,
            "count": 0
           },
           {
            "bin_start": 55106000,
            "bin_end": 58807000,
            "count": 0
           },
           {
            "bin_start": 58807000,
            "bin_end": 62508000,
            "count": 0
           },
           {
            "bin_start": 62508000,
            "bin_end": 66209000,
            "count": 1
           },
           {
            "bin_start": 66209000,
            "bin_end": 69910000,
            "count": 13
           }
          ]
         }
        },
        {
         "name": "Transit Ridership - Other Transit Modes - Adjusted",
         "dtype": "float64",
         "stats": {
          "unique_count": 15,
          "nan_count": 0,
          "min": "10828249.0",
          "max": "20593034.0",
          "histogram": [
           {
            "bin_start": 10828249,
            "bin_end": 11804727.5,
            "count": 1
           },
           {
            "bin_start": 11804727.5,
            "bin_end": 12781206,
            "count": 0
           },
           {
            "bin_start": 12781206,
            "bin_end": 13757684.5,
            "count": 0
           },
           {
            "bin_start": 13757684.5,
            "bin_end": 14734163,
            "count": 0
           },
           {
            "bin_start": 14734163,
            "bin_end": 15710641.5,
            "count": 1
           },
           {
            "bin_start": 15710641.5,
            "bin_end": 16687120,
            "count": 4
           },
           {
            "bin_start": 16687120,
            "bin_end": 17663598.5,
            "count": 1
           },
           {
            "bin_start": 17663598.5,
            "bin_end": 18640077,
            "count": 2
           },
           {
            "bin_start": 18640077,
            "bin_end": 19616555.5,
            "count": 4
           },
           {
            "bin_start": 19616555.5,
            "bin_end": 20593034,
            "count": 2
           }
          ]
         }
        },
        {
         "name": "Transit Ridership - Fixed Route Bus - Adjusted",
         "dtype": "float64",
         "stats": {
          "unique_count": 15,
          "nan_count": 0,
          "min": "260816728.0",
          "max": "426327140.0",
          "histogram": [
           {
            "bin_start": 260816728,
            "bin_end": 277367769.2,
            "count": 1
           },
           {
            "bin_start": 277367769.2,
            "bin_end": 293918810.4,
            "count": 0
           },
           {
            "bin_start": 293918810.4,
            "bin_end": 310469851.6,
            "count": 0
           },
           {
            "bin_start": 310469851.6,
            "bin_end": 327020892.8,
            "count": 0
           },
           {
            "bin_start": 327020892.8,
            "bin_end": 343571934,
            "count": 0
           },
           {
            "bin_start": 343571934,
            "bin_end": 360122975.2,
            "count": 2
           },
           {
            "bin_start": 360122975.2,
            "bin_end": 376674016.4,
            "count": 6
           },
           {
            "bin_start": 376674016.4,
            "bin_end": 393225057.6,
            "count": 2
           },
           {
            "bin_start": 393225057.6,
            "bin_end": 409776098.79999995,
            "count": 3
           },
           {
            "bin_start": 409776098.79999995,
            "bin_end": 426327140,
            "count": 1
           }
          ]
         }
        },
        {
         "name": "Transit Ridership - Urban Rail - Adjusted",
         "dtype": "float64",
         "stats": {
          "unique_count": 15,
          "nan_count": 0,
          "min": "219281018.0",
          "max": "448819797.0",
          "histogram": [
           {
            "bin_start": 219281018,
            "bin_end": 242234895.9,
            "count": 1
           },
           {
            "bin_start": 242234895.9,
            "bin_end": 265188773.8,
            "count": 0
           },
           {
            "bin_start": 265188773.8,
            "bin_end": 288142651.7,
            "count": 0
           },
           {
            "bin_start": 288142651.7,
            "bin_end": 311096529.6,
            "count": 0
           },
           {
            "bin_start": 311096529.6,
            "bin_end": 334050407.5,
            "count": 0
           },
           {
            "bin_start": 334050407.5,
            "bin_end": 357004285.4,
            "count": 1
           },
           {
            "bin_start": 357004285.4,
            "bin_end": 379958163.29999995,
            "count": 1
           },
           {
            "bin_start": 379958163.29999995,
            "bin_end": 402912041.2,
            "count": 3
           },
           {
            "bin_start": 402912041.2,
            "bin_end": 425865919.1,
            "count": 8
           },
           {
            "bin_start": 425865919.1,
            "bin_end": 448819797,
            "count": 1
           }
          ]
         }
        },
        {
         "name": "Freight Rail Intermodal Units",
         "dtype": "float64",
         "stats": {
          "unique_count": 15,
          "nan_count": 0,
          "min": "997811.0",
          "max": "1329532.0",
          "histogram": [
           {
            "bin_start": 997811,
            "bin_end": 1030983.1,
            "count": 2
           },
           {
            "bin_start": 1030983.1,
            "bin_end": 1064155.2,
            "count": 3
           },
           {
            "bin_start": 1064155.2,
            "bin_end": 1097327.3,
            "count": 4
           },
           {
            "bin_start": 1097327.3,
            "bin_end": 1130499.4,
            "count": 0
           },
           {
            "bin_start": 1130499.4,
            "bin_end": 1163671.5,
            "count": 1
           },
           {
            "bin_start": 1163671.5,
            "bin_end": 1196843.6,
            "count": 1
           },
           {
            "bin_start": 1196843.6,
            "bin_end": 1230015.7,
            "count": 0
           },
           {
            "bin_start": 1230015.7,
            "bin_end": 1263187.8,
            "count": 0
           },
           {
            "bin_start": 1263187.8,
            "bin_end": 1296359.9,
            "count": 0
           },
           {
            "bin_start": 1296359.9,
            "bin_end": 1329532,
            "count": 4
           }
          ]
         }
        },
        {
         "name": "Freight Rail Carloads",
         "dtype": "float64",
         "stats": {
          "unique_count": 15,
          "nan_count": 0,
          "min": "927608.0",
          "max": "1310228.0",
          "histogram": [
           {
            "bin_start": 927608,
            "bin_end": 965870,
            "count": 4
           },
           {
            "bin_start": 965870,
            "bin_end": 1004132,
            "count": 2
           },
           {
            "bin_start": 1004132,
            "bin_end": 1042394,
            "count": 2
           },
           {
            "bin_start": 1042394,
            "bin_end": 1080656,
            "count": 1
           },
           {
            "bin_start": 1080656,
            "bin_end": 1118918,
            "count": 1
           },
           {
            "bin_start": 1118918,
            "bin_end": 1157180,
            "count": 1
           },
           {
            "bin_start": 1157180,
            "bin_end": 1195442,
            "count": 0
           },
           {
            "bin_start": 1195442,
            "bin_end": 1233704,
            "count": 0
           },
           {
            "bin_start": 1233704,
            "bin_end": 1271966,
            "count": 3
           },
           {
            "bin_start": 1271966,
            "bin_end": 1310228,
            "count": 1
           }
          ]
         }
        },
        {
         "name": "Highway Vehicle Miles Traveled - All Systems",
         "dtype": "float64",
         "stats": {
          "unique_count": 15,
          "nan_count": 0,
          "min": "226638000000.0",
          "max": "292680000000.0",
          "histogram": [
           {
            "bin_start": 226638000000,
            "bin_end": 233242200000,
            "count": 2
           },
           {
            "bin_start": 233242200000,
            "bin_end": 239846400000,
            "count": 0
           },
           {
            "bin_start": 239846400000,
            "bin_end": 246450600000,
            "count": 1
           },
           {
            "bin_start": 246450600000,
            "bin_end": 253054800000,
            "count": 1
           },
           {
            "bin_start": 253054800000,
            "bin_end": 259659000000,
            "count": 0
           },
           {
            "bin_start": 259659000000,
            "bin_end": 266263200000,
            "count": 2
           },
           {
            "bin_start": 266263200000,
            "bin_end": 272867400000,
            "count": 3
           },
           {
            "bin_start": 272867400000,
            "bin_end": 279471600000,
            "count": 1
           },
           {
            "bin_start": 279471600000,
            "bin_end": 286075800000,
            "count": 3
           },
           {
            "bin_start": 286075800000,
            "bin_end": 292680000000,
            "count": 2
           }
          ]
         }
        },
        {
         "name": "Highway Vehicle Miles Traveled - Total Rural",
         "dtype": "float64",
         "stats": {
          "unique_count": 15,
          "nan_count": 0,
          "min": "65827000000.0",
          "max": "93876000000.0",
          "histogram": [
           {
            "bin_start": 65827000000,
            "bin_end": 68631900000,
            "count": 1
           },
           {
            "bin_start": 68631900000,
            "bin_end": 71436800000,
            "count": 3
           },
           {
            "bin_start": 71436800000,
            "bin_end": 74241700000,
            "count": 0
           },
           {
            "bin_start": 74241700000,
            "bin_end": 77046600000,
            "count": 1
           },
           {
            "bin_start": 77046600000,
            "bin_end": 79851500000,
            "count": 2
           },
           {
            "bin_start": 79851500000,
            "bin_end": 82656400000,
            "count": 2
           },
           {
            "bin_start": 82656400000,
            "bin_end": 85461300000,
            "count": 1
           },
           {
            "bin_start": 85461300000,
            "bin_end": 88266200000,
            "count": 3
           },
           {
            "bin_start": 88266200000,
            "bin_end": 91071100000,
            "count": 1
           },
           {
            "bin_start": 91071100000,
            "bin_end": 93876000000,
            "count": 1
           }
          ]
         }
        },
        {
         "name": "Highway Vehicle Miles Traveled - Other Rural",
         "dtype": "float64",
         "stats": {
          "unique_count": 15,
          "nan_count": 0,
          "min": "22699000000.0",
          "max": "31859000000.0",
          "histogram": [
           {
            "bin_start": 22699000000,
            "bin_end": 23615000000,
            "count": 1
           },
           {
            "bin_start": 23615000000,
            "bin_end": 24531000000,
            "count": 2
           },
           {
            "bin_start": 24531000000,
            "bin_end": 25447000000,
            "count": 1
           },
           {
            "bin_start": 25447000000,
            "bin_end": 26363000000,
            "count": 2
           },
           {
            "bin_start": 26363000000,
            "bin_end": 27279000000,
            "count": 1
           },
           {
            "bin_start": 27279000000,
            "bin_end": 28195000000,
            "count": 1
           },
           {
            "bin_start": 28195000000,
            "bin_end": 29111000000,
            "count": 2
           },
           {
            "bin_start": 29111000000,
            "bin_end": 30027000000,
            "count": 1
           },
           {
            "bin_start": 30027000000,
            "bin_end": 30943000000,
            "count": 3
           },
           {
            "bin_start": 30943000000,
            "bin_end": 31859000000,
            "count": 1
           }
          ]
         }
        },
        {
         "name": "Highway Vehicle Miles Traveled - Rural Other Arterial",
         "dtype": "float64",
         "stats": {
          "unique_count": 15,
          "nan_count": 0,
          "min": "25976000000.0",
          "max": "36484000000.0",
          "histogram": [
           {
            "bin_start": 25976000000,
            "bin_end": 27026800000,
            "count": 1
           },
           {
            "bin_start": 27026800000,
            "bin_end": 28077600000,
            "count": 3
           },
           {
            "bin_start": 28077600000,
            "bin_end": 29128400000,
            "count": 0
           },
           {
            "bin_start": 29128400000,
            "bin_end": 30179200000,
            "count": 1
           },
           {
            "bin_start": 30179200000,
            "bin_end": 31230000000,
            "count": 3
           },
           {
            "bin_start": 31230000000,
            "bin_end": 32280800000,
            "count": 1
           },
           {
            "bin_start": 32280800000,
            "bin_end": 33331600000,
            "count": 1
           },
           {
            "bin_start": 33331600000,
            "bin_end": 34382400000,
            "count": 3
           },
           {
            "bin_start": 34382400000,
            "bin_end": 35433200000,
            "count": 1
           },
           {
            "bin_start": 35433200000,
            "bin_end": 36484000000,
            "count": 1
           }
          ]
         }
        },
        {
         "name": "Highway Vehicle Miles Traveled - Rural Interstate",
         "dtype": "float64",
         "stats": {
          "unique_count": 15,
          "nan_count": 0,
          "min": "17152000000.0",
          "max": "25534000000.0",
          "histogram": [
           {
            "bin_start": 17152000000,
            "bin_end": 17990200000,
            "count": 2
           },
           {
            "bin_start": 17990200000,
            "bin_end": 18828400000,
            "count": 2
           },
           {
            "bin_start": 18828400000,
            "bin_end": 19666600000,
            "count": 1
           },
           {
            "bin_start": 19666600000,
            "bin_end": 20504800000,
            "count": 0
           },
           {
            "bin_start": 20504800000,
            "bin_end": 21343000000,
            "count": 2
           },
           {
            "bin_start": 21343000000,
            "bin_end": 22181200000,
            "count": 3
           },
           {
            "bin_start": 22181200000,
            "bin_end": 23019400000,
            "count": 1
           },
           {
            "bin_start": 23019400000,
            "bin_end": 23857600000,
            "count": 2
           },
           {
            "bin_start": 23857600000,
            "bin_end": 24695800000,
            "count": 1
           },
           {
            "bin_start": 24695800000,
            "bin_end": 25534000000,
            "count": 1
           }
          ]
         }
        },
        {
         "name": "State and Local Government Construction Spending - Breakwater/Jetty",
         "dtype": "float64",
         "stats": {
          "unique_count": 11,
          "nan_count": 0,
          "min": "72000000.0",
          "max": "120000000.0",
          "histogram": [
           {
            "bin_start": 72000000,
            "bin_end": 76800000,
            "count": 2
           },
           {
            "bin_start": 76800000,
            "bin_end": 81600000,
            "count": 0
           },
           {
            "bin_start": 81600000,
            "bin_end": 86400000,
            "count": 3
           },
           {
            "bin_start": 86400000,
            "bin_end": 91200000,
            "count": 0
           },
           {
            "bin_start": 91200000,
            "bin_end": 96000000,
            "count": 2
           },
           {
            "bin_start": 96000000,
            "bin_end": 100800000,
            "count": 1
           },
           {
            "bin_start": 100800000,
            "bin_end": 105600000,
            "count": 4
           },
           {
            "bin_start": 105600000,
            "bin_end": 110400000,
            "count": 1
           },
           {
            "bin_start": 110400000,
            "bin_end": 115200000,
            "count": 0
           },
           {
            "bin_start": 115200000,
            "bin_end": 120000000,
            "count": 2
           }
          ]
         }
        },
        {
         "name": "State and Local Government Construction Spending - Dam/Levee",
         "dtype": "float64",
         "stats": {
          "unique_count": 15,
          "nan_count": 0,
          "min": "64000000.0",
          "max": "134000000.0",
          "histogram": [
           {
            "bin_start": 64000000,
            "bin_end": 71000000,
            "count": 3
           },
           {
            "bin_start": 71000000,
            "bin_end": 78000000,
            "count": 2
           },
           {
            "bin_start": 78000000,
            "bin_end": 85000000,
            "count": 2
           },
           {
            "bin_start": 85000000,
            "bin_end": 92000000,
            "count": 1
           },
           {
            "bin_start": 92000000,
            "bin_end": 99000000,
            "count": 2
           },
           {
            "bin_start": 99000000,
            "bin_end": 106000000,
            "count": 1
           },
           {
            "bin_start": 106000000,
            "bin_end": 113000000,
            "count": 1
           },
           {
            "bin_start": 113000000,
            "bin_end": 120000000,
            "count": 0
           },
           {
            "bin_start": 120000000,
            "bin_end": 127000000,
            "count": 1
           },
           {
            "bin_start": 127000000,
            "bin_end": 134000000,
            "count": 2
           }
          ]
         }
        },
        {
         "name": "State and Local Government Construction Spending - Conservation and Development",
         "dtype": "float64",
         "stats": {
          "unique_count": 14,
          "nan_count": 0,
          "min": "207000000.0",
          "max": "335000000.0",
          "histogram": [
           {
            "bin_start": 207000000,
            "bin_end": 219800000,
            "count": 2
           },
           {
            "bin_start": 219800000,
            "bin_end": 232600000,
            "count": 1
           },
           {
            "bin_start": 232600000,
            "bin_end": 245400000,
            "count": 4
           },
           {
            "bin_start": 245400000,
            "bin_end": 258200000,
            "count": 1
           },
           {
            "bin_start": 258200000,
            "bin_end": 271000000,
            "count": 1
           },
           {
            "bin_start": 271000000,
            "bin_end": 283800000,
            "count": 1
           },
           {
            "bin_start": 283800000,
            "bin_end": 296600000,
            "count": 1
           },
           {
            "bin_start": 296600000,
            "bin_end": 309400000,
            "count": 3
           },
           {
            "bin_start": 309400000,
            "bin_end": 322200000,
            "count": 0
           },
           {
            "bin_start": 322200000,
            "bin_end": 335000000,
            "count": 1
           }
          ]
         }
        },
        {
         "name": "State and Local Government Construction Spending - Pump Station",
         "dtype": "float64",
         "stats": {
          "unique_count": 14,
          "nan_count": 0,
          "min": "60000000.0",
          "max": "158000000.0",
          "histogram": [
           {
            "bin_start": 60000000,
            "bin_end": 69800000,
            "count": 2
           },
           {
            "bin_start": 69800000,
            "bin_end": 79600000,
            "count": 4
           },
           {
            "bin_start": 79600000,
            "bin_end": 89400000,
            "count": 2
           },
           {
            "bin_start": 89400000,
            "bin_end": 99200000,
            "count": 1
           },
           {
            "bin_start": 99200000,
            "bin_end": 109000000,
            "count": 1
           },
           {
            "bin_start": 109000000,
            "bin_end": 118800000,
            "count": 0
           },
           {
            "bin_start": 118800000,
            "bin_end": 128600000,
            "count": 1
           },
           {
            "bin_start": 128600000,
            "bin_end": 138400000,
            "count": 1
           },
           {
            "bin_start": 138400000,
            "bin_end": 148200000,
            "count": 1
           },
           {
            "bin_start": 148200000,
            "bin_end": 158000000,
            "count": 2
           }
          ]
         }
        },
        {
         "name": "State and Local Government Construction Spending - Line",
         "dtype": "float64",
         "stats": {
          "unique_count": 14,
          "nan_count": 0,
          "min": "414000000.0",
          "max": "737000000.0",
          "histogram": [
           {
            "bin_start": 414000000,
            "bin_end": 446300000,
            "count": 2
           },
           {
            "bin_start": 446300000,
            "bin_end": 478600000,
            "count": 0
           },
           {
            "bin_start": 478600000,
            "bin_end": 510900000,
            "count": 1
           },
           {
            "bin_start": 510900000,
            "bin_end": 543200000,
            "count": 4
           },
           {
            "bin_start": 543200000,
            "bin_end": 575500000,
            "count": 0
           },
           {
            "bin_start": 575500000,
            "bin_end": 607800000,
            "count": 1
           },
           {
            "bin_start": 607800000,
            "bin_end": 640100000,
            "count": 0
           },
           {
            "bin_start": 640100000,
            "bin_end": 672400000,
            "count": 3
           },
           {
            "bin_start": 672400000,
            "bin_end": 704700000,
            "count": 2
           },
           {
            "bin_start": 704700000,
            "bin_end": 737000000,
            "count": 2
           }
          ]
         }
        },
        {
         "name": "State and Local Government Construction Spending - Water Treatment Plant",
         "dtype": "float64",
         "stats": {
          "unique_count": 13,
          "nan_count": 0,
          "min": "355000000.0",
          "max": "485000000.0",
          "histogram": [
           {
            "bin_start": 355000000,
            "bin_end": 368000000,
            "count": 1
           },
           {
            "bin_start": 368000000,
            "bin_end": 381000000,
            "count": 0
           },
           {
            "bin_start": 381000000,
            "bin_end": 394000000,
            "count": 1
           },
           {
            "bin_start": 394000000,
            "bin_end": 407000000,
            "count": 0
           },
           {
            "bin_start": 407000000,
            "bin_end": 420000000,
            "count": 1
           },
           {
            "bin_start": 420000000,
            "bin_end": 433000000,
            "count": 5
           },
           {
            "bin_start": 433000000,
            "bin_end": 446000000,
            "count": 2
           },
           {
            "bin_start": 446000000,
            "bin_end": 459000000,
            "count": 3
           },
           {
            "bin_start": 459000000,
            "bin_end": 472000000,
            "count": 1
           },
           {
            "bin_start": 472000000,
            "bin_end": 485000000,
            "count": 1
           }
          ]
         }
        },
        {
         "name": "State and Local Government Construction Spending - Water Supply",
         "dtype": "float64",
         "stats": {
          "unique_count": 15,
          "nan_count": 0,
          "min": "947000000.0",
          "max": "1507000000.0",
          "histogram": [
           {
            "bin_start": 947000000,
            "bin_end": 1003000000,
            "count": 1
           },
           {
            "bin_start": 1003000000,
            "bin_end": 1059000000,
            "count": 1
           },
           {
            "bin_start": 1059000000,
            "bin_end": 1115000000,
            "count": 0
           },
           {
            "bin_start": 1115000000,
            "bin_end": 1171000000,
            "count": 1
           },
           {
            "bin_start": 1171000000,
            "bin_end": 1227000000,
            "count": 0
           },
           {
            "bin_start": 1227000000,
            "bin_end": 1283000000,
            "count": 3
           },
           {
            "bin_start": 1283000000,
            "bin_end": 1339000000,
            "count": 2
           },
           {
            "bin_start": 1339000000,
            "bin_end": 1395000000,
            "count": 2
           },
           {
            "bin_start": 1395000000,
            "bin_end": 1451000000,
            "count": 3
           },
           {
            "bin_start": 1451000000,
            "bin_end": 1507000000,
            "count": 2
           }
          ]
         }
        },
        {
         "name": "State and Local Government Construction Spending - Line/Drain",
         "dtype": "float64",
         "stats": {
          "unique_count": 15,
          "nan_count": 0,
          "min": "185000000.0",
          "max": "351000000.0",
          "histogram": [
           {
            "bin_start": 185000000,
            "bin_end": 201600000,
            "count": 2
           },
           {
            "bin_start": 201600000,
            "bin_end": 218200000,
            "count": 3
           },
           {
            "bin_start": 218200000,
            "bin_end": 234800000,
            "count": 1
           },
           {
            "bin_start": 234800000,
            "bin_end": 251400000,
            "count": 1
           },
           {
            "bin_start": 251400000,
            "bin_end": 268000000,
            "count": 0
           },
           {
            "bin_start": 268000000,
            "bin_end": 284600000,
            "count": 4
           },
           {
            "bin_start": 284600000,
            "bin_end": 301200000,
            "count": 2
           },
           {
            "bin_start": 301200000,
            "bin_end": 317800000,
            "count": 0
           },
           {
            "bin_start": 317800000,
            "bin_end": 334400000,
            "count": 1
           },
           {
            "bin_start": 334400000,
            "bin_end": 351000000,
            "count": 1
           }
          ]
         }
        },
        {
         "name": "State and Local Government Construction Spending - Waste Water Treatment Plant",
         "dtype": "float64",
         "stats": {
          "unique_count": 15,
          "nan_count": 0,
          "min": "557000000.0",
          "max": "789000000.0",
          "histogram": [
           {
            "bin_start": 557000000,
            "bin_end": 580200000,
            "count": 2
           },
           {
            "bin_start": 580200000,
            "bin_end": 603400000,
            "count": 0
           },
           {
            "bin_start": 603400000,
            "bin_end": 626600000,
            "count": 0
           },
           {
            "bin_start": 626600000,
            "bin_end": 649800000,
            "count": 0
           },
           {
            "bin_start": 649800000,
            "bin_end": 673000000,
            "count": 3
           },
           {
            "bin_start": 673000000,
            "bin_end": 696200000,
            "count": 1
           },
           {
            "bin_start": 696200000,
            "bin_end": 719400000,
            "count": 2
           },
           {
            "bin_start": 719400000,
            "bin_end": 742600000,
            "count": 3
           },
           {
            "bin_start": 742600000,
            "bin_end": 765800000,
            "count": 2
           },
           {
            "bin_start": 765800000,
            "bin_end": 789000000,
            "count": 2
           }
          ]
         }
        },
        {
         "name": "State and Local Government Construction Spending - Waste Water",
         "dtype": "float64",
         "stats": {
          "unique_count": 15,
          "nan_count": 0,
          "min": "761000000.0",
          "max": "1141000000.0",
          "histogram": [
           {
            "bin_start": 761000000,
            "bin_end": 799000000,
            "count": 2
           },
           {
            "bin_start": 799000000,
            "bin_end": 837000000,
            "count": 0
           },
           {
            "bin_start": 837000000,
            "bin_end": 875000000,
            "count": 1
           },
           {
            "bin_start": 875000000,
            "bin_end": 913000000,
            "count": 2
           },
           {
            "bin_start": 913000000,
            "bin_end": 951000000,
            "count": 1
           },
           {
            "bin_start": 951000000,
            "bin_end": 989000000,
            "count": 2
           },
           {
            "bin_start": 989000000,
            "bin_end": 1027000000,
            "count": 2
           },
           {
            "bin_start": 1027000000,
            "bin_end": 1065000000,
            "count": 3
           },
           {
            "bin_start": 1065000000,
            "bin_end": 1103000000,
            "count": 1
           },
           {
            "bin_start": 1103000000,
            "bin_end": 1141000000,
            "count": 1
           }
          ]
         }
        },
        {
         "name": "State and Local Government Construction Spending - Line/Pump Station",
         "dtype": "float64",
         "stats": {
          "unique_count": 15,
          "nan_count": 0,
          "min": "595000000.0",
          "max": "1115000000.0",
          "histogram": [
           {
            "bin_start": 595000000,
            "bin_end": 647000000,
            "count": 2
           },
           {
            "bin_start": 647000000,
            "bin_end": 699000000,
            "count": 0
           },
           {
            "bin_start": 699000000,
            "bin_end": 751000000,
            "count": 3
           },
           {
            "bin_start": 751000000,
            "bin_end": 803000000,
            "count": 2
           },
           {
            "bin_start": 803000000,
            "bin_end": 855000000,
            "count": 1
           },
           {
            "bin_start": 855000000,
            "bin_end": 907000000,
            "count": 0
           },
           {
            "bin_start": 907000000,
            "bin_end": 959000000,
            "count": 2
           },
           {
            "bin_start": 959000000,
            "bin_end": 1011000000,
            "count": 2
           },
           {
            "bin_start": 1011000000,
            "bin_end": 1063000000,
            "count": 2
           },
           {
            "bin_start": 1063000000,
            "bin_end": 1115000000,
            "count": 1
           }
          ]
         }
        },
        {
         "name": "State and Local Government Construction Spending - Sewage Treatment Plant",
         "dtype": "float64",
         "stats": {
          "unique_count": 14,
          "nan_count": 0,
          "min": "134000000.0",
          "max": "253000000.0",
          "histogram": [
           {
            "bin_start": 134000000,
            "bin_end": 145900000,
            "count": 3
           },
           {
            "bin_start": 145900000,
            "bin_end": 157800000,
            "count": 0
           },
           {
            "bin_start": 157800000,
            "bin_end": 169700000,
            "count": 0
           },
           {
            "bin_start": 169700000,
            "bin_end": 181600000,
            "count": 2
           },
           {
            "bin_start": 181600000,
            "bin_end": 193500000,
            "count": 2
           },
           {
            "bin_start": 193500000,
            "bin_end": 205400000,
            "count": 1
           },
           {
            "bin_start": 205400000,
            "bin_end": 217300000,
            "count": 0
           },
           {
            "bin_start": 217300000,
            "bin_end": 229200000,
            "count": 0
           },
           {
            "bin_start": 229200000,
            "bin_end": 241100000,
            "count": 3
           },
           {
            "bin_start": 241100000,
            "bin_end": 253000000,
            "count": 4
           }
          ]
         }
        },
        {
         "name": "State and Local Government Construction Spending - Sewage / Dry Waste",
         "dtype": "float64",
         "stats": {
          "unique_count": 15,
          "nan_count": 0,
          "min": "773000000.0",
          "max": "1383000000.0",
          "histogram": [
           {
            "bin_start": 773000000,
            "bin_end": 834000000,
            "count": 2
           },
           {
            "bin_start": 834000000,
            "bin_end": 895000000,
            "count": 1
           },
           {
            "bin_start": 895000000,
            "bin_end": 956000000,
            "count": 3
           },
           {
            "bin_start": 956000000,
            "bin_end": 1017000000,
            "count": 2
           },
           {
            "bin_start": 1017000000,
            "bin_end": 1078000000,
            "count": 0
           },
           {
            "bin_start": 1078000000,
            "bin_end": 1139000000,
            "count": 0
           },
           {
            "bin_start": 1139000000,
            "bin_end": 1200000000,
            "count": 2
           },
           {
            "bin_start": 1200000000,
            "bin_end": 1261000000,
            "count": 1
           },
           {
            "bin_start": 1261000000,
            "bin_end": 1322000000,
            "count": 3
           },
           {
            "bin_start": 1322000000,
            "bin_end": 1383000000,
            "count": 1
           }
          ]
         }
        },
        {
         "name": "State and Local Government Construction Spending - Sewage and Waste Disposal",
         "dtype": "float64",
         "stats": {
          "unique_count": 14,
          "nan_count": 0,
          "min": "1534000000.0",
          "max": "2524000000.0",
          "histogram": [
           {
            "bin_start": 1534000000,
            "bin_end": 1633000000,
            "count": 2
           },
           {
            "bin_start": 1633000000,
            "bin_end": 1732000000,
            "count": 1
           },
           {
            "bin_start": 1732000000,
            "bin_end": 1831000000,
            "count": 2
           },
           {
            "bin_start": 1831000000,
            "bin_end": 1930000000,
            "count": 1
           },
           {
            "bin_start": 1930000000,
            "bin_end": 2029000000,
            "count": 2
           },
           {
            "bin_start": 2029000000,
            "bin_end": 2128000000,
            "count": 0
           },
           {
            "bin_start": 2128000000,
            "bin_end": 2227000000,
            "count": 2
           },
           {
            "bin_start": 2227000000,
            "bin_end": 2326000000,
            "count": 2
           },
           {
            "bin_start": 2326000000,
            "bin_end": 2425000000,
            "count": 2
           },
           {
            "bin_start": 2425000000,
            "bin_end": 2524000000,
            "count": 1
           }
          ]
         }
        },
        {
         "name": "State and Local Government Construction Spending - Rest Facility",
         "dtype": "float64",
         "stats": {
          "unique_count": 13,
          "nan_count": 0,
          "min": "23000000.0",
          "max": "72000000.0",
          "histogram": [
           {
            "bin_start": 23000000,
            "bin_end": 27900000,
            "count": 3
           },
           {
            "bin_start": 27900000,
            "bin_end": 32800000,
            "count": 1
           },
           {
            "bin_start": 32800000,
            "bin_end": 37700000,
            "count": 0
           },
           {
            "bin_start": 37700000,
            "bin_end": 42600000,
            "count": 0
           },
           {
            "bin_start": 42600000,
            "bin_end": 47500000,
            "count": 0
           },
           {
            "bin_start": 47500000,
            "bin_end": 52400000,
            "count": 1
           },
           {
            "bin_start": 52400000,
            "bin_end": 57300000,
            "count": 2
           },
           {
            "bin_start": 57300000,
            "bin_end": 62200000,
            "count": 2
           },
           {
            "bin_start": 62200000,
            "bin_end": 67100000,
            "count": 3
           },
           {
            "bin_start": 67100000,
            "bin_end": 72000000,
            "count": 3
           }
          ]
         }
        },
        {
         "name": "State and Local Government Construction Spending - Bridge",
         "dtype": "float64",
         "stats": {
          "unique_count": 14,
          "nan_count": 0,
          "min": "1293000000.0",
          "max": "2738000000.0",
          "histogram": [
           {
            "bin_start": 1293000000,
            "bin_end": 1437500000,
            "count": 3
           },
           {
            "bin_start": 1437500000,
            "bin_end": 1582000000,
            "count": 2
           },
           {
            "bin_start": 1582000000,
            "bin_end": 1726500000,
            "count": 1
           },
           {
            "bin_start": 1726500000,
            "bin_end": 1871000000,
            "count": 0
           },
           {
            "bin_start": 1871000000,
            "bin_end": 2015500000,
            "count": 2
           },
           {
            "bin_start": 2015500000,
            "bin_end": 2160000000,
            "count": 0
           },
           {
            "bin_start": 2160000000,
            "bin_end": 2304500000,
            "count": 1
           },
           {
            "bin_start": 2304500000,
            "bin_end": 2449000000,
            "count": 2
           },
           {
            "bin_start": 2449000000,
            "bin_end": 2593500000,
            "count": 1
           },
           {
            "bin_start": 2593500000,
            "bin_end": 2738000000,
            "count": 3
           }
          ]
         }
        },
        {
         "name": "State and Local Government Construction Spending - Lighting",
         "dtype": "float64",
         "stats": {
          "unique_count": 15,
          "nan_count": 0,
          "min": "122000000.0",
          "max": "256000000.0",
          "histogram": [
           {
            "bin_start": 122000000,
            "bin_end": 135400000,
            "count": 1
           },
           {
            "bin_start": 135400000,
            "bin_end": 148800000,
            "count": 0
           },
           {
            "bin_start": 148800000,
            "bin_end": 162200000,
            "count": 1
           },
           {
            "bin_start": 162200000,
            "bin_end": 175600000,
            "count": 0
           },
           {
            "bin_start": 175600000,
            "bin_end": 189000000,
            "count": 0
           },
           {
            "bin_start": 189000000,
            "bin_end": 202400000,
            "count": 3
           },
           {
            "bin_start": 202400000,
            "bin_end": 215800000,
            "count": 4
           },
           {
            "bin_start": 215800000,
            "bin_end": 229200000,
            "count": 4
           },
           {
            "bin_start": 229200000,
            "bin_end": 242600000,
            "count": 1
           },
           {
            "bin_start": 242600000,
            "bin_end": 256000000,
            "count": 1
           }
          ]
         }
        },
        {
         "name": "State and Local Government Construction Spending - Pavement",
         "dtype": "float64",
         "stats": {
          "unique_count": 15,
          "nan_count": 0,
          "min": "2600000000.0",
          "max": "8021000000.0",
          "histogram": [
           {
            "bin_start": 2600000000,
            "bin_end": 3142100000,
            "count": 2
           },
           {
            "bin_start": 3142100000,
            "bin_end": 3684200000,
            "count": 4
           },
           {
            "bin_start": 3684200000,
            "bin_end": 4226300000,
            "count": 1
           },
           {
            "bin_start": 4226300000,
            "bin_end": 4768400000,
            "count": 0
           },
           {
            "bin_start": 4768400000,
            "bin_end": 5310500000,
            "count": 2
           },
           {
            "bin_start": 5310500000,
            "bin_end": 5852600000,
            "count": 0
           },
           {
            "bin_start": 5852600000,
            "bin_end": 6394700000,
            "count": 1
           },
           {
            "bin_start": 6394700000,
            "bin_end": 6936800000,
            "count": 1
           },
           {
            "bin_start": 6936800000,
            "bin_end": 7478900000,
            "count": 1
           },
           {
            "bin_start": 7478900000,
            "bin_end": 8021000000,
            "count": 3
           }
          ]
         }
        },
        {
         "name": "State and Local Government Construction Spending - Highway and Street",
         "dtype": "float64",
         "stats": {
          "unique_count": 15,
          "nan_count": 0,
          "min": "4450000000.0",
          "max": "11132000000.0",
          "histogram": [
           {
            "bin_start": 4450000000,
            "bin_end": 5118200000,
            "count": 3
           },
           {
            "bin_start": 5118200000,
            "bin_end": 5786400000,
            "count": 3
           },
           {
            "bin_start": 5786400000,
            "bin_end": 6454600000,
            "count": 1
           },
           {
            "bin_start": 6454600000,
            "bin_end": 7122800000,
            "count": 0
           },
           {
            "bin_start": 7122800000,
            "bin_end": 7791000000,
            "count": 1
           },
           {
            "bin_start": 7791000000,
            "bin_end": 8459200000,
            "count": 1
           },
           {
            "bin_start": 8459200000,
            "bin_end": 9127400000,
            "count": 0
           },
           {
            "bin_start": 9127400000,
            "bin_end": 9795600000,
            "count": 2
           },
           {
            "bin_start": 9795600000,
            "bin_end": 10463800000,
            "count": 1
           },
           {
            "bin_start": 10463800000,
            "bin_end": 11132000000,
            "count": 3
           }
          ]
         }
        },
        {
         "name": "State and Local Government Construction Spending - Power",
         "dtype": "float64",
         "stats": {
          "unique_count": 15,
          "nan_count": 0,
          "min": "396000000.0",
          "max": "702000000.0",
          "histogram": [
           {
            "bin_start": 396000000,
            "bin_end": 426600000,
            "count": 1
           },
           {
            "bin_start": 426600000,
            "bin_end": 457200000,
            "count": 1
           },
           {
            "bin_start": 457200000,
            "bin_end": 487800000,
            "count": 1
           },
           {
            "bin_start": 487800000,
            "bin_end": 518400000,
            "count": 0
           },
           {
            "bin_start": 518400000,
            "bin_end": 549000000,
            "count": 1
           },
           {
            "bin_start": 549000000,
            "bin_end": 579600000,
            "count": 0
           },
           {
            "bin_start": 579600000,
            "bin_end": 610200000,
            "count": 3
           },
           {
            "bin_start": 610200000,
            "bin_end": 640800000,
            "count": 5
           },
           {
            "bin_start": 640800000,
            "bin_end": 671400000,
            "count": 0
           },
           {
            "bin_start": 671400000,
            "bin_end": 702000000,
            "count": 3
           }
          ]
         }
        },
        {
         "name": "State and Local Government Construction Spending - Dock / Marina",
         "dtype": "float64",
         "stats": {
          "unique_count": 14,
          "nan_count": 0,
          "min": "172000000.0",
          "max": "231000000.0",
          "histogram": [
           {
            "bin_start": 172000000,
            "bin_end": 177900000,
            "count": 1
           },
           {
            "bin_start": 177900000,
            "bin_end": 183800000,
            "count": 1
           },
           {
            "bin_start": 183800000,
            "bin_end": 189700000,
            "count": 0
           },
           {
            "bin_start": 189700000,
            "bin_end": 195600000,
            "count": 0
           },
           {
            "bin_start": 195600000,
            "bin_end": 201500000,
            "count": 1
           },
           {
            "bin_start": 201500000,
            "bin_end": 207400000,
            "count": 3
           },
           {
            "bin_start": 207400000,
            "bin_end": 213300000,
            "count": 2
           },
           {
            "bin_start": 213300000,
            "bin_end": 219200000,
            "count": 3
           },
           {
            "bin_start": 219200000,
            "bin_end": 225100000,
            "count": 1
           },
           {
            "bin_start": 225100000,
            "bin_end": 231000000,
            "count": 3
           }
          ]
         }
        },
        {
         "name": "State and Local Government Construction Spending - Water",
         "dtype": "float64",
         "stats": {
          "unique_count": 12,
          "nan_count": 0,
          "min": "187000000.0",
          "max": "259000000.0",
          "histogram": [
           {
            "bin_start": 187000000,
            "bin_end": 194200000,
            "count": 1
           },
           {
            "bin_start": 194200000,
            "bin_end": 201400000,
            "count": 1
           },
           {
            "bin_start": 201400000,
            "bin_end": 208600000,
            "count": 0
           },
           {
            "bin_start": 208600000,
            "bin_end": 215800000,
            "count": 0
           },
           {
            "bin_start": 215800000,
            "bin_end": 223000000,
            "count": 0
           },
           {
            "bin_start": 223000000,
            "bin_end": 230200000,
            "count": 7
           },
           {
            "bin_start": 230200000,
            "bin_end": 237400000,
            "count": 1
           },
           {
            "bin_start": 237400000,
            "bin_end": 244600000,
            "count": 2
           },
           {
            "bin_start": 244600000,
            "bin_end": 251800000,
            "count": 0
           },
           {
            "bin_start": 251800000,
            "bin_end": 259000000,
            "count": 3
           }
          ]
         }
        },
        {
         "name": "State and Local Government Construction Spending - Mass Transit",
         "dtype": "float64",
         "stats": {
          "unique_count": 15,
          "nan_count": 0,
          "min": "594000000.0",
          "max": "980000000.0",
          "histogram": [
           {
            "bin_start": 594000000,
            "bin_end": 632600000,
            "count": 1
           },
           {
            "bin_start": 632600000,
            "bin_end": 671200000,
            "count": 0
           },
           {
            "bin_start": 671200000,
            "bin_end": 709800000,
            "count": 0
           },
           {
            "bin_start": 709800000,
            "bin_end": 748400000,
            "count": 0
           },
           {
            "bin_start": 748400000,
            "bin_end": 787000000,
            "count": 1
           },
           {
            "bin_start": 787000000,
            "bin_end": 825600000,
            "count": 5
           },
           {
            "bin_start": 825600000,
            "bin_end": 864200000,
            "count": 0
           },
           {
            "bin_start": 864200000,
            "bin_end": 902800000,
            "count": 2
           },
           {
            "bin_start": 902800000,
            "bin_end": 941400000,
            "count": 3
           },
           {
            "bin_start": 941400000,
            "bin_end": 980000000,
            "count": 3
           }
          ]
         }
        },
        {
         "name": "State and Local Government Construction Spending - Land Passenger Terminal",
         "dtype": "float64",
         "stats": {
          "unique_count": 14,
          "nan_count": 0,
          "min": "98000000.0",
          "max": "236000000.0",
          "histogram": [
           {
            "bin_start": 98000000,
            "bin_end": 111800000,
            "count": 4
           },
           {
            "bin_start": 111800000,
            "bin_end": 125600000,
            "count": 1
           },
           {
            "bin_start": 125600000,
            "bin_end": 139400000,
            "count": 0
           },
           {
            "bin_start": 139400000,
            "bin_end": 153200000,
            "count": 1
           },
           {
            "bin_start": 153200000,
            "bin_end": 167000000,
            "count": 1
           },
           {
            "bin_start": 167000000,
            "bin_end": 180800000,
            "count": 1
           },
           {
            "bin_start": 180800000,
            "bin_end": 194600000,
            "count": 2
           },
           {
            "bin_start": 194600000,
            "bin_end": 208400000,
            "count": 2
           },
           {
            "bin_start": 208400000,
            "bin_end": 222200000,
            "count": 0
           },
           {
            "bin_start": 222200000,
            "bin_end": 236000000,
            "count": 3
           }
          ]
         }
        },
        {
         "name": "State and Local Government Construction Spending - Land",
         "dtype": "float64",
         "stats": {
          "unique_count": 15,
          "nan_count": 0,
          "min": "1107000000.0",
          "max": "1510000000.0",
          "histogram": [
           {
            "bin_start": 1107000000,
            "bin_end": 1147300000,
            "count": 1
           },
           {
            "bin_start": 1147300000,
            "bin_end": 1187600000,
            "count": 0
           },
           {
            "bin_start": 1187600000,
            "bin_end": 1227900000,
            "count": 0
           },
           {
            "bin_start": 1227900000,
            "bin_end": 1268200000,
            "count": 3
           },
           {
            "bin_start": 1268200000,
            "bin_end": 1308500000,
            "count": 1
           },
           {
            "bin_start": 1308500000,
            "bin_end": 1348800000,
            "count": 2
           },
           {
            "bin_start": 1348800000,
            "bin_end": 1389100000,
            "count": 1
           },
           {
            "bin_start": 1389100000,
            "bin_end": 1429400000,
            "count": 0
           },
           {
            "bin_start": 1429400000,
            "bin_end": 1469700000,
            "count": 4
           },
           {
            "bin_start": 1469700000,
            "bin_end": 1510000000,
            "count": 3
           }
          ]
         }
        },
        {
         "name": "State and Local Government Construction Spending - Runway",
         "dtype": "float64",
         "stats": {
          "unique_count": 15,
          "nan_count": 0,
          "min": "192000000.0",
          "max": "650000000.0",
          "histogram": [
           {
            "bin_start": 192000000,
            "bin_end": 237800000,
            "count": 2
           },
           {
            "bin_start": 237800000,
            "bin_end": 283600000,
            "count": 1
           },
           {
            "bin_start": 283600000,
            "bin_end": 329400000,
            "count": 5
           },
           {
            "bin_start": 329400000,
            "bin_end": 375200000,
            "count": 0
           },
           {
            "bin_start": 375200000,
            "bin_end": 421000000,
            "count": 1
           },
           {
            "bin_start": 421000000,
            "bin_end": 466800000,
            "count": 1
           },
           {
            "bin_start": 466800000,
            "bin_end": 512600000,
            "count": 2
           },
           {
            "bin_start": 512600000,
            "bin_end": 558400000,
            "count": 2
           },
           {
            "bin_start": 558400000,
            "bin_end": 604200000,
            "count": 0
           },
           {
            "bin_start": 604200000,
            "bin_end": 650000000,
            "count": 1
           }
          ]
         }
        },
        {
         "name": "State and Local Government Construction Spending - Air Passenger Terminal",
         "dtype": "float64",
         "stats": {
          "unique_count": 15,
          "nan_count": 0,
          "min": "827000000.0",
          "max": "1165000000.0",
          "histogram": [
           {
            "bin_start": 827000000,
            "bin_end": 860800000,
            "count": 3
           },
           {
            "bin_start": 860800000,
            "bin_end": 894600000,
            "count": 0
           },
           {
            "bin_start": 894600000,
            "bin_end": 928400000,
            "count": 0
           },
           {
            "bin_start": 928400000,
            "bin_end": 962200000,
            "count": 0
           },
           {
            "bin_start": 962200000,
            "bin_end": 996000000,
            "count": 1
           },
           {
            "bin_start": 996000000,
            "bin_end": 1029800000,
            "count": 2
           },
           {
            "bin_start": 1029800000,
            "bin_end": 1063600000,
            "count": 2
           },
           {
            "bin_start": 1063600000,
            "bin_end": 1097400000,
            "count": 3
           },
           {
            "bin_start": 1097400000,
            "bin_end": 1131200000,
            "count": 1
           },
           {
            "bin_start": 1131200000,
            "bin_end": 1165000000,
            "count": 3
           }
          ]
         }
        },
        {
         "name": "State and Local Government Construction Spending - Air",
         "dtype": "float64",
         "stats": {
          "unique_count": 15,
          "nan_count": 0,
          "min": "1066000000.0",
          "max": "1877000000.0",
          "histogram": [
           {
            "bin_start": 1066000000,
            "bin_end": 1147100000,
            "count": 2
           },
           {
            "bin_start": 1147100000,
            "bin_end": 1228200000,
            "count": 1
           },
           {
            "bin_start": 1228200000,
            "bin_end": 1309300000,
            "count": 0
           },
           {
            "bin_start": 1309300000,
            "bin_end": 1390400000,
            "count": 2
           },
           {
            "bin_start": 1390400000,
            "bin_end": 1471500000,
            "count": 1
           },
           {
            "bin_start": 1471500000,
            "bin_end": 1552600000,
            "count": 1
           },
           {
            "bin_start": 1552600000,
            "bin_end": 1633700000,
            "count": 3
           },
           {
            "bin_start": 1633700000,
            "bin_end": 1714800000,
            "count": 1
           },
           {
            "bin_start": 1714800000,
            "bin_end": 1795900000,
            "count": 3
           },
           {
            "bin_start": 1795900000,
            "bin_end": 1877000000,
            "count": 1
           }
          ]
         }
        },
        {
         "name": "State and Local Government Construction Spending - Transportation",
         "dtype": "float64",
         "stats": {
          "unique_count": 15,
          "nan_count": 0,
          "min": "2420000000.0",
          "max": "3645000000.0",
          "histogram": [
           {
            "bin_start": 2420000000,
            "bin_end": 2542500000,
            "count": 2
           },
           {
            "bin_start": 2542500000,
            "bin_end": 2665000000,
            "count": 0
           },
           {
            "bin_start": 2665000000,
            "bin_end": 2787500000,
            "count": 1
           },
           {
            "bin_start": 2787500000,
            "bin_end": 2910000000,
            "count": 2
           },
           {
            "bin_start": 2910000000,
            "bin_end": 3032500000,
            "count": 1
           },
           {
            "bin_start": 3032500000,
            "bin_end": 3155000000,
            "count": 2
           },
           {
            "bin_start": 3155000000,
            "bin_end": 3277500000,
            "count": 1
           },
           {
            "bin_start": 3277500000,
            "bin_end": 3400000000,
            "count": 2
           },
           {
            "bin_start": 3400000000,
            "bin_end": 3522500000,
            "count": 3
           },
           {
            "bin_start": 3522500000,
            "bin_end": 3645000000,
            "count": 1
           }
          ]
         }
        },
        {
         "name": "State and Local Government Construction Spending - Park / Camp",
         "dtype": "float64",
         "stats": {
          "unique_count": 13,
          "nan_count": 0,
          "min": "305000000.0",
          "max": "487000000.0",
          "histogram": [
           {
            "bin_start": 305000000,
            "bin_end": 323200000,
            "count": 2
           },
           {
            "bin_start": 323200000,
            "bin_end": 341400000,
            "count": 0
           },
           {
            "bin_start": 341400000,
            "bin_end": 359600000,
            "count": 0
           },
           {
            "bin_start": 359600000,
            "bin_end": 377800000,
            "count": 3
           },
           {
            "bin_start": 377800000,
            "bin_end": 396000000,
            "count": 1
           },
           {
            "bin_start": 396000000,
            "bin_end": 414200000,
            "count": 2
           },
           {
            "bin_start": 414200000,
            "bin_end": 432400000,
            "count": 1
           },
           {
            "bin_start": 432400000,
            "bin_end": 450600000,
            "count": 0
           },
           {
            "bin_start": 450600000,
            "bin_end": 468800000,
            "count": 2
           },
           {
            "bin_start": 468800000,
            "bin_end": 487000000,
            "count": 4
           }
          ]
         }
        },
        {
         "name": "State and Local Government Construction Spending - Neighborhood Center",
         "dtype": "float64",
         "stats": {
          "unique_count": 15,
          "nan_count": 0,
          "min": "97000000.0",
          "max": "140000000.0",
          "histogram": [
           {
            "bin_start": 97000000,
            "bin_end": 101300000,
            "count": 3
           },
           {
            "bin_start": 101300000,
            "bin_end": 105600000,
            "count": 1
           },
           {
            "bin_start": 105600000,
            "bin_end": 109900000,
            "count": 1
           },
           {
            "bin_start": 109900000,
            "bin_end": 114200000,
            "count": 0
           },
           {
            "bin_start": 114200000,
            "bin_end": 118500000,
            "count": 1
           },
           {
            "bin_start": 118500000,
            "bin_end": 122800000,
            "count": 1
           },
           {
            "bin_start": 122800000,
            "bin_end": 127100000,
            "count": 2
           },
           {
            "bin_start": 127100000,
            "bin_end": 131400000,
            "count": 1
           },
           {
            "bin_start": 131400000,
            "bin_end": 135700000,
            "count": 2
           },
           {
            "bin_start": 135700000,
            "bin_end": 140000000,
            "count": 3
           }
          ]
         }
        },
        {
         "name": "State and Local Government Construction Spending - Social Center",
         "dtype": "float64",
         "stats": {
          "unique_count": 15,
          "nan_count": 0,
          "min": "111000000.0",
          "max": "172000000.0",
          "histogram": [
           {
            "bin_start": 111000000,
            "bin_end": 117100000,
            "count": 3
           },
           {
            "bin_start": 117100000,
            "bin_end": 123200000,
            "count": 1
           },
           {
            "bin_start": 123200000,
            "bin_end": 129300000,
            "count": 1
           },
           {
            "bin_start": 129300000,
            "bin_end": 135400000,
            "count": 1
           },
           {
            "bin_start": 135400000,
            "bin_end": 141500000,
            "count": 1
           },
           {
            "bin_start": 141500000,
            "bin_end": 147600000,
            "count": 1
           },
           {
            "bin_start": 147600000,
            "bin_end": 153700000,
            "count": 2
           },
           {
            "bin_start": 153700000,
            "bin_end": 159800000,
            "count": 2
           },
           {
            "bin_start": 159800000,
            "bin_end": 165900000,
            "count": 2
           },
           {
            "bin_start": 165900000,
            "bin_end": 172000000,
            "count": 1
           }
          ]
         }
        },
        {
         "name": "State and Local Government Construction Spending - Convention Center",
         "dtype": "float64",
         "stats": {
          "unique_count": 13,
          "nan_count": 0,
          "min": "120000000.0",
          "max": "239000000.0",
          "histogram": [
           {
            "bin_start": 120000000,
            "bin_end": 131900000,
            "count": 1
           },
           {
            "bin_start": 131900000,
            "bin_end": 143800000,
            "count": 0
           },
           {
            "bin_start": 143800000,
            "bin_end": 155700000,
            "count": 0
           },
           {
            "bin_start": 155700000,
            "bin_end": 167600000,
            "count": 2
           },
           {
            "bin_start": 167600000,
            "bin_end": 179500000,
            "count": 2
           },
           {
            "bin_start": 179500000,
            "bin_end": 191400000,
            "count": 1
           },
           {
            "bin_start": 191400000,
            "bin_end": 203300000,
            "count": 3
           },
           {
            "bin_start": 203300000,
            "bin_end": 215200000,
            "count": 1
           },
           {
            "bin_start": 215200000,
            "bin_end": 227100000,
            "count": 1
           },
           {
            "bin_start": 227100000,
            "bin_end": 239000000,
            "count": 4
           }
          ]
         }
        },
        {
         "name": "State and Local Government Construction Spending - Performance / Meeting Center",
         "dtype": "float64",
         "stats": {
          "unique_count": 14,
          "nan_count": 0,
          "min": "197000000.0",
          "max": "339000000.0",
          "histogram": [
           {
            "bin_start": 197000000,
            "bin_end": 211200000,
            "count": 1
           },
           {
            "bin_start": 211200000,
            "bin_end": 225400000,
            "count": 0
           },
           {
            "bin_start": 225400000,
            "bin_end": 239600000,
            "count": 0
           },
           {
            "bin_start": 239600000,
            "bin_end": 253800000,
            "count": 1
           },
           {
            "bin_start": 253800000,
            "bin_end": 268000000,
            "count": 2
           },
           {
            "bin_start": 268000000,
            "bin_end": 282200000,
            "count": 4
           },
           {
            "bin_start": 282200000,
            "bin_end": 296400000,
            "count": 1
           },
           {
            "bin_start": 296400000,
            "bin_end": 310600000,
            "count": 1
           },
           {
            "bin_start": 310600000,
            "bin_end": 324800000,
            "count": 3
           },
           {
            "bin_start": 324800000,
            "bin_end": 339000000,
            "count": 2
           }
          ]
         }
        },
        {
         "name": "State and Local Government Construction Spending - Sports",
         "dtype": "float64",
         "stats": {
          "unique_count": 15,
          "nan_count": 0,
          "min": "222000000.0",
          "max": "314000000.0",
          "histogram": [
           {
            "bin_start": 222000000,
            "bin_end": 231200000,
            "count": 1
           },
           {
            "bin_start": 231200000,
            "bin_end": 240400000,
            "count": 1
           },
           {
            "bin_start": 240400000,
            "bin_end": 249600000,
            "count": 1
           },
           {
            "bin_start": 249600000,
            "bin_end": 258800000,
            "count": 0
           },
           {
            "bin_start": 258800000,
            "bin_end": 268000000,
            "count": 1
           },
           {
            "bin_start": 268000000,
            "bin_end": 277200000,
            "count": 3
           },
           {
            "bin_start": 277200000,
            "bin_end": 286400000,
            "count": 2
           },
           {
            "bin_start": 286400000,
            "bin_end": 295600000,
            "count": 2
           },
           {
            "bin_start": 295600000,
            "bin_end": 304800000,
            "count": 1
           },
           {
            "bin_start": 304800000,
            "bin_end": 314000000,
            "count": 3
           }
          ]
         }
        },
        {
         "name": "State and Local Government Construction Spending - Amusement and Recreation",
         "dtype": "float64",
         "stats": {
          "unique_count": 15,
          "nan_count": 0,
          "min": "866000000.0",
          "max": "1325000000.0",
          "histogram": [
           {
            "bin_start": 866000000,
            "bin_end": 911900000,
            "count": 1
           },
           {
            "bin_start": 911900000,
            "bin_end": 957800000,
            "count": 0
           },
           {
            "bin_start": 957800000,
            "bin_end": 1003700000,
            "count": 1
           },
           {
            "bin_start": 1003700000,
            "bin_end": 1049600000,
            "count": 1
           },
           {
            "bin_start": 1049600000,
            "bin_end": 1095500000,
            "count": 3
           },
           {
            "bin_start": 1095500000,
            "bin_end": 1141400000,
            "count": 0
           },
           {
            "bin_start": 1141400000,
            "bin_end": 1187300000,
            "count": 2
           },
           {
            "bin_start": 1187300000,
            "bin_end": 1233200000,
            "count": 1
           },
           {
            "bin_start": 1233200000,
            "bin_end": 1279100000,
            "count": 1
           },
           {
            "bin_start": 1279100000,
            "bin_end": 1325000000,
            "count": 5
           }
          ]
         }
        },
        {
         "name": "State and Local Government Construction Spending - Fire & Rescue",
         "dtype": "float64",
         "stats": {
          "unique_count": 13,
          "nan_count": 0,
          "min": "165000000.0",
          "max": "245000000.0",
          "histogram": [
           {
            "bin_start": 165000000,
            "bin_end": 173000000,
            "count": 2
           },
           {
            "bin_start": 173000000,
            "bin_end": 181000000,
            "count": 1
           },
           {
            "bin_start": 181000000,
            "bin_end": 189000000,
            "count": 1
           },
           {
            "bin_start": 189000000,
            "bin_end": 197000000,
            "count": 2
           },
           {
            "bin_start": 197000000,
            "bin_end": 205000000,
            "count": 1
           },
           {
            "bin_start": 205000000,
            "bin_end": 213000000,
            "count": 0
           },
           {
            "bin_start": 213000000,
            "bin_end": 221000000,
            "count": 0
           },
           {
            "bin_start": 221000000,
            "bin_end": 229000000,
            "count": 4
           },
           {
            "bin_start": 229000000,
            "bin_end": 237000000,
            "count": 1
           },
           {
            "bin_start": 237000000,
            "bin_end": 245000000,
            "count": 3
           }
          ]
         }
        },
        {
         "name": "State and Local Government Construction Spending - Other Public Safety",
         "dtype": "float64",
         "stats": {
          "unique_count": 14,
          "nan_count": 0,
          "min": "207000000.0",
          "max": "305000000.0",
          "histogram": [
           {
            "bin_start": 207000000,
            "bin_end": 216800000,
            "count": 2
           },
           {
            "bin_start": 216800000,
            "bin_end": 226600000,
            "count": 1
           },
           {
            "bin_start": 226600000,
            "bin_end": 236400000,
            "count": 1
           },
           {
            "bin_start": 236400000,
            "bin_end": 246200000,
            "count": 3
           },
           {
            "bin_start": 246200000,
            "bin_end": 256000000,
            "count": 0
           },
           {
            "bin_start": 256000000,
            "bin_end": 265800000,
            "count": 0
           },
           {
            "bin_start": 265800000,
            "bin_end": 275600000,
            "count": 0
           },
           {
            "bin_start": 275600000,
            "bin_end": 285400000,
            "count": 3
           },
           {
            "bin_start": 285400000,
            "bin_end": 295200000,
            "count": 3
           },
           {
            "bin_start": 295200000,
            "bin_end": 305000000,
            "count": 2
           }
          ]
         }
        },
        {
         "name": "State and Local Government Construction Spending - Police & Sheriff",
         "dtype": "float64",
         "stats": {
          "unique_count": 15,
          "nan_count": 0,
          "min": "133000000.0",
          "max": "210000000.0",
          "histogram": [
           {
            "bin_start": 133000000,
            "bin_end": 140700000,
            "count": 2
           },
           {
            "bin_start": 140700000,
            "bin_end": 148400000,
            "count": 2
           },
           {
            "bin_start": 148400000,
            "bin_end": 156100000,
            "count": 0
           },
           {
            "bin_start": 156100000,
            "bin_end": 163800000,
            "count": 0
           },
           {
            "bin_start": 163800000,
            "bin_end": 171500000,
            "count": 1
           },
           {
            "bin_start": 171500000,
            "bin_end": 179200000,
            "count": 0
           },
           {
            "bin_start": 179200000,
            "bin_end": 186900000,
            "count": 2
           },
           {
            "bin_start": 186900000,
            "bin_end": 194600000,
            "count": 2
           },
           {
            "bin_start": 194600000,
            "bin_end": 202300000,
            "count": 3
           },
           {
            "bin_start": 202300000,
            "bin_end": 210000000,
            "count": 3
           }
          ]
         }
        },
        {
         "name": "State and Local Government Construction Spending - Detention",
         "dtype": "float64",
         "stats": {
          "unique_count": 13,
          "nan_count": 0,
          "min": "202000000.0",
          "max": "281000000.0",
          "histogram": [
           {
            "bin_start": 202000000,
            "bin_end": 209900000,
            "count": 1
           },
           {
            "bin_start": 209900000,
            "bin_end": 217800000,
            "count": 2
           },
           {
            "bin_start": 217800000,
            "bin_end": 225700000,
            "count": 0
           },
           {
            "bin_start": 225700000,
            "bin_end": 233600000,
            "count": 1
           },
           {
            "bin_start": 233600000,
            "bin_end": 241500000,
            "count": 1
           },
           {
            "bin_start": 241500000,
            "bin_end": 249400000,
            "count": 3
           },
           {
            "bin_start": 249400000,
            "bin_end": 257300000,
            "count": 3
           },
           {
            "bin_start": 257300000,
            "bin_end": 265200000,
            "count": 1
           },
           {
            "bin_start": 265200000,
            "bin_end": 273100000,
            "count": 2
           },
           {
            "bin_start": 273100000,
            "bin_end": 281000000,
            "count": 1
           }
          ]
         }
        },
        {
         "name": "State and Local Government Construction Spending - Correctional",
         "dtype": "float64",
         "stats": {
          "unique_count": 14,
          "nan_count": 0,
          "min": "335000000.0",
          "max": "488000000.0",
          "histogram": [
           {
            "bin_start": 335000000,
            "bin_end": 350300000,
            "count": 2
           },
           {
            "bin_start": 350300000,
            "bin_end": 365600000,
            "count": 1
           },
           {
            "bin_start": 365600000,
            "bin_end": 380900000,
            "count": 1
           },
           {
            "bin_start": 380900000,
            "bin_end": 396200000,
            "count": 0
           },
           {
            "bin_start": 396200000,
            "bin_end": 411500000,
            "count": 0
           },
           {
            "bin_start": 411500000,
            "bin_end": 426800000,
            "count": 1
           },
           {
            "bin_start": 426800000,
            "bin_end": 442100000,
            "count": 4
           },
           {
            "bin_start": 442100000,
            "bin_end": 457400000,
            "count": 3
           },
           {
            "bin_start": 457400000,
            "bin_end": 472700000,
            "count": 1
           },
           {
            "bin_start": 472700000,
            "bin_end": 488000000,
            "count": 2
           }
          ]
         }
        },
        {
         "name": "State and Local Government Construction Spending - Public Safety",
         "dtype": "float64",
         "stats": {
          "unique_count": 14,
          "nan_count": 0,
          "min": "544000000.0",
          "max": "794000000.0",
          "histogram": [
           {
            "bin_start": 544000000,
            "bin_end": 569000000,
            "count": 2
           },
           {
            "bin_start": 569000000,
            "bin_end": 594000000,
            "count": 1
           },
           {
            "bin_start": 594000000,
            "bin_end": 619000000,
            "count": 1
           },
           {
            "bin_start": 619000000,
            "bin_end": 644000000,
            "count": 0
           },
           {
            "bin_start": 644000000,
            "bin_end": 669000000,
            "count": 2
           },
           {
            "bin_start": 669000000,
            "bin_end": 694000000,
            "count": 1
           },
           {
            "bin_start": 694000000,
            "bin_end": 719000000,
            "count": 0
           },
           {
            "bin_start": 719000000,
            "bin_end": 744000000,
            "count": 4
           },
           {
            "bin_start": 744000000,
            "bin_end": 769000000,
            "count": 3
           },
           {
            "bin_start": 769000000,
            "bin_end": 794000000,
            "count": 1
           }
          ]
         }
        },
        {
         "name": "State and Local Government Construction Spending - Library / Archive",
         "dtype": "float64",
         "stats": {
          "unique_count": 14,
          "nan_count": 0,
          "min": "85000000.0",
          "max": "139000000.0",
          "histogram": [
           {
            "bin_start": 85000000,
            "bin_end": 90400000,
            "count": 1
           },
           {
            "bin_start": 90400000,
            "bin_end": 95800000,
            "count": 3
           },
           {
            "bin_start": 95800000,
            "bin_end": 101200000,
            "count": 0
           },
           {
            "bin_start": 101200000,
            "bin_end": 106600000,
            "count": 1
           },
           {
            "bin_start": 106600000,
            "bin_end": 112000000,
            "count": 2
           },
           {
            "bin_start": 112000000,
            "bin_end": 117400000,
            "count": 2
           },
           {
            "bin_start": 117400000,
            "bin_end": 122800000,
            "count": 2
           },
           {
            "bin_start": 122800000,
            "bin_end": 128200000,
            "count": 1
           },
           {
            "bin_start": 128200000,
            "bin_end": 133600000,
            "count": 1
           },
           {
            "bin_start": 133600000,
            "bin_end": 139000000,
            "count": 2
           }
          ]
         }
        },
        {
         "name": "State and Local Government Construction Spending - Other Educational",
         "dtype": "float64",
         "stats": {
          "unique_count": 15,
          "nan_count": 0,
          "min": "128000000.0",
          "max": "205000000.0",
          "histogram": [
           {
            "bin_start": 128000000,
            "bin_end": 135700000,
            "count": 1
           },
           {
            "bin_start": 135700000,
            "bin_end": 143400000,
            "count": 1
           },
           {
            "bin_start": 143400000,
            "bin_end": 151100000,
            "count": 3
           },
           {
            "bin_start": 151100000,
            "bin_end": 158800000,
            "count": 2
           },
           {
            "bin_start": 158800000,
            "bin_end": 166500000,
            "count": 1
           },
           {
            "bin_start": 166500000,
            "bin_end": 174200000,
            "count": 0
           },
           {
            "bin_start": 174200000,
            "bin_end": 181900000,
            "count": 2
           },
           {
            "bin_start": 181900000,
            "bin_end": 189600000,
            "count": 3
           },
           {
            "bin_start": 189600000,
            "bin_end": 197300000,
            "count": 1
           },
           {
            "bin_start": 197300000,
            "bin_end": 205000000,
            "count": 1
           }
          ]
         }
        },
        {
         "name": "State and Local Government Construction Spending - Infrastructure",
         "dtype": "float64",
         "stats": {
          "unique_count": 15,
          "nan_count": 0,
          "min": "95000000.0",
          "max": "180000000.0",
          "histogram": [
           {
            "bin_start": 95000000,
            "bin_end": 103500000,
            "count": 1
           },
           {
            "bin_start": 103500000,
            "bin_end": 112000000,
            "count": 2
           },
           {
            "bin_start": 112000000,
            "bin_end": 120500000,
            "count": 3
           },
           {
            "bin_start": 120500000,
            "bin_end": 129000000,
            "count": 3
           },
           {
            "bin_start": 129000000,
            "bin_end": 137500000,
            "count": 1
           },
           {
            "bin_start": 137500000,
            "bin_end": 146000000,
            "count": 0
           },
           {
            "bin_start": 146000000,
            "bin_end": 154500000,
            "count": 1
           },
           {
            "bin_start": 154500000,
            "bin_end": 163000000,
            "count": 2
           },
           {
            "bin_start": 163000000,
            "bin_end": 171500000,
            "count": 0
           },
           {
            "bin_start": 171500000,
            "bin_end": 180000000,
            "count": 2
           }
          ]
         }
        },
        {
         "name": "State and Local Government Construction Spending - Sports & Recreation",
         "dtype": "float64",
         "stats": {
          "unique_count": 14,
          "nan_count": 0,
          "min": "162000000.0",
          "max": "270000000.0",
          "histogram": [
           {
            "bin_start": 162000000,
            "bin_end": 172800000,
            "count": 2
           },
           {
            "bin_start": 172800000,
            "bin_end": 183600000,
            "count": 2
           },
           {
            "bin_start": 183600000,
            "bin_end": 194400000,
            "count": 0
           },
           {
            "bin_start": 194400000,
            "bin_end": 205200000,
            "count": 3
           },
           {
            "bin_start": 205200000,
            "bin_end": 216000000,
            "count": 2
           },
           {
            "bin_start": 216000000,
            "bin_end": 226800000,
            "count": 2
           },
           {
            "bin_start": 226800000,
            "bin_end": 237600000,
            "count": 0
           },
           {
            "bin_start": 237600000,
            "bin_end": 248400000,
            "count": 0
           },
           {
            "bin_start": 248400000,
            "bin_end": 259200000,
            "count": 2
           },
           {
            "bin_start": 259200000,
            "bin_end": 270000000,
            "count": 2
           }
          ]
         }
        },
        {
         "name": "State and Local Government Construction Spending - Dormitory",
         "dtype": "float64",
         "stats": {
          "unique_count": 14,
          "nan_count": 0,
          "min": "265000000.0",
          "max": "415000000.0",
          "histogram": [
           {
            "bin_start": 265000000,
            "bin_end": 280000000,
            "count": 2
           },
           {
            "bin_start": 280000000,
            "bin_end": 295000000,
            "count": 6
           },
           {
            "bin_start": 295000000,
            "bin_end": 310000000,
            "count": 0
           },
           {
            "bin_start": 310000000,
            "bin_end": 325000000,
            "count": 1
           },
           {
            "bin_start": 325000000,
            "bin_end": 340000000,
            "count": 2
           },
           {
            "bin_start": 340000000,
            "bin_end": 355000000,
            "count": 0
           },
           {
            "bin_start": 355000000,
            "bin_end": 370000000,
            "count": 2
           },
           {
            "bin_start": 370000000,
            "bin_end": 385000000,
            "count": 1
           },
           {
            "bin_start": 385000000,
            "bin_end": 400000000,
            "count": 0
           },
           {
            "bin_start": 400000000,
            "bin_end": 415000000,
            "count": 1
           }
          ]
         }
        },
        {
         "name": "State and Local Government Construction Spending - Instructional",
         "dtype": "float64",
         "stats": {
          "unique_count": 14,
          "nan_count": 0,
          "min": "1076000000.0",
          "max": "1323000000.0",
          "histogram": [
           {
            "bin_start": 1076000000,
            "bin_end": 1100700000,
            "count": 1
           },
           {
            "bin_start": 1100700000,
            "bin_end": 1125400000,
            "count": 4
           },
           {
            "bin_start": 1125400000,
            "bin_end": 1150100000,
            "count": 1
           },
           {
            "bin_start": 1150100000,
            "bin_end": 1174800000,
            "count": 1
           },
           {
            "bin_start": 1174800000,
            "bin_end": 1199500000,
            "count": 1
           },
           {
            "bin_start": 1199500000,
            "bin_end": 1224200000,
            "count": 0
           },
           {
            "bin_start": 1224200000,
            "bin_end": 1248900000,
            "count": 2
           },
           {
            "bin_start": 1248900000,
            "bin_end": 1273600000,
            "count": 1
           },
           {
            "bin_start": 1273600000,
            "bin_end": 1298300000,
            "count": 1
           },
           {
            "bin_start": 1298300000,
            "bin_end": 1323000000,
            "count": 3
           }
          ]
         }
        },
        {
         "name": "State and Local Government Construction Spending - Higher Education",
         "dtype": "float64",
         "stats": {
          "unique_count": 15,
          "nan_count": 0,
          "min": "1836000000.0",
          "max": "2410000000.0",
          "histogram": [
           {
            "bin_start": 1836000000,
            "bin_end": 1893400000,
            "count": 2
           },
           {
            "bin_start": 1893400000,
            "bin_end": 1950800000,
            "count": 2
           },
           {
            "bin_start": 1950800000,
            "bin_end": 2008200000,
            "count": 2
           },
           {
            "bin_start": 2008200000,
            "bin_end": 2065600000,
            "count": 1
           },
           {
            "bin_start": 2065600000,
            "bin_end": 2123000000,
            "count": 1
           },
           {
            "bin_start": 2123000000,
            "bin_end": 2180400000,
            "count": 1
           },
           {
            "bin_start": 2180400000,
            "bin_end": 2237800000,
            "count": 0
           },
           {
            "bin_start": 2237800000,
            "bin_end": 2295200000,
            "count": 2
           },
           {
            "bin_start": 2295200000,
            "bin_end": 2352600000,
            "count": 0
           },
           {
            "bin_start": 2352600000,
            "bin_end": 2410000000,
            "count": 4
           }
          ]
         }
        },
        {
         "name": "State and Local Government Construction Spending - High School",
         "dtype": "float64",
         "stats": {
          "unique_count": 15,
          "nan_count": 0,
          "min": "1638000000.0",
          "max": "3251000000.0",
          "histogram": [
           {
            "bin_start": 1638000000,
            "bin_end": 1799300000,
            "count": 3
           },
           {
            "bin_start": 1799300000,
            "bin_end": 1960600000,
            "count": 3
           },
           {
            "bin_start": 1960600000,
            "bin_end": 2121900000,
            "count": 2
           },
           {
            "bin_start": 2121900000,
            "bin_end": 2283200000,
            "count": 1
           },
           {
            "bin_start": 2283200000,
            "bin_end": 2444500000,
            "count": 1
           },
           {
            "bin_start": 2444500000,
            "bin_end": 2605800000,
            "count": 1
           },
           {
            "bin_start": 2605800000,
            "bin_end": 2767100000,
            "count": 2
           },
           {
            "bin_start": 2767100000,
            "bin_end": 2928400000,
            "count": 0
           },
           {
            "bin_start": 2928400000,
            "bin_end": 3089700000,
            "count": 0
           },
           {
            "bin_start": 3089700000,
            "bin_end": 3251000000,
            "count": 2
           }
          ]
         }
        },
        {
         "name": "State and Local Government Construction Spending - Middle School / Junior High",
         "dtype": "float64",
         "stats": {
          "unique_count": 14,
          "nan_count": 0,
          "min": "658000000.0",
          "max": "1279000000.0",
          "histogram": [
           {
            "bin_start": 658000000,
            "bin_end": 720100000,
            "count": 3
           },
           {
            "bin_start": 720100000,
            "bin_end": 782200000,
            "count": 2
           },
           {
            "bin_start": 782200000,
            "bin_end": 844300000,
            "count": 3
           },
           {
            "bin_start": 844300000,
            "bin_end": 906400000,
            "count": 2
           },
           {
            "bin_start": 906400000,
            "bin_end": 968500000,
            "count": 2
           },
           {
            "bin_start": 968500000,
            "bin_end": 1030600000,
            "count": 0
           },
           {
            "bin_start": 1030600000,
            "bin_end": 1092700000,
            "count": 0
           },
           {
            "bin_start": 1092700000,
            "bin_end": 1154800000,
            "count": 2
           },
           {
            "bin_start": 1154800000,
            "bin_end": 1216900000,
            "count": 0
           },
           {
            "bin_start": 1216900000,
            "bin_end": 1279000000,
            "count": 1
           }
          ]
         }
        },
        {
         "name": "State and Local Government Construction Spending - Elementary Schools",
         "dtype": "float64",
         "stats": {
          "unique_count": 15,
          "nan_count": 0,
          "min": "1037000000.0",
          "max": "1762000000.0",
          "histogram": [
           {
            "bin_start": 1037000000,
            "bin_end": 1109500000,
            "count": 2
           },
           {
            "bin_start": 1109500000,
            "bin_end": 1182000000,
            "count": 4
           },
           {
            "bin_start": 1182000000,
            "bin_end": 1254500000,
            "count": 1
           },
           {
            "bin_start": 1254500000,
            "bin_end": 1327000000,
            "count": 3
           },
           {
            "bin_start": 1327000000,
            "bin_end": 1399500000,
            "count": 1
           },
           {
            "bin_start": 1399500000,
            "bin_end": 1472000000,
            "count": 1
           },
           {
            "bin_start": 1472000000,
            "bin_end": 1544500000,
            "count": 0
           },
           {
            "bin_start": 1544500000,
            "bin_end": 1617000000,
            "count": 0
           },
           {
            "bin_start": 1617000000,
            "bin_end": 1689500000,
            "count": 2
           },
           {
            "bin_start": 1689500000,
            "bin_end": 1762000000,
            "count": 1
           }
          ]
         }
        },
        {
         "name": "State and Local Government Construction Spending - Primary/Secondary Schools",
         "dtype": "float64",
         "stats": {
          "unique_count": 15,
          "nan_count": 0,
          "min": "3473000000.0",
          "max": "6452000000.0",
          "histogram": [
           {
            "bin_start": 3473000000,
            "bin_end": 3770900000,
            "count": 3
           },
           {
            "bin_start": 3770900000,
            "bin_end": 4068800000,
            "count": 3
           },
           {
            "bin_start": 4068800000,
            "bin_end": 4366700000,
            "count": 2
           },
           {
            "bin_start": 4366700000,
            "bin_end": 4664600000,
            "count": 2
           },
           {
            "bin_start": 4664600000,
            "bin_end": 4962500000,
            "count": 1
           },
           {
            "bin_start": 4962500000,
            "bin_end": 5260400000,
            "count": 1
           },
           {
            "bin_start": 5260400000,
            "bin_end": 5558300000,
            "count": 0
           },
           {
            "bin_start": 5558300000,
            "bin_end": 5856200000,
            "count": 1
           },
           {
            "bin_start": 5856200000,
            "bin_end": 6154100000,
            "count": 1
           },
           {
            "bin_start": 6154100000,
            "bin_end": 6452000000,
            "count": 1
           }
          ]
         }
        },
        {
         "name": "State and Local Government Construction Spending - Educational",
         "dtype": "float64",
         "stats": {
          "unique_count": 15,
          "nan_count": 0,
          "min": "5505000000.0",
          "max": "9138000000.0",
          "histogram": [
           {
            "bin_start": 5505000000,
            "bin_end": 5868300000,
            "count": 2
           },
           {
            "bin_start": 5868300000,
            "bin_end": 6231600000,
            "count": 4
           },
           {
            "bin_start": 6231600000,
            "bin_end": 6594900000,
            "count": 2
           },
           {
            "bin_start": 6594900000,
            "bin_end": 6958200000,
            "count": 1
           },
           {
            "bin_start": 6958200000,
            "bin_end": 7321500000,
            "count": 1
           },
           {
            "bin_start": 7321500000,
            "bin_end": 7684800000,
            "count": 1
           },
           {
            "bin_start": 7684800000,
            "bin_end": 8048100000,
            "count": 1
           },
           {
            "bin_start": 8048100000,
            "bin_end": 8411400000,
            "count": 1
           },
           {
            "bin_start": 8411400000,
            "bin_end": 8774700000,
            "count": 0
           },
           {
            "bin_start": 8774700000,
            "bin_end": 9138000000,
            "count": 2
           }
          ]
         }
        },
        {
         "name": "State and Local Government Construction Spending - Special Care",
         "dtype": "float64",
         "stats": {
          "unique_count": 14,
          "nan_count": 0,
          "min": "47000000.0",
          "max": "99000000.0",
          "histogram": [
           {
            "bin_start": 47000000,
            "bin_end": 52200000,
            "count": 3
           },
           {
            "bin_start": 52200000,
            "bin_end": 57400000,
            "count": 1
           },
           {
            "bin_start": 57400000,
            "bin_end": 62600000,
            "count": 3
           },
           {
            "bin_start": 62600000,
            "bin_end": 67800000,
            "count": 0
           },
           {
            "bin_start": 67800000,
            "bin_end": 73000000,
            "count": 1
           },
           {
            "bin_start": 73000000,
            "bin_end": 78200000,
            "count": 3
           },
           {
            "bin_start": 78200000,
            "bin_end": 83400000,
            "count": 0
           },
           {
            "bin_start": 83400000,
            "bin_end": 88600000,
            "count": 2
           },
           {
            "bin_start": 88600000,
            "bin_end": 93800000,
            "count": 1
           },
           {
            "bin_start": 93800000,
            "bin_end": 99000000,
            "count": 1
           }
          ]
         }
        },
        {
         "name": "State and Local Government Construction Spending - Medical Building",
         "dtype": "float64",
         "stats": {
          "unique_count": 13,
          "nan_count": 0,
          "min": "108000000.0",
          "max": "165000000.0",
          "histogram": [
           {
            "bin_start": 108000000,
            "bin_end": 113700000,
            "count": 2
           },
           {
            "bin_start": 113700000,
            "bin_end": 119400000,
            "count": 0
           },
           {
            "bin_start": 119400000,
            "bin_end": 125100000,
            "count": 2
           },
           {
            "bin_start": 125100000,
            "bin_end": 130800000,
            "count": 2
           },
           {
            "bin_start": 130800000,
            "bin_end": 136500000,
            "count": 1
           },
           {
            "bin_start": 136500000,
            "bin_end": 142200000,
            "count": 1
           },
           {
            "bin_start": 142200000,
            "bin_end": 147900000,
            "count": 1
           },
           {
            "bin_start": 147900000,
            "bin_end": 153600000,
            "count": 2
           },
           {
            "bin_start": 153600000,
            "bin_end": 159300000,
            "count": 2
           },
           {
            "bin_start": 159300000,
            "bin_end": 165000000,
            "count": 2
           }
          ]
         }
        },
        {
         "name": "State and Local Government Construction Spending - Hospital",
         "dtype": "float64",
         "stats": {
          "unique_count": 14,
          "nan_count": 0,
          "min": "304000000.0",
          "max": "349000000.0",
          "histogram": [
           {
            "bin_start": 304000000,
            "bin_end": 308500000,
            "count": 1
           },
           {
            "bin_start": 308500000,
            "bin_end": 313000000,
            "count": 1
           },
           {
            "bin_start": 313000000,
            "bin_end": 317500000,
            "count": 2
           },
           {
            "bin_start": 317500000,
            "bin_end": 322000000,
            "count": 1
           },
           {
            "bin_start": 322000000,
            "bin_end": 326500000,
            "count": 1
           },
           {
            "bin_start": 326500000,
            "bin_end": 331000000,
            "count": 1
           },
           {
            "bin_start": 331000000,
            "bin_end": 335500000,
            "count": 1
           },
           {
            "bin_start": 335500000,
            "bin_end": 340000000,
            "count": 1
           },
           {
            "bin_start": 340000000,
            "bin_end": 344500000,
            "count": 2
           },
           {
            "bin_start": 344500000,
            "bin_end": 349000000,
            "count": 4
           }
          ]
         }
        },
        {
         "name": "State and Local Government Construction Spending - Health Care",
         "dtype": "float64",
         "stats": {
          "unique_count": 14,
          "nan_count": 0,
          "min": "478000000.0",
          "max": "598000000.0",
          "histogram": [
           {
            "bin_start": 478000000,
            "bin_end": 490000000,
            "count": 2
           },
           {
            "bin_start": 490000000,
            "bin_end": 502000000,
            "count": 1
           },
           {
            "bin_start": 502000000,
            "bin_end": 514000000,
            "count": 1
           },
           {
            "bin_start": 514000000,
            "bin_end": 526000000,
            "count": 0
           },
           {
            "bin_start": 526000000,
            "bin_end": 538000000,
            "count": 1
           },
           {
            "bin_start": 538000000,
            "bin_end": 550000000,
            "count": 3
           },
           {
            "bin_start": 550000000,
            "bin_end": 562000000,
            "count": 3
           },
           {
            "bin_start": 562000000,
            "bin_end": 574000000,
            "count": 3
           },
           {
            "bin_start": 574000000,
            "bin_end": 586000000,
            "count": 0
           },
           {
            "bin_start": 586000000,
            "bin_end": 598000000,
            "count": 1
           }
          ]
         }
        },
        {
         "name": "State and Local Government Construction Spending - Parking",
         "dtype": "float64",
         "stats": {
          "unique_count": 12,
          "nan_count": 0,
          "min": "63000000.0",
          "max": "114000000.0",
          "histogram": [
           {
            "bin_start": 63000000,
            "bin_end": 68100000,
            "count": 1
           },
           {
            "bin_start": 68100000,
            "bin_end": 73200000,
            "count": 1
           },
           {
            "bin_start": 73200000,
            "bin_end": 78300000,
            "count": 0
           },
           {
            "bin_start": 78300000,
            "bin_end": 83400000,
            "count": 4
           },
           {
            "bin_start": 83400000,
            "bin_end": 88500000,
            "count": 0
           },
           {
            "bin_start": 88500000,
            "bin_end": 93600000,
            "count": 3
           },
           {
            "bin_start": 93600000,
            "bin_end": 98700000,
            "count": 0
           },
           {
            "bin_start": 98700000,
            "bin_end": 103800000,
            "count": 2
           },
           {
            "bin_start": 103800000,
            "bin_end": 108900000,
            "count": 3
           },
           {
            "bin_start": 108900000,
            "bin_end": 114000000,
            "count": 1
           }
          ]
         }
        },
        {
         "name": "State and Local Government Construction Spending - Automotive",
         "dtype": "float64",
         "stats": {
          "unique_count": 11,
          "nan_count": 0,
          "min": "95000000.0",
          "max": "163000000.0",
          "histogram": [
           {
            "bin_start": 95000000,
            "bin_end": 101800000,
            "count": 1
           },
           {
            "bin_start": 101800000,
            "bin_end": 108600000,
            "count": 2
           },
           {
            "bin_start": 108600000,
            "bin_end": 115400000,
            "count": 0
           },
           {
            "bin_start": 115400000,
            "bin_end": 122200000,
            "count": 5
           },
           {
            "bin_start": 122200000,
            "bin_end": 129000000,
            "count": 0
           },
           {
            "bin_start": 129000000,
            "bin_end": 135800000,
            "count": 0
           },
           {
            "bin_start": 135800000,
            "bin_end": 142600000,
            "count": 1
           },
           {
            "bin_start": 142600000,
            "bin_end": 149400000,
            "count": 2
           },
           {
            "bin_start": 149400000,
            "bin_end": 156200000,
            "count": 3
           },
           {
            "bin_start": 156200000,
            "bin_end": 163000000,
            "count": 1
           }
          ]
         }
        },
        {
         "name": "State and Local Government Construction Spending - Commercial",
         "dtype": "float64",
         "stats": {
          "unique_count": 13,
          "nan_count": 0,
          "min": "166000000.0",
          "max": "226000000.0",
          "histogram": [
           {
            "bin_start": 166000000,
            "bin_end": 172000000,
            "count": 3
           },
           {
            "bin_start": 172000000,
            "bin_end": 178000000,
            "count": 0
           },
           {
            "bin_start": 178000000,
            "bin_end": 184000000,
            "count": 0
           },
           {
            "bin_start": 184000000,
            "bin_end": 190000000,
            "count": 1
           },
           {
            "bin_start": 190000000,
            "bin_end": 196000000,
            "count": 2
           },
           {
            "bin_start": 196000000,
            "bin_end": 202000000,
            "count": 2
           },
           {
            "bin_start": 202000000,
            "bin_end": 208000000,
            "count": 0
           },
           {
            "bin_start": 208000000,
            "bin_end": 214000000,
            "count": 2
           },
           {
            "bin_start": 214000000,
            "bin_end": 220000000,
            "count": 3
           },
           {
            "bin_start": 220000000,
            "bin_end": 226000000,
            "count": 2
           }
          ]
         }
        },
        {
         "name": "State and Local Government Construction Spending - Office",
         "dtype": "float64",
         "stats": {
          "unique_count": 15,
          "nan_count": 0,
          "min": "513000000.0",
          "max": "780000000.0",
          "histogram": [
           {
            "bin_start": 513000000,
            "bin_end": 539700000,
            "count": 2
           },
           {
            "bin_start": 539700000,
            "bin_end": 566400000,
            "count": 1
           },
           {
            "bin_start": 566400000,
            "bin_end": 593100000,
            "count": 0
           },
           {
            "bin_start": 593100000,
            "bin_end": 619800000,
            "count": 1
           },
           {
            "bin_start": 619800000,
            "bin_end": 646500000,
            "count": 0
           },
           {
            "bin_start": 646500000,
            "bin_end": 673200000,
            "count": 1
           },
           {
            "bin_start": 673200000,
            "bin_end": 699900000,
            "count": 3
           },
           {
            "bin_start": 699900000,
            "bin_end": 726600000,
            "count": 1
           },
           {
            "bin_start": 726600000,
            "bin_end": 753300000,
            "count": 3
           },
           {
            "bin_start": 753300000,
            "bin_end": 780000000,
            "count": 3
           }
          ]
         }
        },
        {
         "name": "State and Local Government Construction Spending - Non Residential",
         "dtype": "float64",
         "stats": {
          "unique_count": 15,
          "nan_count": 0,
          "min": "18316000000.0",
          "max": "32027000000.0",
          "histogram": [
           {
            "bin_start": 18316000000,
            "bin_end": 19687100000,
            "count": 2
           },
           {
            "bin_start": 19687100000,
            "bin_end": 21058200000,
            "count": 2
           },
           {
            "bin_start": 21058200000,
            "bin_end": 22429300000,
            "count": 2
           },
           {
            "bin_start": 22429300000,
            "bin_end": 23800400000,
            "count": 1
           },
           {
            "bin_start": 23800400000,
            "bin_end": 25171500000,
            "count": 1
           },
           {
            "bin_start": 25171500000,
            "bin_end": 26542600000,
            "count": 1
           },
           {
            "bin_start": 26542600000,
            "bin_end": 27913700000,
            "count": 1
           },
           {
            "bin_start": 27913700000,
            "bin_end": 29284800000,
            "count": 1
           },
           {
            "bin_start": 29284800000,
            "bin_end": 30655900000,
            "count": 2
           },
           {
            "bin_start": 30655900000,
            "bin_end": 32027000000,
            "count": 2
           }
          ]
         }
        },
        {
         "name": "State and Local Government Construction Spending - Multi Family",
         "dtype": "float64",
         "stats": {
          "unique_count": 15,
          "nan_count": 0,
          "min": "334000000.0",
          "max": "551000000.0",
          "histogram": [
           {
            "bin_start": 334000000,
            "bin_end": 355700000,
            "count": 2
           },
           {
            "bin_start": 355700000,
            "bin_end": 377400000,
            "count": 1
           },
           {
            "bin_start": 377400000,
            "bin_end": 399100000,
            "count": 0
           },
           {
            "bin_start": 399100000,
            "bin_end": 420800000,
            "count": 0
           },
           {
            "bin_start": 420800000,
            "bin_end": 442500000,
            "count": 2
           },
           {
            "bin_start": 442500000,
            "bin_end": 464200000,
            "count": 0
           },
           {
            "bin_start": 464200000,
            "bin_end": 485900000,
            "count": 1
           },
           {
            "bin_start": 485900000,
            "bin_end": 507600000,
            "count": 2
           },
           {
            "bin_start": 507600000,
            "bin_end": 529300000,
            "count": 4
           },
           {
            "bin_start": 529300000,
            "bin_end": 551000000,
            "count": 3
           }
          ]
         }
        },
        {
         "name": "State and Local Government Construction Spending - Residential",
         "dtype": "float64",
         "stats": {
          "unique_count": 15,
          "nan_count": 0,
          "min": "369000000.0",
          "max": "610000000.0",
          "histogram": [
           {
            "bin_start": 369000000,
            "bin_end": 393100000,
            "count": 1
           },
           {
            "bin_start": 393100000,
            "bin_end": 417200000,
            "count": 2
           },
           {
            "bin_start": 417200000,
            "bin_end": 441300000,
            "count": 0
           },
           {
            "bin_start": 441300000,
            "bin_end": 465400000,
            "count": 0
           },
           {
            "bin_start": 465400000,
            "bin_end": 489500000,
            "count": 1
           },
           {
            "bin_start": 489500000,
            "bin_end": 513600000,
            "count": 1
           },
           {
            "bin_start": 513600000,
            "bin_end": 537700000,
            "count": 2
           },
           {
            "bin_start": 537700000,
            "bin_end": 561800000,
            "count": 1
           },
           {
            "bin_start": 561800000,
            "bin_end": 585900000,
            "count": 2
           },
           {
            "bin_start": 585900000,
            "bin_end": 610000000,
            "count": 5
           }
          ]
         }
        },
        {
         "name": "State and Local Government Construction Spending - Total",
         "dtype": "float64",
         "stats": {
          "unique_count": 15,
          "nan_count": 0,
          "min": "18685000000.0",
          "max": "32614000000.0",
          "histogram": [
           {
            "bin_start": 18685000000,
            "bin_end": 20077900000,
            "count": 2
           },
           {
            "bin_start": 20077900000,
            "bin_end": 21470800000,
            "count": 2
           },
           {
            "bin_start": 21470800000,
            "bin_end": 22863700000,
            "count": 2
           },
           {
            "bin_start": 22863700000,
            "bin_end": 24256600000,
            "count": 1
           },
           {
            "bin_start": 24256600000,
            "bin_end": 25649500000,
            "count": 1
           },
           {
            "bin_start": 25649500000,
            "bin_end": 27042400000,
            "count": 1
           },
           {
            "bin_start": 27042400000,
            "bin_end": 28435300000,
            "count": 1
           },
           {
            "bin_start": 28435300000,
            "bin_end": 29828200000,
            "count": 1
           },
           {
            "bin_start": 29828200000,
            "bin_end": 31221100000,
            "count": 2
           },
           {
            "bin_start": 31221100000,
            "bin_end": 32614000000,
            "count": 2
           }
          ]
         }
        },
        {
         "name": "National Highway Construction Cost Index (NHCCI)",
         "dtype": "float64",
         "stats": {
          "unique_count": 5,
          "nan_count": 10,
          "min": "1.849188",
          "max": "1.971934754",
          "histogram": [
           {
            "bin_start": 1.849188,
            "bin_end": 1.8614626754,
            "count": 1
           },
           {
            "bin_start": 1.8614626754,
            "bin_end": 1.8737373508000001,
            "count": 0
           },
           {
            "bin_start": 1.8737373508000001,
            "bin_end": 1.8860120262,
            "count": 0
           },
           {
            "bin_start": 1.8860120262,
            "bin_end": 1.8982867016,
            "count": 0
           },
           {
            "bin_start": 1.8982867016,
            "bin_end": 1.910561377,
            "count": 0
           },
           {
            "bin_start": 1.910561377,
            "bin_end": 1.9228360524,
            "count": 1
           },
           {
            "bin_start": 1.9228360524,
            "bin_end": 1.9351107278000002,
            "count": 0
           },
           {
            "bin_start": 1.9351107278000002,
            "bin_end": 1.9473854032,
            "count": 0
           },
           {
            "bin_start": 1.9473854032,
            "bin_end": 1.9596600786,
            "count": 1
           },
           {
            "bin_start": 1.9596600786,
            "bin_end": 1.971934754,
            "count": 2
           }
          ]
         }
        },
        {
         "name": "Highway Fuel Price - On-highway Diesel",
         "dtype": "float64",
         "stats": {
          "unique_count": 15,
          "nan_count": 0,
          "min": "2.729",
          "max": "3.161",
          "histogram": [
           {
            "bin_start": 2.729,
            "bin_end": 2.7722,
            "count": 1
           },
           {
            "bin_start": 2.7722,
            "bin_end": 2.8154,
            "count": 0
           },
           {
            "bin_start": 2.8154,
            "bin_end": 2.8586,
            "count": 0
           },
           {
            "bin_start": 2.8586,
            "bin_end": 2.9018,
            "count": 0
           },
           {
            "bin_start": 2.9018,
            "bin_end": 2.9450000000000003,
            "count": 1
           },
           {
            "bin_start": 2.9450000000000003,
            "bin_end": 2.9882,
            "count": 1
           },
           {
            "bin_start": 2.9882,
            "bin_end": 3.0314,
            "count": 3
           },
           {
            "bin_start": 3.0314,
            "bin_end": 3.0746,
            "count": 5
           },
           {
            "bin_start": 3.0746,
            "bin_end": 3.1178,
            "count": 2
           },
           {
            "bin_start": 3.1178,
            "bin_end": 3.161,
            "count": 2
           }
          ]
         }
        },
        {
         "name": "Highway Fuel Price - Regular Gasoline",
         "dtype": "float64",
         "stats": {
          "unique_count": 15,
          "nan_count": 0,
          "min": "2.234",
          "max": "2.859",
          "histogram": [
           {
            "bin_start": 2.234,
            "bin_end": 2.2965,
            "count": 2
           },
           {
            "bin_start": 2.2965,
            "bin_end": 2.359,
            "count": 1
           },
           {
            "bin_start": 2.359,
            "bin_end": 2.4215,
            "count": 0
           },
           {
            "bin_start": 2.4215,
            "bin_end": 2.484,
            "count": 1
           },
           {
            "bin_start": 2.484,
            "bin_end": 2.5465,
            "count": 1
           },
           {
            "bin_start": 2.5465,
            "bin_end": 2.609,
            "count": 4
           },
           {
            "bin_start": 2.609,
            "bin_end": 2.6715,
            "count": 2
           },
           {
            "bin_start": 2.6715,
            "bin_end": 2.734,
            "count": 1
           },
           {
            "bin_start": 2.734,
            "bin_end": 2.7965,
            "count": 1
           },
           {
            "bin_start": 2.7965,
            "bin_end": 2.859,
            "count": 2
           }
          ]
         }
        },
        {
         "name": "Transportation Employment - Pipeline Transportation",
         "dtype": "float64",
         "stats": {
          "unique_count": 11,
          "nan_count": 0,
          "min": "50200.0",
          "max": "52300.0",
          "histogram": [
           {
            "bin_start": 50200,
            "bin_end": 50410,
            "count": 1
           },
           {
            "bin_start": 50410,
            "bin_end": 50620,
            "count": 1
           },
           {
            "bin_start": 50620,
            "bin_end": 50830,
            "count": 1
           },
           {
            "bin_start": 50830,
            "bin_end": 51040,
            "count": 1
           },
           {
            "bin_start": 51040,
            "bin_end": 51250,
            "count": 1
           },
           {
            "bin_start": 51250,
            "bin_end": 51460,
            "count": 0
           },
           {
            "bin_start": 51460,
            "bin_end": 51670,
            "count": 0
           },
           {
            "bin_start": 51670,
            "bin_end": 51880,
            "count": 4
           },
           {
            "bin_start": 51880,
            "bin_end": 52090,
            "count": 4
           },
           {
            "bin_start": 52090,
            "bin_end": 52300,
            "count": 2
           }
          ]
         }
        },
        {
         "name": "Transportation Employment - Water Transportation",
         "dtype": "float64",
         "stats": {
          "unique_count": 14,
          "nan_count": 0,
          "min": "63300.0",
          "max": "69400.0",
          "histogram": [
           {
            "bin_start": 63300,
            "bin_end": 63910,
            "count": 3
           },
           {
            "bin_start": 63910,
            "bin_end": 64520,
            "count": 0
           },
           {
            "bin_start": 64520,
            "bin_end": 65130,
            "count": 2
           },
           {
            "bin_start": 65130,
            "bin_end": 65740,
            "count": 2
           },
           {
            "bin_start": 65740,
            "bin_end": 66350,
            "count": 1
           },
           {
            "bin_start": 66350,
            "bin_end": 66960,
            "count": 0
           },
           {
            "bin_start": 66960,
            "bin_end": 67570,
            "count": 2
           },
           {
            "bin_start": 67570,
            "bin_end": 68180,
            "count": 2
           },
           {
            "bin_start": 68180,
            "bin_end": 68790,
            "count": 1
           },
           {
            "bin_start": 68790,
            "bin_end": 69400,
            "count": 2
           }
          ]
         }
        },
        {
         "name": "Transportation Employment - Rail Transportation",
         "dtype": "float64",
         "stats": {
          "unique_count": 15,
          "nan_count": 0,
          "min": "158400.0",
          "max": "182200.0",
          "histogram": [
           {
            "bin_start": 158400,
            "bin_end": 160780,
            "count": 3
           },
           {
            "bin_start": 160780,
            "bin_end": 163160,
            "count": 0
           },
           {
            "bin_start": 163160,
            "bin_end": 165540,
            "count": 2
           },
           {
            "bin_start": 165540,
            "bin_end": 167920,
            "count": 1
           },
           {
            "bin_start": 167920,
            "bin_end": 170300,
            "count": 1
           },
           {
            "bin_start": 170300,
            "bin_end": 172680,
            "count": 0
           },
           {
            "bin_start": 172680,
            "bin_end": 175060,
            "count": 2
           },
           {
            "bin_start": 175060,
            "bin_end": 177440,
            "count": 1
           },
           {
            "bin_start": 177440,
            "bin_end": 179820,
            "count": 2
           },
           {
            "bin_start": 179820,
            "bin_end": 182200,
            "count": 3
           }
          ]
         }
        },
        {
         "name": "Transportation Employment - Air Transportation",
         "dtype": "float64",
         "stats": {
          "unique_count": 14,
          "nan_count": 0,
          "min": "494900.0",
          "max": "516700.0",
          "histogram": [
           {
            "bin_start": 494900,
            "bin_end": 497080,
            "count": 1
           },
           {
            "bin_start": 497080,
            "bin_end": 499260,
            "count": 2
           },
           {
            "bin_start": 499260,
            "bin_end": 501440,
            "count": 1
           },
           {
            "bin_start": 501440,
            "bin_end": 503620,
            "count": 1
           },
           {
            "bin_start": 503620,
            "bin_end": 505800,
            "count": 0
           },
           {
            "bin_start": 505800,
            "bin_end": 507980,
            "count": 1
           },
           {
            "bin_start": 507980,
            "bin_end": 510160,
            "count": 4
           },
           {
            "bin_start": 510160,
            "bin_end": 512340,
            "count": 3
           },
           {
            "bin_start": 512340,
            "bin_end": 514520,
            "count": 1
           },
           {
            "bin_start": 514520,
            "bin_end": 516700,
            "count": 1
           }
          ]
         }
        },
        {
         "name": "Transportation Employment - Transit and ground passenger transportation",
         "dtype": "float64",
         "stats": {
          "unique_count": 15,
          "nan_count": 0,
          "min": "422600.0",
          "max": "515100.0",
          "histogram": [
           {
            "bin_start": 422600,
            "bin_end": 431850,
            "count": 2
           },
           {
            "bin_start": 431850,
            "bin_end": 441100,
            "count": 0
           },
           {
            "bin_start": 441100,
            "bin_end": 450350,
            "count": 0
           },
           {
            "bin_start": 450350,
            "bin_end": 459600,
            "count": 0
           },
           {
            "bin_start": 459600,
            "bin_end": 468850,
            "count": 0
           },
           {
            "bin_start": 468850,
            "bin_end": 478100,
            "count": 0
           },
           {
            "bin_start": 478100,
            "bin_end": 487350,
            "count": 0
           },
           {
            "bin_start": 487350,
            "bin_end": 496600,
            "count": 1
           },
           {
            "bin_start": 496600,
            "bin_end": 505850,
            "count": 5
           },
           {
            "bin_start": 505850,
            "bin_end": 515100,
            "count": 7
           }
          ]
         }
        },
        {
         "name": "Transportation Employment - Truck Transportation",
         "dtype": "float64",
         "stats": {
          "unique_count": 15,
          "nan_count": 0,
          "min": "1492200.0",
          "max": "1551300.0",
          "histogram": [
           {
            "bin_start": 1492200,
            "bin_end": 1498110,
            "count": 3
           },
           {
            "bin_start": 1498110,
            "bin_end": 1504020,
            "count": 1
           },
           {
            "bin_start": 1504020,
            "bin_end": 1509930,
            "count": 2
           },
           {
            "bin_start": 1509930,
            "bin_end": 1515840,
            "count": 0
           },
           {
            "bin_start": 1515840,
            "bin_end": 1521750,
            "count": 2
           },
           {
            "bin_start": 1521750,
            "bin_end": 1527660,
            "count": 0
           },
           {
            "bin_start": 1527660,
            "bin_end": 1533570,
            "count": 1
           },
           {
            "bin_start": 1533570,
            "bin_end": 1539480,
            "count": 1
           },
           {
            "bin_start": 1539480,
            "bin_end": 1545390,
            "count": 2
           },
           {
            "bin_start": 1545390,
            "bin_end": 1551300,
            "count": 3
           }
          ]
         }
        },
        {
         "name": "Personal Spending on Transportation - Transportation Services - Seasonally Adjusted",
         "dtype": "float64",
         "stats": {
          "unique_count": 5,
          "nan_count": 10,
          "min": "429121000000.0",
          "max": "461905000000.0",
          "histogram": [
           {
            "bin_start": 429121000000,
            "bin_end": 432399400000,
            "count": 1
           },
           {
            "bin_start": 432399400000,
            "bin_end": 435677800000,
            "count": 0
           },
           {
            "bin_start": 435677800000,
            "bin_end": 438956200000,
            "count": 0
           },
           {
            "bin_start": 438956200000,
            "bin_end": 442234600000,
            "count": 0
           },
           {
            "bin_start": 442234600000,
            "bin_end": 445513000000,
            "count": 1
           },
           {
            "bin_start": 445513000000,
            "bin_end": 448791400000,
            "count": 0
           },
           {
            "bin_start": 448791400000,
            "bin_end": 452069800000,
            "count": 1
           },
           {
            "bin_start": 452069800000,
            "bin_end": 455348200000,
            "count": 0
           },
           {
            "bin_start": 455348200000,
            "bin_end": 458626600000,
            "count": 0
           },
           {
            "bin_start": 458626600000,
            "bin_end": 461905000000,
            "count": 2
           }
          ]
         }
        },
        {
         "name": "Personal Spending on Transportation - Gasoline and Other Energy Goods - Seasonally Adjusted",
         "dtype": "float64",
         "stats": {
          "unique_count": 5,
          "nan_count": 10,
          "min": "414075000000.00006",
          "max": "450771000000.00006",
          "histogram": [
           {
            "bin_start": 414075000000.00006,
            "bin_end": 417744600000.00006,
            "count": 1
           },
           {
            "bin_start": 417744600000.00006,
            "bin_end": 421414200000.00006,
            "count": 0
           },
           {
            "bin_start": 421414200000.00006,
            "bin_end": 425083800000.00006,
            "count": 0
           },
           {
            "bin_start": 425083800000.00006,
            "bin_end": 428753400000.00006,
            "count": 0
           },
           {
            "bin_start": 428753400000.00006,
            "bin_end": 432423000000.00006,
            "count": 0
           },
           {
            "bin_start": 432423000000.00006,
            "bin_end": 436092600000.00006,
            "count": 0
           },
           {
            "bin_start": 436092600000.00006,
            "bin_end": 439762200000.00006,
            "count": 0
           },
           {
            "bin_start": 439762200000.00006,
            "bin_end": 443431800000.00006,
            "count": 1
           },
           {
            "bin_start": 443431800000.00006,
            "bin_end": 447101400000.00006,
            "count": 0
           },
           {
            "bin_start": 447101400000.00006,
            "bin_end": 450771000000.00006,
            "count": 3
           }
          ]
         }
        },
        {
         "name": "Personal Spending on Transportation - Motor Vehicles and Parts - Seasonally Adjusted",
         "dtype": "float64",
         "stats": {
          "unique_count": 5,
          "nan_count": 10,
          "min": "493010000000.0",
          "max": "537490000000.0",
          "histogram": [
           {
            "bin_start": 493010000000,
            "bin_end": 497458000000,
            "count": 1
           },
           {
            "bin_start": 497458000000,
            "bin_end": 501906000000,
            "count": 0
           },
           {
            "bin_start": 501906000000,
            "bin_end": 506354000000,
            "count": 0
           },
           {
            "bin_start": 506354000000,
            "bin_end": 510802000000,
            "count": 0
           },
           {
            "bin_start": 510802000000,
            "bin_end": 515250000000,
            "count": 1
           },
           {
            "bin_start": 515250000000,
            "bin_end": 519698000000,
            "count": 0
           },
           {
            "bin_start": 519698000000,
            "bin_end": 524146000000,
            "count": 1
           },
           {
            "bin_start": 524146000000,
            "bin_end": 528594000000,
            "count": 1
           },
           {
            "bin_start": 528594000000,
            "bin_end": 533042000000,
            "count": 0
           },
           {
            "bin_start": 533042000000,
            "bin_end": 537490000000,
            "count": 1
           }
          ]
         }
        },
        {
         "name": "Unemployment Rate - Seasonally Adjusted",
         "dtype": "float64",
         "stats": {
          "unique_count": 6,
          "nan_count": 0,
          "min": "0.035",
          "max": "0.044",
          "histogram": [
           {
            "bin_start": 0.035,
            "bin_end": 0.0359,
            "count": 3
           },
           {
            "bin_start": 0.0359,
            "bin_end": 0.0368,
            "count": 6
           },
           {
            "bin_start": 0.0368,
            "bin_end": 0.037700000000000004,
            "count": 2
           },
           {
            "bin_start": 0.037700000000000004,
            "bin_end": 0.0386,
            "count": 2
           },
           {
            "bin_start": 0.0386,
            "bin_end": 0.0395,
            "count": 0
           },
           {
            "bin_start": 0.0395,
            "bin_end": 0.0404,
            "count": 1
           },
           {
            "bin_start": 0.0404,
            "bin_end": 0.041299999999999996,
            "count": 0
           },
           {
            "bin_start": 0.041299999999999996,
            "bin_end": 0.0422,
            "count": 0
           },
           {
            "bin_start": 0.0422,
            "bin_end": 0.0431,
            "count": 0
           },
           {
            "bin_start": 0.0431,
            "bin_end": 0.044,
            "count": 1
           }
          ]
         }
        },
        {
         "name": "Labor Force Participation Rate - Seasonally Adjusted",
         "dtype": "float64",
         "stats": {
          "unique_count": 6,
          "nan_count": 0,
          "min": "0.627",
          "max": "0.634",
          "histogram": [
           {
            "bin_start": 0.627,
            "bin_end": 0.6277,
            "count": 1
           },
           {
            "bin_start": 0.6277,
            "bin_end": 0.6284,
            "count": 0
           },
           {
            "bin_start": 0.6284,
            "bin_end": 0.6291,
            "count": 3
           },
           {
            "bin_start": 0.6291,
            "bin_end": 0.6298,
            "count": 0
           },
           {
            "bin_start": 0.6298,
            "bin_end": 0.6305000000000001,
            "count": 0
           },
           {
            "bin_start": 0.6305000000000001,
            "bin_end": 0.6312,
            "count": 5
           },
           {
            "bin_start": 0.6312,
            "bin_end": 0.6319,
            "count": 0
           },
           {
            "bin_start": 0.6319,
            "bin_end": 0.6326,
            "count": 3
           },
           {
            "bin_start": 0.6326,
            "bin_end": 0.6333,
            "count": 1
           },
           {
            "bin_start": 0.6333,
            "bin_end": 0.634,
            "count": 2
           }
          ]
         }
        },
        {
         "name": "Unemployed - Seasonally Adjusted",
         "dtype": "float64",
         "stats": {
          "unique_count": 15,
          "nan_count": 0,
          "min": "5717000.0",
          "max": "7165000.0",
          "histogram": [
           {
            "bin_start": 5717000,
            "bin_end": 5861800,
            "count": 4
           },
           {
            "bin_start": 5861800,
            "bin_end": 6006600,
            "count": 7
           },
           {
            "bin_start": 6006600,
            "bin_end": 6151400,
            "count": 1
           },
           {
            "bin_start": 6151400,
            "bin_end": 6296200,
            "count": 1
           },
           {
            "bin_start": 6296200,
            "bin_end": 6441000,
            "count": 0
           },
           {
            "bin_start": 6441000,
            "bin_end": 6585800,
            "count": 1
           },
           {
            "bin_start": 6585800,
            "bin_end": 6730600,
            "count": 0
           },
           {
            "bin_start": 6730600,
            "bin_end": 6875400,
            "count": 0
           },
           {
            "bin_start": 6875400,
            "bin_end": 7020200,
            "count": 0
           },
           {
            "bin_start": 7020200,
            "bin_end": 7165000,
            "count": 1
           }
          ]
         }
        },
        {
         "name": "Real Gross Domestic Product - Seasonally Adjusted",
         "dtype": "float64",
         "stats": {
          "unique_count": 5,
          "nan_count": 10,
          "min": "18833195000000.0",
          "max": "19202310000000.0",
          "histogram": [
           {
            "bin_start": 18833195000000,
            "bin_end": 18870106500000,
            "count": 1
           },
           {
            "bin_start": 18870106500000,
            "bin_end": 18907018000000,
            "count": 0
           },
           {
            "bin_start": 18907018000000,
            "bin_end": 18943929500000,
            "count": 0
           },
           {
            "bin_start": 18943929500000,
            "bin_end": 18980841000000,
            "count": 1
           },
           {
            "bin_start": 18980841000000,
            "bin_end": 19017752500000,
            "count": 1
           },
           {
            "bin_start": 19017752500000,
            "bin_end": 19054664000000,
            "count": 0
           },
           {
            "bin_start": 19054664000000,
            "bin_end": 19091575500000,
            "count": 0
           },
           {
            "bin_start": 19091575500000,
            "bin_end": 19128487000000,
            "count": 1
           },
           {
            "bin_start": 19128487000000,
            "bin_end": 19165398500000,
            "count": 0
           },
           {
            "bin_start": 19165398500000,
            "bin_end": 19202310000000,
            "count": 1
           }
          ]
         }
        },
        {
         "name": "Passenger Rail Passengers",
         "dtype": "float64",
         "stats": {
          "unique_count": 15,
          "nan_count": 0,
          "min": "1130190.0",
          "max": "3108797.0",
          "histogram": [
           {
            "bin_start": 1130190,
            "bin_end": 1328050.7,
            "count": 1
           },
           {
            "bin_start": 1328050.7,
            "bin_end": 1525911.4,
            "count": 0
           },
           {
            "bin_start": 1525911.4,
            "bin_end": 1723772.1,
            "count": 0
           },
           {
            "bin_start": 1723772.1,
            "bin_end": 1921632.8,
            "count": 0
           },
           {
            "bin_start": 1921632.8,
            "bin_end": 2119493.5,
            "count": 0
           },
           {
            "bin_start": 2119493.5,
            "bin_end": 2317354.2,
            "count": 3
           },
           {
            "bin_start": 2317354.2,
            "bin_end": 2515214.9000000004,
            "count": 1
           },
           {
            "bin_start": 2515214.9000000004,
            "bin_end": 2713075.6,
            "count": 1
           },
           {
            "bin_start": 2713075.6,
            "bin_end": 2910936.3,
            "count": 6
           },
           {
            "bin_start": 2910936.3,
            "bin_end": 3108797,
            "count": 3
           }
          ]
         }
        },
        {
         "name": "Passenger Rail Passenger Miles",
         "dtype": "float64",
         "stats": {
          "unique_count": 15,
          "nan_count": 0,
          "min": "233377315.0",
          "max": "657244637.0",
          "histogram": [
           {
            "bin_start": 233377315,
            "bin_end": 275764047.2,
            "count": 1
           },
           {
            "bin_start": 275764047.2,
            "bin_end": 318150779.4,
            "count": 0
           },
           {
            "bin_start": 318150779.4,
            "bin_end": 360537511.6,
            "count": 0
           },
           {
            "bin_start": 360537511.6,
            "bin_end": 402924243.8,
            "count": 1
           },
           {
            "bin_start": 402924243.8,
            "bin_end": 445310976,
            "count": 2
           },
           {
            "bin_start": 445310976,
            "bin_end": 487697708.20000005,
            "count": 1
           },
           {
            "bin_start": 487697708.20000005,
            "bin_end": 530084440.40000004,
            "count": 4
           },
           {
            "bin_start": 530084440.40000004,
            "bin_end": 572471172.6,
            "count": 2
           },
           {
            "bin_start": 572471172.6,
            "bin_end": 614857904.8,
            "count": 1
           },
           {
            "bin_start": 614857904.8,
            "bin_end": 657244637,
            "count": 3
           }
          ]
         }
        },
        {
         "name": "Passenger Rail Total Train Miles",
         "dtype": "float64",
         "stats": {
          "unique_count": 15,
          "nan_count": 0,
          "min": "2997776.0",
          "max": "3566282.0",
          "histogram": [
           {
            "bin_start": 2997776,
            "bin_end": 3054626.6,
            "count": 1
           },
           {
            "bin_start": 3054626.6,
            "bin_end": 3111477.2,
            "count": 0
           },
           {
            "bin_start": 3111477.2,
            "bin_end": 3168327.8,
            "count": 1
           },
           {
            "bin_start": 3168327.8,
            "bin_end": 3225178.4,
            "count": 0
           },
           {
            "bin_start": 3225178.4,
            "bin_end": 3282029,
            "count": 0
           },
           {
            "bin_start": 3282029,
            "bin_end": 3338879.6,
            "count": 1
           },
           {
            "bin_start": 3338879.6,
            "bin_end": 3395730.2,
            "count": 2
           },
           {
            "bin_start": 3395730.2,
            "bin_end": 3452580.8,
            "count": 4
           },
           {
            "bin_start": 3452580.8,
            "bin_end": 3509431.4,
            "count": 2
           },
           {
            "bin_start": 3509431.4,
            "bin_end": 3566282,
            "count": 4
           }
          ]
         }
        },
        {
         "name": "Passenger Rail Employee Hours Worked",
         "dtype": "float64",
         "stats": {
          "unique_count": 15,
          "nan_count": 0,
          "min": "2877892.0",
          "max": "3314190.0",
          "histogram": [
           {
            "bin_start": 2877892,
            "bin_end": 2921521.8,
            "count": 2
           },
           {
            "bin_start": 2921521.8,
            "bin_end": 2965151.6,
            "count": 2
           },
           {
            "bin_start": 2965151.6,
            "bin_end": 3008781.4,
            "count": 0
           },
           {
            "bin_start": 3008781.4,
            "bin_end": 3052411.2,
            "count": 1
           },
           {
            "bin_start": 3052411.2,
            "bin_end": 3096041,
            "count": 2
           },
           {
            "bin_start": 3096041,
            "bin_end": 3139670.8,
            "count": 0
           },
           {
            "bin_start": 3139670.8,
            "bin_end": 3183300.6,
            "count": 2
           },
           {
            "bin_start": 3183300.6,
            "bin_end": 3226930.4,
            "count": 2
           },
           {
            "bin_start": 3226930.4,
            "bin_end": 3270560.2,
            "count": 2
           },
           {
            "bin_start": 3270560.2,
            "bin_end": 3314190,
            "count": 2
           }
          ]
         }
        },
        {
         "name": "Passenger Rail Yard Switching Miles",
         "dtype": "float64",
         "stats": {
          "unique_count": 15,
          "nan_count": 0,
          "min": "162151.0",
          "max": "207037.0",
          "histogram": [
           {
            "bin_start": 162151,
            "bin_end": 166639.6,
            "count": 2
           },
           {
            "bin_start": 166639.6,
            "bin_end": 171128.2,
            "count": 0
           },
           {
            "bin_start": 171128.2,
            "bin_end": 175616.8,
            "count": 0
           },
           {
            "bin_start": 175616.8,
            "bin_end": 180105.4,
            "count": 3
           },
           {
            "bin_start": 180105.4,
            "bin_end": 184594,
            "count": 2
           },
           {
            "bin_start": 184594,
            "bin_end": 189082.6,
            "count": 3
           },
           {
            "bin_start": 189082.6,
            "bin_end": 193571.2,
            "count": 2
           },
           {
            "bin_start": 193571.2,
            "bin_end": 198059.8,
            "count": 2
           },
           {
            "bin_start": 198059.8,
            "bin_end": 202548.4,
            "count": 0
           },
           {
            "bin_start": 202548.4,
            "bin_end": 207037,
            "count": 1
           }
          ]
         }
        },
        {
         "name": "Passenger Rail Total Reports",
         "dtype": "float64",
         "stats": {
          "unique_count": 1,
          "nan_count": 0,
          "min": "2.0",
          "max": "2.0",
          "histogram": [
           {
            "bin_start": 1.5,
            "bin_end": 1.6,
            "count": 0
           },
           {
            "bin_start": 1.6,
            "bin_end": 1.7,
            "count": 0
           },
           {
            "bin_start": 1.7,
            "bin_end": 1.8,
            "count": 0
           },
           {
            "bin_start": 1.8,
            "bin_end": 1.9,
            "count": 0
           },
           {
            "bin_start": 1.9,
            "bin_end": 2,
            "count": 0
           },
           {
            "bin_start": 2,
            "bin_end": 2.1,
            "count": 15
           },
           {
            "bin_start": 2.1,
            "bin_end": 2.2,
            "count": 0
           },
           {
            "bin_start": 2.2,
            "bin_end": 2.3,
            "count": 0
           },
           {
            "bin_start": 2.3,
            "bin_end": 2.4,
            "count": 0
           },
           {
            "bin_start": 2.4,
            "bin_end": 2.5,
            "count": 0
           }
          ]
         }
        },
        {
         "name": "U.S. Waterway Tonnage",
         "dtype": "float64",
         "stats": {
          "unique_count": 15,
          "nan_count": 0,
          "min": "39500000.0",
          "max": "54300000.0",
          "histogram": [
           {
            "bin_start": 39500000,
            "bin_end": 40980000,
            "count": 1
           },
           {
            "bin_start": 40980000,
            "bin_end": 42460000,
            "count": 0
           },
           {
            "bin_start": 42460000,
            "bin_end": 43940000,
            "count": 0
           },
           {
            "bin_start": 43940000,
            "bin_end": 45420000,
            "count": 1
           },
           {
            "bin_start": 45420000,
            "bin_end": 46900000,
            "count": 1
           },
           {
            "bin_start": 46900000,
            "bin_end": 48380000,
            "count": 2
           },
           {
            "bin_start": 48380000,
            "bin_end": 49860000,
            "count": 3
           },
           {
            "bin_start": 49860000,
            "bin_end": 51340000,
            "count": 4
           },
           {
            "bin_start": 51340000,
            "bin_end": 52820000,
            "count": 1
           },
           {
            "bin_start": 52820000,
            "bin_end": 54300000,
            "count": 2
           }
          ]
         }
        },
        {
         "name": "Amtrak On-time Performance",
         "dtype": "float64",
         "stats": {
          "unique_count": 14,
          "nan_count": 0,
          "min": "0.651",
          "max": "0.853",
          "histogram": [
           {
            "bin_start": 0.651,
            "bin_end": 0.6712,
            "count": 1
           },
           {
            "bin_start": 0.6712,
            "bin_end": 0.6914,
            "count": 0
           },
           {
            "bin_start": 0.6914,
            "bin_end": 0.7116,
            "count": 1
           },
           {
            "bin_start": 0.7116,
            "bin_end": 0.7318,
            "count": 1
           },
           {
            "bin_start": 0.7318,
            "bin_end": 0.752,
            "count": 0
           },
           {
            "bin_start": 0.752,
            "bin_end": 0.7722,
            "count": 6
           },
           {
            "bin_start": 0.7722,
            "bin_end": 0.7924,
            "count": 3
           },
           {
            "bin_start": 0.7924,
            "bin_end": 0.8126,
            "count": 0
           },
           {
            "bin_start": 0.8126,
            "bin_end": 0.8328,
            "count": 0
           },
           {
            "bin_start": 0.8328,
            "bin_end": 0.853,
            "count": 3
           }
          ]
         }
        },
        {
         "name": "Rail Fatalities",
         "dtype": "float64",
         "stats": {
          "unique_count": 13,
          "nan_count": 0,
          "min": "47.0",
          "max": "88.0",
          "histogram": [
           {
            "bin_start": 47,
            "bin_end": 51.1,
            "count": 1
           },
           {
            "bin_start": 51.1,
            "bin_end": 55.2,
            "count": 2
           },
           {
            "bin_start": 55.2,
            "bin_end": 59.3,
            "count": 2
           },
           {
            "bin_start": 59.3,
            "bin_end": 63.4,
            "count": 2
           },
           {
            "bin_start": 63.4,
            "bin_end": 67.5,
            "count": 2
           },
           {
            "bin_start": 67.5,
            "bin_end": 71.6,
            "count": 0
           },
           {
            "bin_start": 71.6,
            "bin_end": 75.69999999999999,
            "count": 1
           },
           {
            "bin_start": 75.69999999999999,
            "bin_end": 79.8,
            "count": 1
           },
           {
            "bin_start": 79.8,
            "bin_end": 83.9,
            "count": 1
           },
           {
            "bin_start": 83.9,
            "bin_end": 88,
            "count": 3
           }
          ]
         }
        },
        {
         "name": "Rail Fatalities at Highway-Rail Crossings",
         "dtype": "float64",
         "stats": {
          "unique_count": 11,
          "nan_count": 0,
          "min": "8.0",
          "max": "36.0",
          "histogram": [
           {
            "bin_start": 8,
            "bin_end": 10.8,
            "count": 1
           },
           {
            "bin_start": 10.8,
            "bin_end": 13.6,
            "count": 0
           },
           {
            "bin_start": 13.6,
            "bin_end": 16.4,
            "count": 1
           },
           {
            "bin_start": 16.4,
            "bin_end": 19.2,
            "count": 1
           },
           {
            "bin_start": 19.2,
            "bin_end": 22,
            "count": 4
           },
           {
            "bin_start": 22,
            "bin_end": 24.799999999999997,
            "count": 2
           },
           {
            "bin_start": 24.799999999999997,
            "bin_end": 27.599999999999998,
            "count": 2
           },
           {
            "bin_start": 27.599999999999998,
            "bin_end": 30.4,
            "count": 3
           },
           {
            "bin_start": 30.4,
            "bin_end": 33.2,
            "count": 0
           },
           {
            "bin_start": 33.2,
            "bin_end": 36,
            "count": 1
           }
          ]
         }
        },
        {
         "name": "Trespasser Fatalities Not at Highwaya-Rail Crossings",
         "dtype": "float64",
         "stats": {
          "unique_count": 13,
          "nan_count": 0,
          "min": "30.0",
          "max": "59.0",
          "histogram": [
           {
            "bin_start": 30,
            "bin_end": 32.9,
            "count": 1
           },
           {
            "bin_start": 32.9,
            "bin_end": 35.8,
            "count": 1
           },
           {
            "bin_start": 35.8,
            "bin_end": 38.7,
            "count": 4
           },
           {
            "bin_start": 38.7,
            "bin_end": 41.6,
            "count": 2
           },
           {
            "bin_start": 41.6,
            "bin_end": 44.5,
            "count": 1
           },
           {
            "bin_start": 44.5,
            "bin_end": 47.4,
            "count": 0
           },
           {
            "bin_start": 47.4,
            "bin_end": 50.3,
            "count": 3
           },
           {
            "bin_start": 50.3,
            "bin_end": 53.2,
            "count": 1
           },
           {
            "bin_start": 53.2,
            "bin_end": 56.099999999999994,
            "count": 0
           },
           {
            "bin_start": 56.099999999999994,
            "bin_end": 59,
            "count": 2
           }
          ]
         }
        },
        {
         "name": "Transportation Services Index - Freight",
         "dtype": "float64",
         "stats": {
          "unique_count": 13,
          "nan_count": 0,
          "min": "134.9",
          "max": "142.1",
          "histogram": [
           {
            "bin_start": 134.9,
            "bin_end": 135.62,
            "count": 1
           },
           {
            "bin_start": 135.62,
            "bin_end": 136.34,
            "count": 1
           },
           {
            "bin_start": 136.34,
            "bin_end": 137.06,
            "count": 2
           },
           {
            "bin_start": 137.06,
            "bin_end": 137.78,
            "count": 0
           },
           {
            "bin_start": 137.78,
            "bin_end": 138.5,
            "count": 4
           },
           {
            "bin_start": 138.5,
            "bin_end": 139.22,
            "count": 4
           },
           {
            "bin_start": 139.22,
            "bin_end": 139.94,
            "count": 1
           },
           {
            "bin_start": 139.94,
            "bin_end": 140.66,
            "count": 1
           },
           {
            "bin_start": 140.66,
            "bin_end": 141.38,
            "count": 0
           },
           {
            "bin_start": 141.38,
            "bin_end": 142.1,
            "count": 1
           }
          ]
         }
        },
        {
         "name": "Transportation Services Index - Passenger",
         "dtype": "float64",
         "stats": {
          "unique_count": 11,
          "nan_count": 0,
          "min": "68.8",
          "max": "137.0",
          "histogram": [
           {
            "bin_start": 68.8,
            "bin_end": 75.62,
            "count": 1
           },
           {
            "bin_start": 75.62,
            "bin_end": 82.44,
            "count": 0
           },
           {
            "bin_start": 82.44,
            "bin_end": 89.25999999999999,
            "count": 0
           },
           {
            "bin_start": 89.25999999999999,
            "bin_end": 96.08,
            "count": 0
           },
           {
            "bin_start": 96.08,
            "bin_end": 102.9,
            "count": 0
           },
           {
            "bin_start": 102.9,
            "bin_end": 109.72,
            "count": 0
           },
           {
            "bin_start": 109.72,
            "bin_end": 116.53999999999999,
            "count": 0
           },
           {
            "bin_start": 116.53999999999999,
            "bin_end": 123.36,
            "count": 0
           },
           {
            "bin_start": 123.36,
            "bin_end": 130.18,
            "count": 0
           },
           {
            "bin_start": 130.18,
            "bin_end": 137,
            "count": 14
           }
          ]
         }
        },
        {
         "name": "Transportation Services Index - Combined",
         "dtype": "float64",
         "stats": {
          "unique_count": 14,
          "nan_count": 0,
          "min": "109.0",
          "max": "139.6",
          "histogram": [
           {
            "bin_start": 109,
            "bin_end": 112.06,
            "count": 1
           },
           {
            "bin_start": 112.06,
            "bin_end": 115.12,
            "count": 0
           },
           {
            "bin_start": 115.12,
            "bin_end": 118.18,
            "count": 0
           },
           {
            "bin_start": 118.18,
            "bin_end": 121.24,
            "count": 0
           },
           {
            "bin_start": 121.24,
            "bin_end": 124.3,
            "count": 0
           },
           {
            "bin_start": 124.3,
            "bin_end": 127.36,
            "count": 0
           },
           {
            "bin_start": 127.36,
            "bin_end": 130.42,
            "count": 0
           },
           {
            "bin_start": 130.42,
            "bin_end": 133.48,
            "count": 0
           },
           {
            "bin_start": 133.48,
            "bin_end": 136.54,
            "count": 5
           },
           {
            "bin_start": 136.54,
            "bin_end": 139.6,
            "count": 9
           }
          ]
         }
        },
        {
         "name": "U.S.-Canada Incoming Person Crossings",
         "dtype": "float64",
         "stats": {
          "unique_count": 15,
          "nan_count": 0,
          "min": "8229.0",
          "max": "90021.0",
          "histogram": [
           {
            "bin_start": 8229,
            "bin_end": 16408.2,
            "count": 4
           },
           {
            "bin_start": 16408.2,
            "bin_end": 24587.4,
            "count": 4
           },
           {
            "bin_start": 24587.4,
            "bin_end": 32766.6,
            "count": 1
           },
           {
            "bin_start": 32766.6,
            "bin_end": 40945.8,
            "count": 0
           },
           {
            "bin_start": 40945.8,
            "bin_end": 49125,
            "count": 1
           },
           {
            "bin_start": 49125,
            "bin_end": 57304.2,
            "count": 1
           },
           {
            "bin_start": 57304.2,
            "bin_end": 65483.4,
            "count": 1
           },
           {
            "bin_start": 65483.4,
            "bin_end": 73662.6,
            "count": 1
           },
           {
            "bin_start": 73662.6,
            "bin_end": 81841.8,
            "count": 0
           },
           {
            "bin_start": 81841.8,
            "bin_end": 90021,
            "count": 2
           }
          ]
         }
        },
        {
         "name": "U.S.-Canada Incoming Truck Crossings",
         "dtype": "float64",
         "stats": {
          "unique_count": 15,
          "nan_count": 0,
          "min": "417733.0",
          "max": "507425.0",
          "histogram": [
           {
            "bin_start": 417733,
            "bin_end": 426702.2,
            "count": 1
           },
           {
            "bin_start": 426702.2,
            "bin_end": 435671.4,
            "count": 1
           },
           {
            "bin_start": 435671.4,
            "bin_end": 444640.6,
            "count": 1
           },
           {
            "bin_start": 444640.6,
            "bin_end": 453609.8,
            "count": 0
           },
           {
            "bin_start": 453609.8,
            "bin_end": 462579,
            "count": 3
           },
           {
            "bin_start": 462579,
            "bin_end": 471548.2,
            "count": 1
           },
           {
            "bin_start": 471548.2,
            "bin_end": 480517.4,
            "count": 2
           },
           {
            "bin_start": 480517.4,
            "bin_end": 489486.6,
            "count": 4
           },
           {
            "bin_start": 489486.6,
            "bin_end": 498455.8,
            "count": 0
           },
           {
            "bin_start": 498455.8,
            "bin_end": 507425,
            "count": 2
           }
          ]
         }
        },
        {
         "name": "U.S.-Mexico Incoming Person Crossings",
         "dtype": "float64",
         "stats": {
          "unique_count": 15,
          "nan_count": 0,
          "min": "2803401.0",
          "max": "4531122.0",
          "histogram": [
           {
            "bin_start": 2803401,
            "bin_end": 2976173.1,
            "count": 1
           },
           {
            "bin_start": 2976173.1,
            "bin_end": 3148945.2,
            "count": 0
           },
           {
            "bin_start": 3148945.2,
            "bin_end": 3321717.3,
            "count": 0
           },
           {
            "bin_start": 3321717.3,
            "bin_end": 3494489.4,
            "count": 1
           },
           {
            "bin_start": 3494489.4,
            "bin_end": 3667261.5,
            "count": 0
           },
           {
            "bin_start": 3667261.5,
            "bin_end": 3840033.6,
            "count": 1
           },
           {
            "bin_start": 3840033.6,
            "bin_end": 4012805.7,
            "count": 3
           },
           {
            "bin_start": 4012805.7,
            "bin_end": 4185577.8,
            "count": 5
           },
           {
            "bin_start": 4185577.8,
            "bin_end": 4358349.9,
            "count": 3
           },
           {
            "bin_start": 4358349.9,
            "bin_end": 4531122,
            "count": 1
           }
          ]
         }
        },
        {
         "name": "Air Safety - Air Taxi and Commuter Fatalities",
         "dtype": "float64",
         "stats": {
          "unique_count": 8,
          "nan_count": 0,
          "min": "0.0",
          "max": "14.0",
          "histogram": [
           {
            "bin_start": 0,
            "bin_end": 1.4,
            "count": 6
           },
           {
            "bin_start": 1.4,
            "bin_end": 2.8,
            "count": 2
           },
           {
            "bin_start": 2.8,
            "bin_end": 4.199999999999999,
            "count": 3
           },
           {
            "bin_start": 4.199999999999999,
            "bin_end": 5.6,
            "count": 1
           },
           {
            "bin_start": 5.6,
            "bin_end": 7,
            "count": 0
           },
           {
            "bin_start": 7,
            "bin_end": 8.399999999999999,
            "count": 0
           },
           {
            "bin_start": 8.399999999999999,
            "bin_end": 9.799999999999999,
            "count": 1
           },
           {
            "bin_start": 9.799999999999999,
            "bin_end": 11.2,
            "count": 1
           },
           {
            "bin_start": 11.2,
            "bin_end": 12.6,
            "count": 0
           },
           {
            "bin_start": 12.6,
            "bin_end": 14,
            "count": 1
           }
          ]
         }
        },
        {
         "name": "Heavy truck sales",
         "dtype": "float64",
         "stats": {
          "unique_count": 13,
          "nan_count": 0,
          "min": "31900.0",
          "max": "48500.0",
          "histogram": [
           {
            "bin_start": 31900,
            "bin_end": 33560,
            "count": 3
           },
           {
            "bin_start": 33560,
            "bin_end": 35220,
            "count": 0
           },
           {
            "bin_start": 35220,
            "bin_end": 36880,
            "count": 2
           },
           {
            "bin_start": 36880,
            "bin_end": 38540,
            "count": 1
           },
           {
            "bin_start": 38540,
            "bin_end": 40200,
            "count": 0
           },
           {
            "bin_start": 40200,
            "bin_end": 41860,
            "count": 0
           },
           {
            "bin_start": 41860,
            "bin_end": 43520,
            "count": 0
           },
           {
            "bin_start": 43520,
            "bin_end": 45180,
            "count": 2
           },
           {
            "bin_start": 45180,
            "bin_end": 46840,
            "count": 5
           },
           {
            "bin_start": 46840,
            "bin_end": 48500,
            "count": 2
           }
          ]
         }
        },
        {
         "name": "U.S.-Mexico Incoming Truck Crossings",
         "dtype": "float64",
         "stats": {
          "unique_count": 15,
          "nan_count": 0,
          "min": "477111.0",
          "max": "576724.0",
          "histogram": [
           {
            "bin_start": 477111,
            "bin_end": 487072.3,
            "count": 1
           },
           {
            "bin_start": 487072.3,
            "bin_end": 497033.6,
            "count": 0
           },
           {
            "bin_start": 497033.6,
            "bin_end": 506994.9,
            "count": 0
           },
           {
            "bin_start": 506994.9,
            "bin_end": 516956.2,
            "count": 2
           },
           {
            "bin_start": 516956.2,
            "bin_end": 526917.5,
            "count": 3
           },
           {
            "bin_start": 526917.5,
            "bin_end": 536878.8,
            "count": 1
           },
           {
            "bin_start": 536878.8,
            "bin_end": 546840.1,
            "count": 2
           },
           {
            "bin_start": 546840.1,
            "bin_end": 556801.4,
            "count": 2
           },
           {
            "bin_start": 556801.4,
            "bin_end": 566762.7,
            "count": 2
           },
           {
            "bin_start": 566762.7,
            "bin_end": 576724,
            "count": 2
           }
          ]
         }
        },
        {
         "name": "Light truck sales",
         "dtype": "float64",
         "stats": {
          "unique_count": 15,
          "nan_count": 0,
          "min": "725200.0",
          "max": "1205100.0",
          "histogram": [
           {
            "bin_start": 725200,
            "bin_end": 773190,
            "count": 1
           },
           {
            "bin_start": 773190,
            "bin_end": 821180,
            "count": 1
           },
           {
            "bin_start": 821180,
            "bin_end": 869170,
            "count": 1
           },
           {
            "bin_start": 869170,
            "bin_end": 917160,
            "count": 1
           },
           {
            "bin_start": 917160,
            "bin_end": 965150,
            "count": 2
           },
           {
            "bin_start": 965150,
            "bin_end": 1013140,
            "count": 2
           },
           {
            "bin_start": 1013140,
            "bin_end": 1061130,
            "count": 2
           },
           {
            "bin_start": 1061130,
            "bin_end": 1109120,
            "count": 1
           },
           {
            "bin_start": 1109120,
            "bin_end": 1157110,
            "count": 3
           },
           {
            "bin_start": 1157110,
            "bin_end": 1205100,
            "count": 1
           }
          ]
         }
        },
        {
         "name": "Auto sales",
         "dtype": "float64",
         "stats": {
          "unique_count": 15,
          "nan_count": 0,
          "min": "264700.0",
          "max": "483000.0",
          "histogram": [
           {
            "bin_start": 264700,
            "bin_end": 286530,
            "count": 1
           },
           {
            "bin_start": 286530,
            "bin_end": 308360,
            "count": 1
           },
           {
            "bin_start": 308360,
            "bin_end": 330190,
            "count": 0
           },
           {
            "bin_start": 330190,
            "bin_end": 352020,
            "count": 3
           },
           {
            "bin_start": 352020,
            "bin_end": 373850,
            "count": 3
           },
           {
            "bin_start": 373850,
            "bin_end": 395680,
            "count": 3
           },
           {
            "bin_start": 395680,
            "bin_end": 417510,
            "count": 0
           },
           {
            "bin_start": 417510,
            "bin_end": 439340,
            "count": 1
           },
           {
            "bin_start": 439340,
            "bin_end": 461170,
            "count": 2
           },
           {
            "bin_start": 461170,
            "bin_end": 483000,
            "count": 1
           }
          ]
         }
        },
        {
         "name": "Air Safety - Air Carrier Fatalities",
         "dtype": "float64",
         "stats": {
          "unique_count": 3,
          "nan_count": 0,
          "min": "0.0",
          "max": "3.0",
          "histogram": [
           {
            "bin_start": 0,
            "bin_end": 0.3,
            "count": 13
           },
           {
            "bin_start": 0.3,
            "bin_end": 0.6,
            "count": 0
           },
           {
            "bin_start": 0.6,
            "bin_end": 0.8999999999999999,
            "count": 0
           },
           {
            "bin_start": 0.8999999999999999,
            "bin_end": 1.2,
            "count": 1
           },
           {
            "bin_start": 1.2,
            "bin_end": 1.5,
            "count": 0
           },
           {
            "bin_start": 1.5,
            "bin_end": 1.7999999999999998,
            "count": 0
           },
           {
            "bin_start": 1.7999999999999998,
            "bin_end": 2.1,
            "count": 0
           },
           {
            "bin_start": 2.1,
            "bin_end": 2.4,
            "count": 0
           },
           {
            "bin_start": 2.4,
            "bin_end": 2.6999999999999997,
            "count": 0
           },
           {
            "bin_start": 2.6999999999999997,
            "bin_end": 3,
            "count": 1
           }
          ]
         }
        },
        {
         "name": "U.S. Air Carrier Cargo (millions of revenue ton-miles) - International",
         "dtype": "float64",
         "stats": {
          "unique_count": 15,
          "nan_count": 0,
          "min": "1781364763.65",
          "max": "2436534888.82",
          "histogram": [
           {
            "bin_start": 1781364763.65,
            "bin_end": 1846881776.167,
            "count": 1
           },
           {
            "bin_start": 1846881776.167,
            "bin_end": 1912398788.684,
            "count": 1
           },
           {
            "bin_start": 1912398788.684,
            "bin_end": 1977915801.2010002,
            "count": 0
           },
           {
            "bin_start": 1977915801.2010002,
            "bin_end": 2043432813.7180002,
            "count": 1
           },
           {
            "bin_start": 2043432813.7180002,
            "bin_end": 2108949826.2350001,
            "count": 0
           },
           {
            "bin_start": 2108949826.2350001,
            "bin_end": 2174466838.752,
            "count": 2
           },
           {
            "bin_start": 2174466838.752,
            "bin_end": 2239983851.269,
            "count": 2
           },
           {
            "bin_start": 2239983851.269,
            "bin_end": 2305500863.7860003,
            "count": 4
           },
           {
            "bin_start": 2305500863.7860003,
            "bin_end": 2371017876.303,
            "count": 1
           },
           {
            "bin_start": 2371017876.303,
            "bin_end": 2436534888.82,
            "count": 3
           }
          ]
         }
        },
        {
         "name": "Truck tonnage index",
         "dtype": "float64",
         "stats": {
          "unique_count": 13,
          "nan_count": 0,
          "min": "115.5",
          "max": "120.6",
          "histogram": [
           {
            "bin_start": 115.5,
            "bin_end": 116.01,
            "count": 3
           },
           {
            "bin_start": 116.01,
            "bin_end": 116.52,
            "count": 3
           },
           {
            "bin_start": 116.52,
            "bin_end": 117.03,
            "count": 2
           },
           {
            "bin_start": 117.03,
            "bin_end": 117.53999999999999,
            "count": 2
           },
           {
            "bin_start": 117.53999999999999,
            "bin_end": 118.05,
            "count": 3
           },
           {
            "bin_start": 118.05,
            "bin_end": 118.56,
            "count": 0
           },
           {
            "bin_start": 118.56,
            "bin_end": 119.07,
            "count": 1
           },
           {
            "bin_start": 119.07,
            "bin_end": 119.58,
            "count": 0
           },
           {
            "bin_start": 119.58,
            "bin_end": 120.08999999999999,
            "count": 0
           },
           {
            "bin_start": 120.08999999999999,
            "bin_end": 120.6,
            "count": 1
           }
          ]
         }
        },
        {
         "name": "U.S. Air Carrier Cargo (millions of revenue ton-miles) - Domestic",
         "dtype": "float64",
         "stats": {
          "unique_count": 15,
          "nan_count": 0,
          "min": "1148955023.4",
          "max": "1555344064.34",
          "histogram": [
           {
            "bin_start": 1148955023.4,
            "bin_end": 1189593927.494,
            "count": 2
           },
           {
            "bin_start": 1189593927.494,
            "bin_end": 1230232831.588,
            "count": 0
           },
           {
            "bin_start": 1230232831.588,
            "bin_end": 1270871735.6820002,
            "count": 0
           },
           {
            "bin_start": 1270871735.6820002,
            "bin_end": 1311510639.776,
            "count": 1
           },
           {
            "bin_start": 1311510639.776,
            "bin_end": 1352149543.87,
            "count": 3
           },
           {
            "bin_start": 1352149543.87,
            "bin_end": 1392788447.964,
            "count": 3
           },
           {
            "bin_start": 1392788447.964,
            "bin_end": 1433427352.058,
            "count": 3
           },
           {
            "bin_start": 1433427352.058,
            "bin_end": 1474066256.152,
            "count": 2
           },
           {
            "bin_start": 1474066256.152,
            "bin_end": 1514705160.2459998,
            "count": 0
           },
           {
            "bin_start": 1514705160.2459998,
            "bin_end": 1555344064.34,
            "count": 1
           }
          ]
         }
        },
        {
         "name": "Heavy truck sales SAAR (millions)",
         "dtype": "float64",
         "stats": {
          "unique_count": 14,
          "nan_count": 0,
          "min": "387000.0",
          "max": "570000.0",
          "histogram": [
           {
            "bin_start": 387000,
            "bin_end": 405300,
            "count": 1
           },
           {
            "bin_start": 405300,
            "bin_end": 423600,
            "count": 0
           },
           {
            "bin_start": 423600,
            "bin_end": 441900,
            "count": 1
           },
           {
            "bin_start": 441900,
            "bin_end": 460200,
            "count": 2
           },
           {
            "bin_start": 460200,
            "bin_end": 478500,
            "count": 1
           },
           {
            "bin_start": 478500,
            "bin_end": 496800,
            "count": 0
           },
           {
            "bin_start": 496800,
            "bin_end": 515100,
            "count": 2
           },
           {
            "bin_start": 515100,
            "bin_end": 533400,
            "count": 2
           },
           {
            "bin_start": 533400,
            "bin_end": 551700,
            "count": 2
           },
           {
            "bin_start": 551700,
            "bin_end": 570000,
            "count": 4
           }
          ]
         }
        },
        {
         "name": "U.S. Airline Traffic - Total - Non Seasonally Adjusted",
         "dtype": "float64",
         "stats": {
          "unique_count": 15,
          "nan_count": 0,
          "min": "39070000.0",
          "max": "86960000.0",
          "histogram": [
           {
            "bin_start": 39070000,
            "bin_end": 43859000,
            "count": 1
           },
           {
            "bin_start": 43859000,
            "bin_end": 48648000,
            "count": 0
           },
           {
            "bin_start": 48648000,
            "bin_end": 53437000,
            "count": 0
           },
           {
            "bin_start": 53437000,
            "bin_end": 58226000,
            "count": 0
           },
           {
            "bin_start": 58226000,
            "bin_end": 63015000,
            "count": 0
           },
           {
            "bin_start": 63015000,
            "bin_end": 67804000,
            "count": 2
           },
           {
            "bin_start": 67804000,
            "bin_end": 72593000,
            "count": 3
           },
           {
            "bin_start": 72593000,
            "bin_end": 77382000,
            "count": 2
           },
           {
            "bin_start": 77382000,
            "bin_end": 82171000,
            "count": 4
           },
           {
            "bin_start": 82171000,
            "bin_end": 86960000,
            "count": 3
           }
          ]
         }
        },
        {
         "name": "Light truck sales SAAR (millions)",
         "dtype": "float64",
         "stats": {
          "unique_count": 15,
          "nan_count": 0,
          "min": "8400000.0",
          "max": "12700000.0",
          "histogram": [
           {
            "bin_start": 8400000,
            "bin_end": 8830000,
            "count": 1
           },
           {
            "bin_start": 8830000,
            "bin_end": 9260000,
            "count": 0
           },
           {
            "bin_start": 9260000,
            "bin_end": 9690000,
            "count": 0
           },
           {
            "bin_start": 9690000,
            "bin_end": 10120000,
            "count": 0
           },
           {
            "bin_start": 10120000,
            "bin_end": 10550000,
            "count": 0
           },
           {
            "bin_start": 10550000,
            "bin_end": 10980000,
            "count": 0
           },
           {
            "bin_start": 10980000,
            "bin_end": 11410000,
            "count": 0
           },
           {
            "bin_start": 11410000,
            "bin_end": 11840000,
            "count": 2
           },
           {
            "bin_start": 11840000,
            "bin_end": 12270000,
            "count": 2
           },
           {
            "bin_start": 12270000,
            "bin_end": 12700000,
            "count": 10
           }
          ]
         }
        },
        {
         "name": "U.S. Airline Traffic - International - Non Seasonally Adjusted",
         "dtype": "float64",
         "stats": {
          "unique_count": 14,
          "nan_count": 0,
          "min": "4650000.0",
          "max": "11670000.0",
          "histogram": [
           {
            "bin_start": 4650000,
            "bin_end": 5352000,
            "count": 1
           },
           {
            "bin_start": 5352000,
            "bin_end": 6054000,
            "count": 0
           },
           {
            "bin_start": 6054000,
            "bin_end": 6756000,
            "count": 0
           },
           {
            "bin_start": 6756000,
            "bin_end": 7458000,
            "count": 0
           },
           {
            "bin_start": 7458000,
            "bin_end": 8160000,
            "count": 2
           },
           {
            "bin_start": 8160000,
            "bin_end": 8862000,
            "count": 3
           },
           {
            "bin_start": 8862000,
            "bin_end": 9564000,
            "count": 3
           },
           {
            "bin_start": 9564000,
            "bin_end": 10266000,
            "count": 3
           },
           {
            "bin_start": 10266000,
            "bin_end": 10968000,
            "count": 0
           },
           {
            "bin_start": 10968000,
            "bin_end": 11670000,
            "count": 3
           }
          ]
         }
        },
        {
         "name": "Auto sales SAAR (millions)",
         "dtype": "float64",
         "stats": {
          "unique_count": 15,
          "nan_count": 0,
          "min": "2847000.0",
          "max": "5241000.0",
          "histogram": [
           {
            "bin_start": 2847000,
            "bin_end": 3086400,
            "count": 1
           },
           {
            "bin_start": 3086400,
            "bin_end": 3325800,
            "count": 0
           },
           {
            "bin_start": 3325800,
            "bin_end": 3565200,
            "count": 0
           },
           {
            "bin_start": 3565200,
            "bin_end": 3804600,
            "count": 0
           },
           {
            "bin_start": 3804600,
            "bin_end": 4044000,
            "count": 0
           },
           {
            "bin_start": 4044000,
            "bin_end": 4283400,
            "count": 1
           },
           {
            "bin_start": 4283400,
            "bin_end": 4522800,
            "count": 4
           },
           {
            "bin_start": 4522800,
            "bin_end": 4762200,
            "count": 4
           },
           {
            "bin_start": 4762200,
            "bin_end": 5001600,
            "count": 4
           },
           {
            "bin_start": 5001600,
            "bin_end": 5241000,
            "count": 1
           }
          ]
         }
        },
        {
         "name": "U.S. Airline Traffic - Domestic - Non Seasonally Adjusted",
         "dtype": "float64",
         "stats": {
          "unique_count": 15,
          "nan_count": 0,
          "min": "34410000.0",
          "max": "75280000.0",
          "histogram": [
           {
            "bin_start": 34410000,
            "bin_end": 38497000,
            "count": 1
           },
           {
            "bin_start": 38497000,
            "bin_end": 42584000,
            "count": 0
           },
           {
            "bin_start": 42584000,
            "bin_end": 46671000,
            "count": 0
           },
           {
            "bin_start": 46671000,
            "bin_end": 50758000,
            "count": 0
           },
           {
            "bin_start": 50758000,
            "bin_end": 54845000,
            "count": 0
           },
           {
            "bin_start": 54845000,
            "bin_end": 58932000,
            "count": 2
           },
           {
            "bin_start": 58932000,
            "bin_end": 63019000,
            "count": 2
           },
           {
            "bin_start": 63019000,
            "bin_end": 67106000,
            "count": 3
           },
           {
            "bin_start": 67106000,
            "bin_end": 71193000,
            "count": 3
           },
           {
            "bin_start": 71193000,
            "bin_end": 75280000,
            "count": 4
           }
          ]
         }
        },
        {
         "name": "Transborder - Total North American Freight",
         "dtype": "float64",
         "stats": {
          "unique_count": 15,
          "nan_count": 0,
          "min": "94188982942.0",
          "max": "109795888398.0",
          "histogram": [
           {
            "bin_start": 94188982942,
            "bin_end": 95749673487.6,
            "count": 2
           },
           {
            "bin_start": 95749673487.6,
            "bin_end": 97310364033.2,
            "count": 3
           },
           {
            "bin_start": 97310364033.2,
            "bin_end": 98871054578.8,
            "count": 1
           },
           {
            "bin_start": 98871054578.8,
            "bin_end": 100431745124.4,
            "count": 1
           },
           {
            "bin_start": 100431745124.4,
            "bin_end": 101992435670,
            "count": 1
           },
           {
            "bin_start": 101992435670,
            "bin_end": 103553126215.6,
            "count": 1
           },
           {
            "bin_start": 103553126215.6,
            "bin_end": 105113816761.2,
            "count": 3
           },
           {
            "bin_start": 105113816761.2,
            "bin_end": 106674507306.8,
            "count": 0
           },
           {
            "bin_start": 106674507306.8,
            "bin_end": 108235197852.4,
            "count": 2
           },
           {
            "bin_start": 108235197852.4,
            "bin_end": 109795888398,
            "count": 1
           }
          ]
         }
        },
        {
         "name": "Transborder - U.S. - Mexico Freight",
         "dtype": "float64",
         "stats": {
          "unique_count": 15,
          "nan_count": 0,
          "min": "46686731162.0",
          "max": "54545009062.0",
          "histogram": [
           {
            "bin_start": 46686731162,
            "bin_end": 47472558952,
            "count": 1
           },
           {
            "bin_start": 47472558952,
            "bin_end": 48258386742,
            "count": 1
           },
           {
            "bin_start": 48258386742,
            "bin_end": 49044214532,
            "count": 1
           },
           {
            "bin_start": 49044214532,
            "bin_end": 49830042322,
            "count": 2
           },
           {
            "bin_start": 49830042322,
            "bin_end": 50615870112,
            "count": 3
           },
           {
            "bin_start": 50615870112,
            "bin_end": 51401697902,
            "count": 1
           },
           {
            "bin_start": 51401697902,
            "bin_end": 52187525692,
            "count": 0
           },
           {
            "bin_start": 52187525692,
            "bin_end": 52973353482,
            "count": 2
           },
           {
            "bin_start": 52973353482,
            "bin_end": 53759181272,
            "count": 3
           },
           {
            "bin_start": 53759181272,
            "bin_end": 54545009062,
            "count": 1
           }
          ]
         }
        },
        {
         "name": "U.S. marketing air carriers on-time performance (percent)",
         "dtype": "float64",
         "stats": {
          "unique_count": 2,
          "nan_count": 0,
          "min": "0.7",
          "max": "0.8",
          "histogram": [
           {
            "bin_start": 0.7,
            "bin_end": 0.71,
            "count": 3
           },
           {
            "bin_start": 0.71,
            "bin_end": 0.72,
            "count": 0
           },
           {
            "bin_start": 0.72,
            "bin_end": 0.73,
            "count": 0
           },
           {
            "bin_start": 0.73,
            "bin_end": 0.74,
            "count": 0
           },
           {
            "bin_start": 0.74,
            "bin_end": 0.75,
            "count": 0
           },
           {
            "bin_start": 0.75,
            "bin_end": 0.76,
            "count": 0
           },
           {
            "bin_start": 0.76,
            "bin_end": 0.77,
            "count": 0
           },
           {
            "bin_start": 0.77,
            "bin_end": 0.78,
            "count": 0
           },
           {
            "bin_start": 0.78,
            "bin_end": 0.79,
            "count": 0
           },
           {
            "bin_start": 0.79,
            "bin_end": 0.8,
            "count": 12
           }
          ]
         }
        },
        {
         "name": "Transborder - U.S. - Canada Freight",
         "dtype": "float64",
         "stats": {
          "unique_count": 15,
          "nan_count": 0,
          "min": "46027750506.0",
          "max": "55250879335.99999",
          "histogram": [
           {
            "bin_start": 46027750506,
            "bin_end": 46950063389,
            "count": 2
           },
           {
            "bin_start": 46950063389,
            "bin_end": 47872376272,
            "count": 1
           },
           {
            "bin_start": 47872376272,
            "bin_end": 48794689155,
            "count": 2
           },
           {
            "bin_start": 48794689155,
            "bin_end": 49717002038,
            "count": 2
           },
           {
            "bin_start": 49717002038,
            "bin_end": 50639314921,
            "count": 1
           },
           {
            "bin_start": 50639314921,
            "bin_end": 51561627804,
            "count": 1
           },
           {
            "bin_start": 51561627804,
            "bin_end": 52483940686.99999,
            "count": 2
           },
           {
            "bin_start": 52483940686.99999,
            "bin_end": 53406253569.99999,
            "count": 1
           },
           {
            "bin_start": 53406253569.99999,
            "bin_end": 54328566452.99999,
            "count": 2
           },
           {
            "bin_start": 54328566452.99999,
            "bin_end": 55250879335.99999,
            "count": 1
           }
          ]
         }
        },
        {
         "name": "_deepnote_index_column",
         "dtype": "int64"
        }
       ],
       "rows": [
        {
         "Index": 864,
         "Date": 2019,
         "Air Safety - General Aviation Fatalities": 21,
         "Highway Fatalities Per 100 Million Vehicle Miles Traveled": 1.04,
         "Highway Fatalities": 7816,
         "U.S. Airline Traffic - Total - Seasonally Adjusted": 75040000,
         "U.S. Airline Traffic - International - Seasonally Adjusted": 9430000,
         "U.S. Airline Traffic - Domestic - Seasonally Adjusted": 65599999.99999999,
         "Transit Ridership - Other Transit Modes - Adjusted": 16515635,
         "Transit Ridership - Fixed Route Bus - Adjusted": 367851089,
         "Transit Ridership - Urban Rail - Adjusted": 368022820,
         "Freight Rail Intermodal Units": 1316168,
         "Freight Rail Carloads": 1238487,
         "Highway Vehicle Miles Traveled - All Systems": 246517000000,
         "Highway Vehicle Miles Traveled - Total Rural": 70731000000,
         "Highway Vehicle Miles Traveled - Other Rural": 24671000000,
         "Highway Vehicle Miles Traveled - Rural Other Arterial": 27361000000,
         "Highway Vehicle Miles Traveled - Rural Interstate": 18699000000,
         "State and Local Government Construction Spending - Breakwater/Jetty": 72000000,
         "State and Local Government Construction Spending - Dam/Levee": 64000000,
         "State and Local Government Construction Spending - Conservation and Development": 238000000,
         "State and Local Government Construction Spending - Pump Station": 61000000,
         "State and Local Government Construction Spending - Line": 414000000,
         "State and Local Government Construction Spending - Water Treatment Plant": 355000000,
         "State and Local Government Construction Spending - Water Supply": 947000000,
         "State and Local Government Construction Spending - Line/Drain": 213000000,
         "State and Local Government Construction Spending - Waste Water Treatment Plant": 557000000,
         "State and Local Government Construction Spending - Waste Water": 771000000,
         "State and Local Government Construction Spending - Line/Pump Station": 611000000,
         "State and Local Government Construction Spending - Sewage Treatment Plant": 204000000,
         "State and Local Government Construction Spending - Sewage / Dry Waste": 822000000,
         "State and Local Government Construction Spending - Sewage and Waste Disposal": 1593000000,
         "State and Local Government Construction Spending - Rest Facility": 27000000,
         "State and Local Government Construction Spending - Bridge": 1535000000,
         "State and Local Government Construction Spending - Lighting": 122000000,
         "State and Local Government Construction Spending - Pavement": 2600000000,
         "State and Local Government Construction Spending - Highway and Street": 4450000000,
         "State and Local Government Construction Spending - Power": 451000000,
         "State and Local Government Construction Spending - Dock / Marina": 172000000,
         "State and Local Government Construction Spending - Water": 187000000,
         "State and Local Government Construction Spending - Mass Transit": 594000000,
         "State and Local Government Construction Spending - Land Passenger Terminal": 208000000,
         "State and Local Government Construction Spending - Land": 1107000000,
         "State and Local Government Construction Spending - Runway": 212000000,
         "State and Local Government Construction Spending - Air Passenger Terminal": 860000000,
         "State and Local Government Construction Spending - Air": 1126000000,
         "State and Local Government Construction Spending - Transportation": 2420000000,
         "State and Local Government Construction Spending - Park / Camp": 305000000,
         "State and Local Government Construction Spending - Neighborhood Center": 107000000,
         "State and Local Government Construction Spending - Social Center": 124000000,
         "State and Local Government Construction Spending - Convention Center": 120000000,
         "State and Local Government Construction Spending - Performance / Meeting Center": 197000000,
         "State and Local Government Construction Spending - Sports": 222000000,
         "State and Local Government Construction Spending - Amusement and Recreation": 866000000,
         "State and Local Government Construction Spending - Fire & Rescue": 167000000,
         "State and Local Government Construction Spending - Other Public Safety": 207000000,
         "State and Local Government Construction Spending - Police & Sheriff": 136000000,
         "State and Local Government Construction Spending - Detention": 215000000,
         "State and Local Government Construction Spending - Correctional": 350000000,
         "State and Local Government Construction Spending - Public Safety": 557000000,
         "State and Local Government Construction Spending - Library / Archive": 85000000,
         "State and Local Government Construction Spending - Other Educational": 128000000,
         "State and Local Government Construction Spending - Infrastructure": 107000000,
         "State and Local Government Construction Spending - Sports & Recreation": 162000000,
         "State and Local Government Construction Spending - Dormitory": 292000000,
         "State and Local Government Construction Spending - Instructional": 1076000000,
         "State and Local Government Construction Spending - Higher Education": 1836000000,
         "State and Local Government Construction Spending - High School": 1638000000,
         "State and Local Government Construction Spending - Middle School / Junior High": 658000000,
         "State and Local Government Construction Spending - Elementary Schools": 1114000000,
         "State and Local Government Construction Spending - Primary/Secondary Schools": 3499000000,
         "State and Local Government Construction Spending - Educational": 5505000000,
         "State and Local Government Construction Spending - Special Care": 47000000,
         "State and Local Government Construction Spending - Medical Building": 108000000,
         "State and Local Government Construction Spending - Hospital": 325000000,
         "State and Local Government Construction Spending - Health Care": 480000000,
         "State and Local Government Construction Spending - Parking": 106000000,
         "State and Local Government Construction Spending - Automotive": 122000000,
         "State and Local Government Construction Spending - Commercial": 197000000,
         "State and Local Government Construction Spending - Office": 522000000,
         "State and Local Government Construction Spending - Non Residential": 18316000000,
         "State and Local Government Construction Spending - Multi Family": 334000000,
         "State and Local Government Construction Spending - Residential": 369000000,
         "State and Local Government Construction Spending - Total": 18685000000,
         "National Highway Construction Cost Index (NHCCI)": "nan",
         "Highway Fuel Price - On-highway Diesel": 2.98,
         "Highway Fuel Price - Regular Gasoline": 2.248,
         "Transportation Employment - Pipeline Transportation": 50600,
         "Transportation Employment - Water Transportation": 63800,
         "Transportation Employment - Rail Transportation": 182200,
         "Transportation Employment - Air Transportation": 494900,
         "Transportation Employment - Transit and ground passenger transportation": 503900,
         "Transportation Employment - Truck Transportation": 1501000,
         "Personal Spending on Transportation - Transportation Services - Seasonally Adjusted": 443446000000,
         "Personal Spending on Transportation - Gasoline and Other Energy Goods - Seasonally Adjusted": 448884000000,
         "Personal Spending on Transportation - Motor Vehicles and Parts - Seasonally Adjusted": 511690000000,
         "Unemployment Rate - Seasonally Adjusted": 0.04,
         "Labor Force Participation Rate - Seasonally Adjusted": 0.631,
         "Unemployed - Seasonally Adjusted": 6458000,
         "Real Gross Domestic Product - Seasonally Adjusted": 18833195000000,
         "Passenger Rail Passengers": 2288770,
         "Passenger Rail Passenger Miles": 443790117,
         "Passenger Rail Total Train Miles": 3417817,
         "Passenger Rail Employee Hours Worked": 3185889,
         "Passenger Rail Yard Switching Miles": 177672,
         "Passenger Rail Total Reports": 2,
         "U.S. Waterway Tonnage": 48200000,
         "Amtrak On-time Performance": 0.757,
         "Rail Fatalities": 54,
         "Rail Fatalities at Highway-Rail Crossings": 24,
         "Trespasser Fatalities Not at Highwaya-Rail Crossings": 30,
         "Transportation Services Index - Freight": 138.6,
         "Transportation Services Index - Passenger": 131.1,
         "Transportation Services Index - Combined": 135.7,
         "U.S.-Canada Incoming Person Crossings": 14412,
         "U.S.-Canada Incoming Truck Crossings": 467770,
         "U.S.-Mexico Incoming Person Crossings": 3894421,
         "Air Safety - Air Taxi and Commuter Fatalities": 3,
         "Heavy truck sales": 38300,
         "U.S.-Mexico Incoming Truck Crossings": 544903,
         "Light truck sales": 780000,
         "Auto sales": 353600,
         "Air Safety - Air Carrier Fatalities": 0,
         "U.S. Air Carrier Cargo (millions of revenue ton-miles) - International": 2177266415.47,
         "Truck tonnage index": 115.5,
         "U.S. Air Carrier Cargo (millions of revenue ton-miles) - Domestic": 1323554381.06,
         "Heavy truck sales SAAR (millions)": 522000,
         "U.S. Airline Traffic - Total - Non Seasonally Adjusted": 67019999.99999999,
         "Light truck sales SAAR (millions)": 11503000,
         "U.S. Airline Traffic - International - Non Seasonally Adjusted": 8980000,
         "Auto sales SAAR (millions)": 5241000,
         "U.S. Airline Traffic - Domestic - Non Seasonally Adjusted": 58030000,
         "Transborder - Total North American Freight": 95623079535,
         "Transborder - U.S. - Mexico Freight": 49595329029,
         "U.S. marketing air carriers on-time performance (percent)": 0.8,
         "Transborder - U.S. - Canada Freight": 46027750506,
         "_deepnote_index_column": 864
        },
        {
         "Index": 865,
         "Date": 2019,
         "Air Safety - General Aviation Fatalities": 21,
         "Highway Fatalities Per 100 Million Vehicle Miles Traveled": "nan",
         "Highway Fatalities": "nan",
         "U.S. Airline Traffic - Total - Seasonally Adjusted": 76020000,
         "U.S. Airline Traffic - International - Seasonally Adjusted": 9600000,
         "U.S. Airline Traffic - Domestic - Seasonally Adjusted": 66420000,
         "Transit Ridership - Other Transit Modes - Adjusted": 15136059,
         "Transit Ridership - Fixed Route Bus - Adjusted": 354692992,
         "Transit Ridership - Urban Rail - Adjusted": 350068247,
         "Freight Rail Intermodal Units": 1094580,
         "Freight Rail Carloads": 1000142,
         "Highway Vehicle Miles Traveled - All Systems": 229346000000,
         "Highway Vehicle Miles Traveled - Total Rural": 65827000000,
         "Highway Vehicle Miles Traveled - Other Rural": 22699000000,
         "Highway Vehicle Miles Traveled - Rural Other Arterial": 25976000000,
         "Highway Vehicle Miles Traveled - Rural Interstate": 17152000000,
         "State and Local Government Construction Spending - Breakwater/Jetty": 82000000,
         "State and Local Government Construction Spending - Dam/Levee": 66000000,
         "State and Local Government Construction Spending - Conservation and Development": 211000000,
         "State and Local Government Construction Spending - Pump Station": 76000000,
         "State and Local Government Construction Spending - Line": 414000000,
         "State and Local Government Construction Spending - Water Treatment Plant": 384000000,
         "State and Local Government Construction Spending - Water Supply": 1008000000,
         "State and Local Government Construction Spending - Line/Drain": 194000000,
         "State and Local Government Construction Spending - Waste Water Treatment Plant": 566000000,
         "State and Local Government Construction Spending - Waste Water": 761000000,
         "State and Local Government Construction Spending - Line/Pump Station": 595000000,
         "State and Local Government Construction Spending - Sewage Treatment Plant": 170000000,
         "State and Local Government Construction Spending - Sewage / Dry Waste": 773000000,
         "State and Local Government Construction Spending - Sewage and Waste Disposal": 1534000000,
         "State and Local Government Construction Spending - Rest Facility": 26000000,
         "State and Local Government Construction Spending - Bridge": 1637000000,
         "State and Local Government Construction Spending - Lighting": 155000000,
         "State and Local Government Construction Spending - Pavement": 2928000000,
         "State and Local Government Construction Spending - Highway and Street": 4891000000,
         "State and Local Government Construction Spending - Power": 474000000,
         "State and Local Government Construction Spending - Dock / Marina": 178000000,
         "State and Local Government Construction Spending - Water": 195000000,
         "State and Local Government Construction Spending - Mass Transit": 785000000,
         "State and Local Government Construction Spending - Land Passenger Terminal": 181000000,
         "State and Local Government Construction Spending - Land": 1234000000,
         "State and Local Government Construction Spending - Runway": 192000000,
         "State and Local Government Construction Spending - Air Passenger Terminal": 827000000,
         "State and Local Government Construction Spending - Air": 1066000000,
         "State and Local Government Construction Spending - Transportation": 2495000000,
         "State and Local Government Construction Spending - Park / Camp": 321000000,
         "State and Local Government Construction Spending - Neighborhood Center": 115000000,
         "State and Local Government Construction Spending - Social Center": 134000000,
         "State and Local Government Construction Spending - Convention Center": 165000000,
         "State and Local Government Construction Spending - Performance / Meeting Center": 260000000,
         "State and Local Government Construction Spending - Sports": 239000000,
         "State and Local Government Construction Spending - Amusement and Recreation": 982000000,
         "State and Local Government Construction Spending - Fire & Rescue": 173000000,
         "State and Local Government Construction Spending - Other Public Safety": 218000000,
         "State and Local Government Construction Spending - Police & Sheriff": 143000000,
         "State and Local Government Construction Spending - Detention": 211000000,
         "State and Local Government Construction Spending - Correctional": 354000000,
         "State and Local Government Construction Spending - Public Safety": 572000000,
         "State and Local Government Construction Spending - Library / Archive": 91000000,
         "State and Local Government Construction Spending - Other Educational": 142000000,
         "State and Local Government Construction Spending - Infrastructure": 95000000,
         "State and Local Government Construction Spending - Sports & Recreation": 169000000,
         "State and Local Government Construction Spending - Dormitory": 315000000,
         "State and Local Government Construction Spending - Instructional": 1111000000,
         "State and Local Government Construction Spending - Higher Education": 1889000000,
         "State and Local Government Construction Spending - High School": 1669000000,
         "State and Local Government Construction Spending - Middle School / Junior High": 674000000,
         "State and Local Government Construction Spending - Elementary Schools": 1037000000,
         "State and Local Government Construction Spending - Primary/Secondary Schools": 3473000000,
         "State and Local Government Construction Spending - Educational": 5549000000,
         "State and Local Government Construction Spending - Special Care": 51000000,
         "State and Local Government Construction Spending - Medical Building": 110000000,
         "State and Local Government Construction Spending - Hospital": 317000000,
         "State and Local Government Construction Spending - Health Care": 478000000,
         "State and Local Government Construction Spending - Parking": 91000000,
         "State and Local Government Construction Spending - Automotive": 103000000,
         "State and Local Government Construction Spending - Commercial": 166000000,
         "State and Local Government Construction Spending - Office": 513000000,
         "State and Local Government Construction Spending - Non Residential": 18975000000,
         "State and Local Government Construction Spending - Multi Family": 355000000,
         "State and Local Government Construction Spending - Residential": 394000000,
         "State and Local Government Construction Spending - Total": 19369000000,
         "National Highway Construction Cost Index (NHCCI)": "nan",
         "Highway Fuel Price - On-highway Diesel": 2.997,
         "Highway Fuel Price - Regular Gasoline": 2.309,
         "Transportation Employment - Pipeline Transportation": 50200,
         "Transportation Employment - Water Transportation": 63300,
         "Transportation Employment - Rail Transportation": 181300,
         "Transportation Employment - Air Transportation": 498100,
         "Transportation Employment - Transit and ground passenger transportation": 509700,
         "Transportation Employment - Truck Transportation": 1505600,
         "Personal Spending on Transportation - Transportation Services - Seasonally Adjusted": "nan",
         "Personal Spending on Transportation - Gasoline and Other Energy Goods - Seasonally Adjusted": "nan",
         "Personal Spending on Transportation - Motor Vehicles and Parts - Seasonally Adjusted": "nan",
         "Unemployment Rate - Seasonally Adjusted": 0.038,
         "Labor Force Participation Rate - Seasonally Adjusted": 0.631,
         "Unemployed - Seasonally Adjusted": 6122000,
         "Real Gross Domestic Product - Seasonally Adjusted": "nan",
         "Passenger Rail Passengers": 2164554,
         "Passenger Rail Passenger Miles": 400576951,
         "Passenger Rail Total Train Miles": 3112920,
         "Passenger Rail Employee Hours Worked": 2877892,
         "Passenger Rail Yard Switching Miles": 164452,
         "Passenger Rail Total Reports": 2,
         "U.S. Waterway Tonnage": 39500000,
         "Amtrak On-time Performance": 0.774,
         "Rail Fatalities": 66,
         "Rail Fatalities at Highway-Rail Crossings": 26,
         "Trespasser Fatalities Not at Highwaya-Rail Crossings": 38,
         "Transportation Services Index - Freight": 137.8,
         "Transportation Services Index - Passenger": 132.4,
         "Transportation Services Index - Combined": 135.7,
         "U.S.-Canada Incoming Person Crossings": 12009,
         "U.S.-Canada Incoming Truck Crossings": 429813,
         "U.S.-Mexico Incoming Person Crossings": 3416106,
         "Air Safety - Air Taxi and Commuter Fatalities": 1,
         "Heavy truck sales": 36800,
         "U.S.-Mexico Incoming Truck Crossings": 512524,
         "Light truck sales": 886600,
         "Auto sales": 365500,
         "Air Safety - Air Carrier Fatalities": 3,
         "U.S. Air Carrier Cargo (millions of revenue ton-miles) - International": 1867511158.24,
         "Truck tonnage index": 115.9,
         "U.S. Air Carrier Cargo (millions of revenue ton-miles) - Domestic": 1148955023.4,
         "Heavy truck sales SAAR (millions)": 510000,
         "U.S. Airline Traffic - Total - Non Seasonally Adjusted": 63580000,
         "Light truck sales SAAR (millions)": 11860999.999999998,
         "U.S. Airline Traffic - International - Non Seasonally Adjusted": 7900000,
         "Auto sales SAAR (millions)": 4814000,
         "U.S. Airline Traffic - Domestic - Non Seasonally Adjusted": 55680000,
         "Transborder - Total North American Freight": 94188982942,
         "Transborder - U.S. - Mexico Freight": 47822601240.00001,
         "U.S. marketing air carriers on-time performance (percent)": 0.7,
         "Transborder - U.S. - Canada Freight": 46366381702,
         "_deepnote_index_column": 865
        },
        {
         "Index": 866,
         "Date": 2019,
         "Air Safety - General Aviation Fatalities": 32,
         "Highway Fatalities Per 100 Million Vehicle Miles Traveled": "nan",
         "Highway Fatalities": "nan",
         "U.S. Airline Traffic - Total - Seasonally Adjusted": 76710000,
         "U.S. Airline Traffic - International - Seasonally Adjusted": 9620000,
         "U.S. Airline Traffic - Domestic - Seasonally Adjusted": 67090000,
         "Transit Ridership - Other Transit Modes - Adjusted": 17796909,
         "Transit Ridership - Fixed Route Bus - Adjusted": 390228157,
         "Transit Ridership - Urban Rail - Adjusted": 403221955,
         "Freight Rail Intermodal Units": 1065841,
         "Freight Rail Carloads": 956821,
         "Highway Vehicle Miles Traveled - All Systems": 272537000000,
         "Highway Vehicle Miles Traveled - Total Rural": 80080000000,
         "Highway Vehicle Miles Traveled - Other Rural": 27784000000,
         "Highway Vehicle Miles Traveled - Rural Other Arterial": 31195000000,
         "Highway Vehicle Miles Traveled - Rural Interstate": 21102000000,
         "State and Local Government Construction Spending - Breakwater/Jetty": 104000000,
         "State and Local Government Construction Spending - Dam/Levee": 67000000,
         "State and Local Government Construction Spending - Conservation and Development": 232000000,
         "State and Local Government Construction Spending - Pump Station": 72000000,
         "State and Local Government Construction Spending - Line": 496000000,
         "State and Local Government Construction Spending - Water Treatment Plant": 421000000,
         "State and Local Government Construction Spending - Water Supply": 1131000000,
         "State and Local Government Construction Spending - Line/Drain": 218000000,
         "State and Local Government Construction Spending - Waste Water Treatment Plant": 662000000,
         "State and Local Government Construction Spending - Waste Water": 879000000,
         "State and Local Government Construction Spending - Line/Pump Station": 708000000,
         "State and Local Government Construction Spending - Sewage Treatment Plant": 192000000,
         "State and Local Government Construction Spending - Sewage / Dry Waste": 909000000,
         "State and Local Government Construction Spending - Sewage and Waste Disposal": 1788000000,
         "State and Local Government Construction Spending - Rest Facility": 23000000,
         "State and Local Government Construction Spending - Bridge": 1874000000,
         "State and Local Government Construction Spending - Lighting": 218000000,
         "State and Local Government Construction Spending - Pavement": 3396000000,
         "State and Local Government Construction Spending - Highway and Street": 5666000000,
         "State and Local Government Construction Spending - Power": 396000000,
         "State and Local Government Construction Spending - Dock / Marina": 206000000,
         "State and Local Government Construction Spending - Water": 224000000,
         "State and Local Government Construction Spending - Mass Transit": 788000000,
         "State and Local Government Construction Spending - Land Passenger Terminal": 230000000,
         "State and Local Government Construction Spending - Land": 1311000000,
         "State and Local Government Construction Spending - Runway": 250000000,
         "State and Local Government Construction Spending - Air Passenger Terminal": 851000000,
         "State and Local Government Construction Spending - Air": 1152000000,
         "State and Local Government Construction Spending - Transportation": 2687000000,
         "State and Local Government Construction Spending - Park / Camp": 375000000,
         "State and Local Government Construction Spending - Neighborhood Center": 122000000,
         "State and Local Government Construction Spending - Social Center": 155000000,
         "State and Local Government Construction Spending - Convention Center": 162000000,
         "State and Local Government Construction Spending - Performance / Meeting Center": 251000000,
         "State and Local Government Construction Spending - Sports": 247000000,
         "State and Local Government Construction Spending - Amusement and Recreation": 1060000000,
         "State and Local Government Construction Spending - Fire & Rescue": 165000000,
         "State and Local Government Construction Spending - Other Public Safety": 209000000,
         "State and Local Government Construction Spending - Police & Sheriff": 133000000,
         "State and Local Government Construction Spending - Detention": 202000000,
         "State and Local Government Construction Spending - Correctional": 335000000,
         "State and Local Government Construction Spending - Public Safety": 544000000,
         "State and Local Government Construction Spending - Library / Archive": 108000000,
         "State and Local Government Construction Spending - Other Educational": 150000000,
         "State and Local Government Construction Spending - Infrastructure": 105000000,
         "State and Local Government Construction Spending - Sports & Recreation": 176000000,
         "State and Local Government Construction Spending - Dormitory": 339000000,
         "State and Local Government Construction Spending - Instructional": 1121000000,
         "State and Local Government Construction Spending - Higher Education": 1954000000,
         "State and Local Government Construction Spending - High School": 1781000000,
         "State and Local Government Construction Spending - Middle School / Junior High": 694000000,
         "State and Local Government Construction Spending - Elementary Schools": 1145000000,
         "State and Local Government Construction Spending - Primary/Secondary Schools": 3724000000,
         "State and Local Government Construction Spending - Educational": 5888000000,
         "State and Local Government Construction Spending - Special Care": 47000000,
         "State and Local Government Construction Spending - Medical Building": 123000000,
         "State and Local Government Construction Spending - Hospital": 338000000,
         "State and Local Government Construction Spending - Health Care": 509000000,
         "State and Local Government Construction Spending - Parking": 83000000,
         "State and Local Government Construction Spending - Automotive": 118000000,
         "State and Local Government Construction Spending - Commercial": 192000000,
         "State and Local Government Construction Spending - Office": 566000000,
         "State and Local Government Construction Spending - Non Residential": 20776000000,
         "State and Local Government Construction Spending - Multi Family": 362000000,
         "State and Local Government Construction Spending - Residential": 406000000,
         "State and Local Government Construction Spending - Total": 21182000000,
         "National Highway Construction Cost Index (NHCCI)": 1.849188,
         "Highway Fuel Price - On-highway Diesel": 3.076,
         "Highway Fuel Price - Regular Gasoline": 2.516,
         "Transportation Employment - Pipeline Transportation": 50700,
         "Transportation Employment - Water Transportation": 63500,
         "Transportation Employment - Rail Transportation": 180500,
         "Transportation Employment - Air Transportation": 499200,
         "Transportation Employment - Transit and ground passenger transportation": 511800,
         "Transportation Employment - Truck Transportation": 1507400,
         "Personal Spending on Transportation - Transportation Services - Seasonally Adjusted": "nan",
         "Personal Spending on Transportation - Gasoline and Other Energy Goods - Seasonally Adjusted": "nan",
         "Personal Spending on Transportation - Motor Vehicles and Parts - Seasonally Adjusted": "nan",
         "Unemployment Rate - Seasonally Adjusted": 0.038,
         "Labor Force Participation Rate - Seasonally Adjusted": 0.631,
         "Unemployed - Seasonally Adjusted": 6166000,
         "Real Gross Domestic Product - Seasonally Adjusted": "nan",
         "Passenger Rail Passengers": 2692861,
         "Passenger Rail Passenger Miles": 517020057,
         "Passenger Rail Total Train Miles": 3494111,
         "Passenger Rail Employee Hours Worked": 3222021,
         "Passenger Rail Yard Switching Miles": 190018,
         "Passenger Rail Total Reports": 2,
         "U.S. Waterway Tonnage": 46000000,
         "Amtrak On-time Performance": 0.776,
         "Rail Fatalities": 59,
         "Rail Fatalities at Highway-Rail Crossings": 16,
         "Trespasser Fatalities Not at Highwaya-Rail Crossings": 42,
         "Transportation Services Index - Freight": 138,
         "Transportation Services Index - Passenger": 134.2,
         "Transportation Services Index - Combined": 136.4,
         "U.S.-Canada Incoming Person Crossings": 18500,
         "U.S.-Canada Incoming Truck Crossings": 488046,
         "U.S.-Mexico Incoming Person Crossings": 4228773,
         "Air Safety - Air Taxi and Commuter Fatalities": 2,
         "Heavy truck sales": 43900,
         "U.S.-Mexico Incoming Truck Crossings": 562555,
         "Light truck sales": 1116500,
         "Auto sales": 483000,
         "Air Safety - Air Carrier Fatalities": 0,
         "U.S. Air Carrier Cargo (millions of revenue ton-miles) - International": 2428097305.91,
         "Truck tonnage index": 115.9,
         "U.S. Air Carrier Cargo (millions of revenue ton-miles) - Domestic": 1354156587.37,
         "Heavy truck sales SAAR (millions)": 524000,
         "U.S. Airline Traffic - Total - Non Seasonally Adjusted": 80210000,
         "Light truck sales SAAR (millions)": 12210000,
         "U.S. Airline Traffic - International - Non Seasonally Adjusted": 9980000,
         "Auto sales SAAR (millions)": 4922000,
         "U.S. Airline Traffic - Domestic - Non Seasonally Adjusted": 70230000,
         "Transborder - Total North American Freight": 107229859645.00002,
         "Transborder - U.S. - Mexico Freight": 53165179483,
         "U.S. marketing air carriers on-time performance (percent)": 0.8,
         "Transborder - U.S. - Canada Freight": 54064680162,
         "_deepnote_index_column": 866
        },
        {
         "Index": 867,
         "Date": 2019,
         "Air Safety - General Aviation Fatalities": 28,
         "Highway Fatalities Per 100 Million Vehicle Miles Traveled": 1.08,
         "Highway Fatalities": 9172,
         "U.S. Airline Traffic - Total - Seasonally Adjusted": 76800000,
         "U.S. Airline Traffic - International - Seasonally Adjusted": 9620000,
         "U.S. Airline Traffic - Domestic - Seasonally Adjusted": 67180000,
         "Transit Ridership - Other Transit Modes - Adjusted": 18746430,
         "Transit Ridership - Fixed Route Bus - Adjusted": 397479345,
         "Transit Ridership - Urban Rail - Adjusted": 415533810,
         "Freight Rail Intermodal Units": 1322588,
         "Freight Rail Carloads": 1310228,
         "Highway Vehicle Miles Traveled - All Systems": 276976000000,
         "Highway Vehicle Miles Traveled - Total Rural": 82384000000,
         "Highway Vehicle Miles Traveled - Other Rural": 28940000000,
         "Highway Vehicle Miles Traveled - Rural Other Arterial": 31592000000,
         "Highway Vehicle Miles Traveled - Rural Interstate": 21852000000,
         "State and Local Government Construction Spending - Breakwater/Jetty": 84000000,
         "State and Local Government Construction Spending - Dam/Levee": 76000000,
         "State and Local Government Construction Spending - Conservation and Development": 242000000,
         "State and Local Government Construction Spending - Pump Station": 92000000,
         "State and Local Government Construction Spending - Line": 542000000,
         "State and Local Government Construction Spending - Water Treatment Plant": 454000000,
         "State and Local Government Construction Spending - Water Supply": 1284000000,
         "State and Local Government Construction Spending - Line/Drain": 280000000,
         "State and Local Government Construction Spending - Waste Water Treatment Plant": 692000000,
         "State and Local Government Construction Spending - Waste Water": 972000000,
         "State and Local Government Construction Spending - Line/Pump Station": 730000000,
         "State and Local Government Construction Spending - Sewage Treatment Plant": 231000000,
         "State and Local Government Construction Spending - Sewage / Dry Waste": 975000000,
         "State and Local Government Construction Spending - Sewage and Waste Disposal": 1947000000,
         "State and Local Government Construction Spending - Rest Facility": 32000000,
         "State and Local Government Construction Spending - Bridge": 2332000000,
         "State and Local Government Construction Spending - Lighting": 223000000,
         "State and Local Government Construction Spending - Pavement": 5159000000,
         "State and Local Government Construction Spending - Highway and Street": 7934000000,
         "State and Local Government Construction Spending - Power": 596000000,
         "State and Local Government Construction Spending - Dock / Marina": 199000000,
         "State and Local Government Construction Spending - Water": 224000000,
         "State and Local Government Construction Spending - Mass Transit": 796000000,
         "State and Local Government Construction Spending - Land Passenger Terminal": 223000000,
         "State and Local Government Construction Spending - Land": 1368000000,
         "State and Local Government Construction Spending - Runway": 312000000,
         "State and Local Government Construction Spending - Air Passenger Terminal": 974000000,
         "State and Local Government Construction Spending - Air": 1357000000,
         "State and Local Government Construction Spending - Transportation": 2949000000,
         "State and Local Government Construction Spending - Park / Camp": 413000000,
         "State and Local Government Construction Spending - Neighborhood Center": 135000000,
         "State and Local Government Construction Spending - Social Center": 165000000,
         "State and Local Government Construction Spending - Convention Center": 174000000,
         "State and Local Government Construction Spending - Performance / Meeting Center": 275000000,
         "State and Local Government Construction Spending - Sports": 276000000,
         "State and Local Government Construction Spending - Amusement and Recreation": 1169000000,
         "State and Local Government Construction Spending - Fire & Rescue": 193000000,
         "State and Local Government Construction Spending - Other Public Safety": 237000000,
         "State and Local Government Construction Spending - Police & Sheriff": 144000000,
         "State and Local Government Construction Spending - Detention": 232000000,
         "State and Local Government Construction Spending - Correctional": 376000000,
         "State and Local Government Construction Spending - Public Safety": 613000000,
         "State and Local Government Construction Spending - Library / Archive": 122000000,
         "State and Local Government Construction Spending - Other Educational": 166000000,
         "State and Local Government Construction Spending - Infrastructure": 117000000,
         "State and Local Government Construction Spending - Sports & Recreation": 212000000,
         "State and Local Government Construction Spending - Dormitory": 356000000,
         "State and Local Government Construction Spending - Instructional": 1239000000,
         "State and Local Government Construction Spending - Higher Education": 2174000000,
         "State and Local Government Construction Spending - High School": 1924000000,
         "State and Local Government Construction Spending - Middle School / Junior High": 791000000,
         "State and Local Government Construction Spending - Elementary Schools": 1324000000,
         "State and Local Government Construction Spending - Primary/Secondary Schools": 4155000000,
         "State and Local Government Construction Spending - Educational": 6566000000,
         "State and Local Government Construction Spending - Special Care": 58000000,
         "State and Local Government Construction Spending - Medical Building": 129000000,
         "State and Local Government Construction Spending - Hospital": 342000000,
         "State and Local Government Construction Spending - Health Care": 529000000,
         "State and Local Government Construction Spending - Parking": 63000000,
         "State and Local Government Construction Spending - Automotive": 95000000,
         "State and Local Government Construction Spending - Commercial": 168000000,
         "State and Local Government Construction Spending - Office": 613000000,
         "State and Local Government Construction Spending - Non Residential": 24728000000,
         "State and Local Government Construction Spending - Multi Family": 433000000,
         "State and Local Government Construction Spending - Residential": 490000000,
         "State and Local Government Construction Spending - Total": 25218000000,
         "National Highway Construction Cost Index (NHCCI)": "nan",
         "Highway Fuel Price - On-highway Diesel": 3.121,
         "Highway Fuel Price - Regular Gasoline": 2.798,
         "Transportation Employment - Pipeline Transportation": 50900,
         "Transportation Employment - Water Transportation": 64900,
         "Transportation Employment - Rail Transportation": 179500,
         "Transportation Employment - Air Transportation": 500000,
         "Transportation Employment - Transit and ground passenger transportation": 515100,
         "Transportation Employment - Truck Transportation": 1516600,
         "Personal Spending on Transportation - Transportation Services - Seasonally Adjusted": 451711000000.00006,
         "Personal Spending on Transportation - Gasoline and Other Energy Goods - Seasonally Adjusted": 450771000000.00006,
         "Personal Spending on Transportation - Motor Vehicles and Parts - Seasonally Adjusted": 521813000000,
         "Unemployment Rate - Seasonally Adjusted": 0.036,
         "Labor Force Participation Rate - Seasonally Adjusted": 0.629,
         "Unemployed - Seasonally Adjusted": 5898000,
         "Real Gross Domestic Product - Seasonally Adjusted": 18982528000000,
         "Passenger Rail Passengers": 2728995,
         "Passenger Rail Passenger Miles": 532041046,
         "Passenger Rail Total Train Miles": 3405853,
         "Passenger Rail Employee Hours Worked": 3156890,
         "Passenger Rail Yard Switching Miles": 177472,
         "Passenger Rail Total Reports": 2,
         "U.S. Waterway Tonnage": 51000000,
         "Amtrak On-time Performance": 0.778,
         "Rail Fatalities": 88,
         "Rail Fatalities at Highway-Rail Crossings": 23,
         "Trespasser Fatalities Not at Highwaya-Rail Crossings": 59,
         "Transportation Services Index - Freight": 139,
         "Transportation Services Index - Passenger": 134.1,
         "Transportation Services Index - Combined": 137,
         "U.S.-Canada Incoming Person Crossings": 31204,
         "U.S.-Canada Incoming Truck Crossings": 480477,
         "U.S.-Mexico Incoming Person Crossings": 4256803,
         "Air Safety - Air Taxi and Commuter Fatalities": 3,
         "Heavy truck sales": 46100,
         "U.S.-Mexico Incoming Truck Crossings": 524215,
         "Light truck sales": 931600,
         "Auto sales": 395600,
         "Air Safety - Air Carrier Fatalities": 0,
         "U.S. Air Carrier Cargo (millions of revenue ton-miles) - International": 2274110181.29,
         "Truck tonnage index": 116.6,
         "U.S. Air Carrier Cargo (millions of revenue ton-miles) - Domestic": 1344144897.66,
         "Heavy truck sales SAAR (millions)": 570000,
         "U.S. Airline Traffic - Total - Non Seasonally Adjusted": 76430000,
         "Light truck sales SAAR (millions)": 11668000,
         "U.S. Airline Traffic - International - Non Seasonally Adjusted": 9490000,
         "Auto sales SAAR (millions)": 4760000,
         "U.S. Airline Traffic - Domestic - Non Seasonally Adjusted": 66940000,
         "Transborder - Total North American Freight": 104548781572,
         "Transborder - U.S. - Mexico Freight": 52596204519.99999,
         "U.S. marketing air carriers on-time performance (percent)": 0.8,
         "Transborder - U.S. - Canada Freight": 51952577052,
         "_deepnote_index_column": 867
        },
        {
         "Index": 868,
         "Date": 2019,
         "Air Safety - General Aviation Fatalities": 48,
         "Highway Fatalities Per 100 Million Vehicle Miles Traveled": "nan",
         "Highway Fatalities": "nan",
         "U.S. Airline Traffic - Total - Seasonally Adjusted": 77040000,
         "U.S. Airline Traffic - International - Seasonally Adjusted": 9620000,
         "U.S. Airline Traffic - Domestic - Seasonally Adjusted": 67420000,
         "Transit Ridership - Other Transit Modes - Adjusted": 19596702,
         "Transit Ridership - Fixed Route Bus - Adjusted": 399640786,
         "Transit Ridership - Urban Rail - Adjusted": 421141236,
         "Freight Rail Intermodal Units": 1049163,
         "Freight Rail Carloads": 1023136,
         "Highway Vehicle Miles Traveled - All Systems": 285544000000,
         "Highway Vehicle Miles Traveled - Total Rural": 87031000000,
         "Highway Vehicle Miles Traveled - Other Rural": 30242000000,
         "Highway Vehicle Miles Traveled - Rural Other Arterial": 33675000000,
         "Highway Vehicle Miles Traveled - Rural Interstate": 23114000000,
         "State and Local Government Construction Spending - Breakwater/Jetty": 104000000,
         "State and Local Government Construction Spending - Dam/Levee": 80000000,
         "State and Local Government Construction Spending - Conservation and Development": 266000000,
         "State and Local Government Construction Spending - Pump Station": 79000000,
         "State and Local Government Construction Spending - Line": 641000000,
         "State and Local Government Construction Spending - Water Treatment Plant": 438000000,
         "State and Local Government Construction Spending - Water Supply": 1348000000,
         "State and Local Government Construction Spending - Line/Drain": 281000000,
         "State and Local Government Construction Spending - Waste Water Treatment Plant": 744000000,
         "State and Local Government Construction Spending - Waste Water": 1025000000,
         "State and Local Government Construction Spending - Line/Pump Station": 941000000,
         "State and Local Government Construction Spending - Sewage Treatment Plant": 240000000,
         "State and Local Government Construction Spending - Sewage / Dry Waste": 1197000000,
         "State and Local Government Construction Spending - Sewage and Waste Disposal": 2221000000,
         "State and Local Government Construction Spending - Rest Facility": 66000000,
         "State and Local Government Construction Spending - Bridge": 2738000000,
         "State and Local Government Construction Spending - Lighting": 231000000,
         "State and Local Government Construction Spending - Pavement": 6138000000,
         "State and Local Government Construction Spending - Highway and Street": 9370000000,
         "State and Local Government Construction Spending - Power": 630000000,
         "State and Local Government Construction Spending - Dock / Marina": 204000000,
         "State and Local Government Construction Spending - Water": 237000000,
         "State and Local Government Construction Spending - Mass Transit": 885000000,
         "State and Local Government Construction Spending - Land Passenger Terminal": 236000000,
         "State and Local Government Construction Spending - Land": 1465000000,
         "State and Local Government Construction Spending - Runway": 454000000,
         "State and Local Government Construction Spending - Air Passenger Terminal": 1033000000,
         "State and Local Government Construction Spending - Air": 1564000000,
         "State and Local Government Construction Spending - Transportation": 3266000000,
         "State and Local Government Construction Spending - Park / Camp": 464000000,
         "State and Local Government Construction Spending - Neighborhood Center": 140000000,
         "State and Local Government Construction Spending - Social Center": 172000000,
         "State and Local Government Construction Spending - Convention Center": 168000000,
         "State and Local Government Construction Spending - Performance / Meeting Center": 274000000,
         "State and Local Government Construction Spending - Sports": 289000000,
         "State and Local Government Construction Spending - Amusement and Recreation": 1240000000,
         "State and Local Government Construction Spending - Fire & Rescue": 202000000,
         "State and Local Government Construction Spending - Other Public Safety": 245000000,
         "State and Local Government Construction Spending - Police & Sheriff": 171000000,
         "State and Local Government Construction Spending - Detention": 246000000,
         "State and Local Government Construction Spending - Correctional": 417000000,
         "State and Local Government Construction Spending - Public Safety": 662000000,
         "State and Local Government Construction Spending - Library / Archive": 134000000,
         "State and Local Government Construction Spending - Other Educational": 188000000,
         "State and Local Government Construction Spending - Infrastructure": 133000000,
         "State and Local Government Construction Spending - Sports & Recreation": 212000000,
         "State and Local Government Construction Spending - Dormitory": 380000000,
         "State and Local Government Construction Spending - Instructional": 1238000000,
         "State and Local Government Construction Spending - Higher Education": 2242000000,
         "State and Local Government Construction Spending - High School": 2285000000,
         "State and Local Government Construction Spending - Middle School / Junior High": 889000000,
         "State and Local Government Construction Spending - Elementary Schools": 1309000000,
         "State and Local Government Construction Spending - Primary/Secondary Schools": 4611000000,
         "State and Local Government Construction Spending - Educational": 7121000000,
         "State and Local Government Construction Spending - Special Care": 59000000,
         "State and Local Government Construction Spending - Medical Building": 152000000,
         "State and Local Government Construction Spending - Hospital": 342000000,
         "State and Local Government Construction Spending - Health Care": 554000000,
         "State and Local Government Construction Spending - Parking": 73000000,
         "State and Local Government Construction Spending - Automotive": 103000000,
         "State and Local Government Construction Spending - Commercial": 168000000,
         "State and Local Government Construction Spending - Office": 653000000,
         "State and Local Government Construction Spending - Non Residential": 27625000000,
         "State and Local Government Construction Spending - Multi Family": 430000000,
         "State and Local Government Construction Spending - Residential": 488000000,
         "State and Local Government Construction Spending - Total": 28113000000,
         "National Highway Construction Cost Index (NHCCI)": "nan",
         "Highway Fuel Price - On-highway Diesel": 3.161,
         "Highway Fuel Price - Regular Gasoline": 2.859,
         "Transportation Employment - Pipeline Transportation": 51800,
         "Transportation Employment - Water Transportation": 67500,
         "Transportation Employment - Rail Transportation": 177900,
         "Transportation Employment - Air Transportation": 502200,
         "Transportation Employment - Transit and ground passenger transportation": 514800,
         "Transportation Employment - Truck Transportation": 1532600,
         "Personal Spending on Transportation - Transportation Services - Seasonally Adjusted": "nan",
         "Personal Spending on Transportation - Gasoline and Other Energy Goods - Seasonally Adjusted": "nan",
         "Personal Spending on Transportation - Motor Vehicles and Parts - Seasonally Adjusted": "nan",
         "Unemployment Rate - Seasonally Adjusted": 0.036,
         "Labor Force Participation Rate - Seasonally Adjusted": 0.629,
         "Unemployed - Seasonally Adjusted": 5935000,
         "Real Gross Domestic Product - Seasonally Adjusted": "nan",
         "Passenger Rail Passengers": 2897825,
         "Passenger Rail Passenger Miles": 576765031,
         "Passenger Rail Total Train Miles": 3535458,
         "Passenger Rail Employee Hours Worked": 3264618,
         "Passenger Rail Yard Switching Miles": 194725,
         "Passenger Rail Total Reports": 2,
         "U.S. Waterway Tonnage": 52400000,
         "Amtrak On-time Performance": 0.755,
         "Rail Fatalities": 75,
         "Rail Fatalities at Highway-Rail Crossings": 21,
         "Trespasser Fatalities Not at Highwaya-Rail Crossings": 50,
         "Transportation Services Index - Freight": 139.7,
         "Transportation Services Index - Passenger": 135.2,
         "Transportation Services Index - Combined": 137.8,
         "U.S.-Canada Incoming Person Crossings": 50586,
         "U.S.-Canada Incoming Truck Crossings": 507425,
         "U.S.-Mexico Incoming Person Crossings": 4144485,
         "Air Safety - Air Taxi and Commuter Fatalities": 14,
         "Heavy truck sales": 46600,
         "U.S.-Mexico Incoming Truck Crossings": 576724,
         "Light truck sales": 1127200,
         "Auto sales": 455000,
         "Air Safety - Air Carrier Fatalities": 0,
         "U.S. Air Carrier Cargo (millions of revenue ton-miles) - International": 2347735080.3900003,
         "Truck tonnage index": 117.1,
         "U.S. Air Carrier Cargo (millions of revenue ton-miles) - Domestic": 1397363010.8,
         "Heavy truck sales SAAR (millions)": 564000,
         "U.S. Airline Traffic - Total - Non Seasonally Adjusted": 81350000,
         "Light truck sales SAAR (millions)": 12474000,
         "U.S. Airline Traffic - International - Non Seasonally Adjusted": 9980000,
         "Auto sales SAAR (millions)": 4802000,
         "U.S. Airline Traffic - Domestic - Non Seasonally Adjusted": 71370000,
         "Transborder - Total North American Freight": 109795888398,
         "Transborder - U.S. - Mexico Freight": 54545009062,
         "U.S. marketing air carriers on-time performance (percent)": 0.8,
         "Transborder - U.S. - Canada Freight": 55250879335.99999,
         "_deepnote_index_column": 868
        },
        {
         "Index": 869,
         "Date": 2019,
         "Air Safety - General Aviation Fatalities": 69,
         "Highway Fatalities Per 100 Million Vehicle Miles Traveled": "nan",
         "Highway Fatalities": "nan",
         "U.S. Airline Traffic - Total - Seasonally Adjusted": 77250000,
         "U.S. Airline Traffic - International - Seasonally Adjusted": 9590000,
         "U.S. Airline Traffic - Domestic - Seasonally Adjusted": 67670000,
         "Transit Ridership - Other Transit Modes - Adjusted": 19006565,
         "Transit Ridership - Fixed Route Bus - Adjusted": 362002815,
         "Transit Ridership - Urban Rail - Adjusted": 398791173,
         "Freight Rail Intermodal Units": 1075974,
         "Freight Rail Carloads": 1023394,
         "Highway Vehicle Miles Traveled - All Systems": 284106000000,
         "Highway Vehicle Miles Traveled - Total Rural": 87861000000,
         "Highway Vehicle Miles Traveled - Other Rural": 30434000000,
         "Highway Vehicle Miles Traveled - Rural Other Arterial": 34179000000,
         "Highway Vehicle Miles Traveled - Rural Interstate": 23248000000,
         "State and Local Government Construction Spending - Breakwater/Jetty": 104000000,
         "State and Local Government Construction Spending - Dam/Levee": 108000000,
         "State and Local Government Construction Spending - Conservation and Development": 288000000,
         "State and Local Government Construction Spending - Pump Station": 87000000,
         "State and Local Government Construction Spending - Line": 663000000,
         "State and Local Government Construction Spending - Water Treatment Plant": 423000000,
         "State and Local Government Construction Spending - Water Supply": 1396000000,
         "State and Local Government Construction Spending - Line/Drain": 278000000,
         "State and Local Government Construction Spending - Waste Water Treatment Plant": 756000000,
         "State and Local Government Construction Spending - Waste Water": 1034000000,
         "State and Local Government Construction Spending - Line/Pump Station": 984000000,
         "State and Local Government Construction Spending - Sewage Treatment Plant": 253000000,
         "State and Local Government Construction Spending - Sewage / Dry Waste": 1249000000,
         "State and Local Government Construction Spending - Sewage and Waste Disposal": 2283000000,
         "State and Local Government Construction Spending - Rest Facility": 61000000,
         "State and Local Government Construction Spending - Bridge": 2321000000,
         "State and Local Government Construction Spending - Lighting": 206000000,
         "State and Local Government Construction Spending - Pavement": 7451000000,
         "State and Local Government Construction Spending - Highway and Street": 10213000000,
         "State and Local Government Construction Spending - Power": 618000000,
         "State and Local Government Construction Spending - Dock / Marina": 228000000,
         "State and Local Government Construction Spending - Water": 256000000,
         "State and Local Government Construction Spending - Mass Transit": 979000000,
         "State and Local Government Construction Spending - Land Passenger Terminal": 208000000,
         "State and Local Government Construction Spending - Land": 1506000000,
         "State and Local Government Construction Spending - Runway": 485000000,
         "State and Local Government Construction Spending - Air Passenger Terminal": 1061000000,
         "State and Local Government Construction Spending - Air": 1629000000,
         "State and Local Government Construction Spending - Transportation": 3390000000,
         "State and Local Government Construction Spending - Park / Camp": 476000000,
         "State and Local Government Construction Spending - Neighborhood Center": 138000000,
         "State and Local Government Construction Spending - Social Center": 163000000,
         "State and Local Government Construction Spending - Convention Center": 213000000,
         "State and Local Government Construction Spending - Performance / Meeting Center": 332000000,
         "State and Local Government Construction Spending - Sports": 309000000,
         "State and Local Government Construction Spending - Amusement and Recreation": 1323000000,
         "State and Local Government Construction Spending - Fire & Rescue": 186000000,
         "State and Local Government Construction Spending - Other Public Safety": 233000000,
         "State and Local Government Construction Spending - Police & Sheriff": 180000000,
         "State and Local Government Construction Spending - Detention": 249000000,
         "State and Local Government Construction Spending - Correctional": 429000000,
         "State and Local Government Construction Spending - Public Safety": 662000000,
         "State and Local Government Construction Spending - Library / Archive": 118000000,
         "State and Local Government Construction Spending - Other Educational": 178000000,
         "State and Local Government Construction Spending - Infrastructure": 155000000,
         "State and Local Government Construction Spending - Sports & Recreation": 224000000,
         "State and Local Government Construction Spending - Dormitory": 415000000,
         "State and Local Government Construction Spending - Instructional": 1289000000,
         "State and Local Government Construction Spending - Higher Education": 2398000000,
         "State and Local Government Construction Spending - High School": 2762000000,
         "State and Local Government Construction Spending - Middle School / Junior High": 1145000000,
         "State and Local Government Construction Spending - Elementary Schools": 1650000000,
         "State and Local Government Construction Spending - Primary/Secondary Schools": 5712000000,
         "State and Local Government Construction Spending - Educational": 8384000000,
         "State and Local Government Construction Spending - Special Care": 54000000,
         "State and Local Government Construction Spending - Medical Building": 165000000,
         "State and Local Government Construction Spending - Hospital": 332000000,
         "State and Local Government Construction Spending - Health Care": 552000000,
         "State and Local Government Construction Spending - Parking": 82000000,
         "State and Local Government Construction Spending - Automotive": 120000000,
         "State and Local Government Construction Spending - Commercial": 193000000,
         "State and Local Government Construction Spending - Office": 687000000,
         "State and Local Government Construction Spending - Non Residential": 30130000000,
         "State and Local Government Construction Spending - Multi Family": 468000000,
         "State and Local Government Construction Spending - Residential": 527000000,
         "State and Local Government Construction Spending - Total": 30657000000,
         "National Highway Construction Cost Index (NHCCI)": 1.954851097,
         "Highway Fuel Price - On-highway Diesel": 3.089,
         "Highway Fuel Price - Regular Gasoline": 2.716,
         "Transportation Employment - Pipeline Transportation": 52000,
         "Transportation Employment - Water Transportation": 67900,
         "Transportation Employment - Rail Transportation": 175900,
         "Transportation Employment - Air Transportation": 509100,
         "Transportation Employment - Transit and ground passenger transportation": 492600,
         "Transportation Employment - Truck Transportation": 1547000,
         "Personal Spending on Transportation - Transportation Services - Seasonally Adjusted": "nan",
         "Personal Spending on Transportation - Gasoline and Other Energy Goods - Seasonally Adjusted": "nan",
         "Personal Spending on Transportation - Motor Vehicles and Parts - Seasonally Adjusted": "nan",
         "Unemployment Rate - Seasonally Adjusted": 0.036,
         "Labor Force Participation Rate - Seasonally Adjusted": 0.629,
         "Unemployed - Seasonally Adjusted": 5906000,
         "Real Gross Domestic Product - Seasonally Adjusted": "nan",
         "Passenger Rail Passengers": 2988187,
         "Passenger Rail Passenger Miles": 618224369,
         "Passenger Rail Total Train Miles": 3387252,
         "Passenger Rail Employee Hours Worked": 3086515,
         "Passenger Rail Yard Switching Miles": 185634,
         "Passenger Rail Total Reports": 2,
         "U.S. Waterway Tonnage": 50100000,
         "Amtrak On-time Performance": 0.73,
         "Rail Fatalities": 63,
         "Rail Fatalities at Highway-Rail Crossings": 21,
         "Trespasser Fatalities Not at Highwaya-Rail Crossings": 41,
         "Transportation Services Index - Freight": 139.2,
         "Transportation Services Index - Passenger": 134.8,
         "Transportation Services Index - Combined": 137.4,
         "U.S.-Canada Incoming Person Crossings": 66714,
         "U.S.-Canada Incoming Truck Crossings": 485867,
         "U.S.-Mexico Incoming Person Crossings": 3931845,
         "Air Safety - Air Taxi and Commuter Fatalities": 2,
         "Heavy truck sales": 45100,
         "U.S.-Mexico Incoming Truck Crossings": 533555,
         "Light truck sales": 1070500,
         "Auto sales": 440000,
         "Air Safety - Air Carrier Fatalities": 0,
         "U.S. Air Carrier Cargo (millions of revenue ton-miles) - International": 2242094678.42,
         "Truck tonnage index": 117.8,
         "U.S. Air Carrier Cargo (millions of revenue ton-miles) - Domestic": 1353833324.46,
         "Heavy truck sales SAAR (millions)": 550000,
         "U.S. Airline Traffic - Total - Non Seasonally Adjusted": 83840000,
         "Light truck sales SAAR (millions)": 12379999.999999998,
         "U.S. Airline Traffic - International - Non Seasonally Adjusted": 11050000,
         "Auto sales SAAR (millions)": 4902000,
         "U.S. Airline Traffic - Domestic - Non Seasonally Adjusted": 72790000,
         "Transborder - Total North American Freight": 103765796868,
         "Transborder - U.S. - Mexico Freight": 51162064279,
         "U.S. marketing air carriers on-time performance (percent)": 0.7,
         "Transborder - U.S. - Canada Freight": 52603732589,
         "_deepnote_index_column": 869
        },
        {
         "Index": 870,
         "Date": 2019,
         "Air Safety - General Aviation Fatalities": 29,
         "Highway Fatalities Per 100 Million Vehicle Miles Traveled": 1.17,
         "Highway Fatalities": 9953,
         "U.S. Airline Traffic - Total - Seasonally Adjusted": 77210000,
         "U.S. Airline Traffic - International - Seasonally Adjusted": 9540000,
         "U.S. Airline Traffic - Domestic - Seasonally Adjusted": 67680000,
         "Transit Ridership - Other Transit Modes - Adjusted": 20378395,
         "Transit Ridership - Fixed Route Bus - Adjusted": 369257081,
         "Transit Ridership - Urban Rail - Adjusted": 411609150,
         "Freight Rail Intermodal Units": 1314363,
         "Freight Rail Carloads": 1264354,
         "Highway Vehicle Miles Traveled - All Systems": 292680000000,
         "Highway Vehicle Miles Traveled - Total Rural": 93876000000,
         "Highway Vehicle Miles Traveled - Other Rural": 31859000000,
         "Highway Vehicle Miles Traveled - Rural Other Arterial": 36484000000,
         "Highway Vehicle Miles Traveled - Rural Interstate": 25534000000,
         "State and Local Government Construction Spending - Breakwater/Jetty": 116000000,
         "State and Local Government Construction Spending - Dam/Levee": 105000000,
         "State and Local Government Construction Spending - Conservation and Development": 307000000,
         "State and Local Government Construction Spending - Pump Station": 84000000,
         "State and Local Government Construction Spending - Line": 677000000,
         "State and Local Government Construction Spending - Water Treatment Plant": 440000000,
         "State and Local Government Construction Spending - Water Supply": 1413000000,
         "State and Local Government Construction Spending - Line/Drain": 289000000,
         "State and Local Government Construction Spending - Waste Water Treatment Plant": 740000000,
         "State and Local Government Construction Spending - Waste Water": 1029000000,
         "State and Local Government Construction Spending - Line/Pump Station": 1010000000,
         "State and Local Government Construction Spending - Sewage Treatment Plant": 250000000,
         "State and Local Government Construction Spending - Sewage / Dry Waste": 1274000000,
         "State and Local Government Construction Spending - Sewage and Waste Disposal": 2303000000,
         "State and Local Government Construction Spending - Rest Facility": 66000000,
         "State and Local Government Construction Spending - Bridge": 2622000000,
         "State and Local Government Construction Spending - Lighting": 209000000,
         "State and Local Government Construction Spending - Pavement": 8021000000,
         "State and Local Government Construction Spending - Highway and Street": 11132000000,
         "State and Local Government Construction Spending - Power": 625000000,
         "State and Local Government Construction Spending - Dock / Marina": 227000000,
         "State and Local Government Construction Spending - Water": 259000000,
         "State and Local Government Construction Spending - Mass Transit": 969000000,
         "State and Local Government Construction Spending - Land Passenger Terminal": 191000000,
         "State and Local Government Construction Spending - Land": 1499000000,
         "State and Local Government Construction Spending - Runway": 522000000,
         "State and Local Government Construction Spending - Air Passenger Terminal": 1073000000,
         "State and Local Government Construction Spending - Air": 1744000000,
         "State and Local Government Construction Spending - Transportation": 3502000000,
         "State and Local Government Construction Spending - Park / Camp": 487000000,
         "State and Local Government Construction Spending - Neighborhood Center": 127000000,
         "State and Local Government Construction Spending - Social Center": 149000000,
         "State and Local Government Construction Spending - Convention Center": 193000000,
         "State and Local Government Construction Spending - Performance / Meeting Center": 294000000,
         "State and Local Government Construction Spending - Sports": 305000000,
         "State and Local Government Construction Spending - Amusement and Recreation": 1284000000,
         "State and Local Government Construction Spending - Fire & Rescue": 196000000,
         "State and Local Government Construction Spending - Other Public Safety": 242000000,
         "State and Local Government Construction Spending - Police & Sheriff": 195000000,
         "State and Local Government Construction Spending - Detention": 252000000,
         "State and Local Government Construction Spending - Correctional": 447000000,
         "State and Local Government Construction Spending - Public Safety": 689000000,
         "State and Local Government Construction Spending - Library / Archive": 126000000,
         "State and Local Government Construction Spending - Other Educational": 186000000,
         "State and Local Government Construction Spending - Infrastructure": 154000000,
         "State and Local Government Construction Spending - Sports & Recreation": 253000000,
         "State and Local Government Construction Spending - Dormitory": 365000000,
         "State and Local Government Construction Spending - Instructional": 1306000000,
         "State and Local Government Construction Spending - Higher Education": 2401000000,
         "State and Local Government Construction Spending - High School": 3251000000,
         "State and Local Government Construction Spending - Middle School / Junior High": 1279000000,
         "State and Local Government Construction Spending - Elementary Schools": 1762000000,
         "State and Local Government Construction Spending - Primary/Secondary Schools": 6452000000,
         "State and Local Government Construction Spending - Educational": 9138000000,
         "State and Local Government Construction Spending - Special Care": 73000000,
         "State and Local Government Construction Spending - Medical Building": 146000000,
         "State and Local Government Construction Spending - Hospital": 345000000,
         "State and Local Government Construction Spending - Health Care": 564000000,
         "State and Local Government Construction Spending - Parking": 82000000,
         "State and Local Government Construction Spending - Automotive": 120000000,
         "State and Local Government Construction Spending - Commercial": 196000000,
         "State and Local Government Construction Spending - Office": 734000000,
         "State and Local Government Construction Spending - Non Residential": 32011000000,
         "State and Local Government Construction Spending - Multi Family": 486000000,
         "State and Local Government Construction Spending - Residential": 531000000,
         "State and Local Government Construction Spending - Total": 32542000000,
         "National Highway Construction Cost Index (NHCCI)": "nan",
         "Highway Fuel Price - On-highway Diesel": 3.045,
         "Highway Fuel Price - Regular Gasoline": 2.74,
         "Transportation Employment - Pipeline Transportation": 52300,
         "Transportation Employment - Water Transportation": 69200,
         "Transportation Employment - Rail Transportation": 175000,
         "Transportation Employment - Air Transportation": 511500,
         "Transportation Employment - Transit and ground passenger transportation": 423900,
         "Transportation Employment - Truck Transportation": 1551300,
         "Personal Spending on Transportation - Transportation Services - Seasonally Adjusted": 460423000000.00006,
         "Personal Spending on Transportation - Gasoline and Other Energy Goods - Seasonally Adjusted": 447966000000,
         "Personal Spending on Transportation - Motor Vehicles and Parts - Seasonally Adjusted": 528526000000,
         "Unemployment Rate - Seasonally Adjusted": 0.037,
         "Labor Force Participation Rate - Seasonally Adjusted": 0.631,
         "Unemployed - Seasonally Adjusted": 5984000,
         "Real Gross Domestic Product - Seasonally Adjusted": 19112653000000,
         "Passenger Rail Passengers": 3108797,
         "Passenger Rail Passenger Miles": 657244637,
         "Passenger Rail Total Train Miles": 3523575,
         "Passenger Rail Employee Hours Worked": 3241361,
         "Passenger Rail Yard Switching Miles": 193669,
         "Passenger Rail Total Reports": 2,
         "U.S. Waterway Tonnage": 49600000,
         "Amtrak On-time Performance": 0.651,
         "Rail Fatalities": 78,
         "Rail Fatalities at Highway-Rail Crossings": 28,
         "Trespasser Fatalities Not at Highwaya-Rail Crossings": 48,
         "Transportation Services Index - Freight": 140.2,
         "Transportation Services Index - Passenger": 135.2,
         "Transportation Services Index - Combined": 138.2,
         "U.S.-Canada Incoming Person Crossings": 87714,
         "U.S.-Canada Incoming Truck Crossings": 478767,
         "U.S.-Mexico Incoming Person Crossings": 4343673,
         "Air Safety - Air Taxi and Commuter Fatalities": 1,
         "Heavy truck sales": 47400,
         "U.S.-Mexico Incoming Truck Crossings": 552492,
         "Light truck sales": 1014100,
         "Auto sales": 382900,
         "Air Safety - Air Carrier Fatalities": 0,
         "U.S. Air Carrier Cargo (millions of revenue ton-miles) - International": 2282852908.16,
         "Truck tonnage index": 118.9,
         "U.S. Air Carrier Cargo (millions of revenue ton-miles) - Domestic": 1372526416.74,
         "Heavy truck sales SAAR (millions)": 565000,
         "U.S. Airline Traffic - Total - Non Seasonally Adjusted": 86960000,
         "Light truck sales SAAR (millions)": 12339000,
         "U.S. Airline Traffic - International - Non Seasonally Adjusted": 11670000,
         "Auto sales SAAR (millions)": 4692000,
         "U.S. Airline Traffic - Domestic - Non Seasonally Adjusted": 75280000,
         "Transborder - Total North American Freight": 102441390634,
         "Transborder - U.S. - Mexico Freight": 52220787968,
         "U.S. marketing air carriers on-time performance (percent)": 0.8,
         "Transborder - U.S. - Canada Freight": 50220602666,
         "_deepnote_index_column": 870
        },
        {
         "Index": 871,
         "Date": 2019,
         "Air Safety - General Aviation Fatalities": 40,
         "Highway Fatalities Per 100 Million Vehicle Miles Traveled": "nan",
         "Highway Fatalities": "nan",
         "U.S. Airline Traffic - Total - Seasonally Adjusted": 77520000,
         "U.S. Airline Traffic - International - Seasonally Adjusted": 9620000,
         "U.S. Airline Traffic - Domestic - Seasonally Adjusted": 67900000,
         "Transit Ridership - Other Transit Modes - Adjusted": 20593034,
         "Transit Ridership - Fixed Route Bus - Adjusted": 384027047,
         "Transit Ridership - Urban Rail - Adjusted": 410170062,
         "Freight Rail Intermodal Units": 1089839,
         "Freight Rail Carloads": 1055024,
         "Highway Vehicle Miles Traveled - All Systems": 286439000000,
         "Highway Vehicle Miles Traveled - Total Rural": 90113000000,
         "Highway Vehicle Miles Traveled - Other Rural": 30743000000,
         "Highway Vehicle Miles Traveled - Rural Other Arterial": 35123000000,
         "Highway Vehicle Miles Traveled - Rural Interstate": 24246000000,
         "State and Local Government Construction Spending - Breakwater/Jetty": 120000000,
         "State and Local Government Construction Spending - Dam/Levee": 129000000,
         "State and Local Government Construction Spending - Conservation and Development": 335000000,
         "State and Local Government Construction Spending - Pump Station": 60000000,
         "State and Local Government Construction Spending - Line": 681000000,
         "State and Local Government Construction Spending - Water Treatment Plant": 462000000,
         "State and Local Government Construction Spending - Water Supply": 1384000000,
         "State and Local Government Construction Spending - Line/Drain": 320000000,
         "State and Local Government Construction Spending - Waste Water Treatment Plant": 742000000,
         "State and Local Government Construction Spending - Waste Water": 1062000000,
         "State and Local Government Construction Spending - Line/Pump Station": 1046000000,
         "State and Local Government Construction Spending - Sewage Treatment Plant": 248000000,
         "State and Local Government Construction Spending - Sewage / Dry Waste": 1314000000,
         "State and Local Government Construction Spending - Sewage and Waste Disposal": 2376000000,
         "State and Local Government Construction Spending - Rest Facility": 62000000,
         "State and Local Government Construction Spending - Bridge": 2655000000,
         "State and Local Government Construction Spending - Lighting": 212000000,
         "State and Local Government Construction Spending - Pavement": 7948000000,
         "State and Local Government Construction Spending - Highway and Street": 11065000000,
         "State and Local Government Construction Spending - Power": 702000000,
         "State and Local Government Construction Spending - Dock / Marina": 231000000,
         "State and Local Government Construction Spending - Water": 258000000,
         "State and Local Government Construction Spending - Mass Transit": 980000000,
         "State and Local Government Construction Spending - Land Passenger Terminal": 177000000,
         "State and Local Government Construction Spending - Land": 1510000000,
         "State and Local Government Construction Spending - Runway": 650000000,
         "State and Local Government Construction Spending - Air Passenger Terminal": 1079000000,
         "State and Local Government Construction Spending - Air": 1877000000,
         "State and Local Government Construction Spending - Transportation": 3645000000,
         "State and Local Government Construction Spending - Park / Camp": 482000000,
         "State and Local Government Construction Spending - Neighborhood Center": 139000000,
         "State and Local Government Construction Spending - Social Center": 158000000,
         "State and Local Government Construction Spending - Convention Center": 220000000,
         "State and Local Government Construction Spending - Performance / Meeting Center": 339000000,
         "State and Local Government Construction Spending - Sports": 293000000,
         "State and Local Government Construction Spending - Amusement and Recreation": 1325000000,
         "State and Local Government Construction Spending - Fire & Rescue": 228000000,
         "State and Local Government Construction Spending - Other Public Safety": 281000000,
         "State and Local Government Construction Spending - Police & Sheriff": 205000000,
         "State and Local Government Construction Spending - Detention": 266000000,
         "State and Local Government Construction Spending - Correctional": 471000000,
         "State and Local Government Construction Spending - Public Safety": 752000000,
         "State and Local Government Construction Spending - Library / Archive": 139000000,
         "State and Local Government Construction Spending - Other Educational": 205000000,
         "State and Local Government Construction Spending - Infrastructure": 159000000,
         "State and Local Government Construction Spending - Sports & Recreation": 265000000,
         "State and Local Government Construction Spending - Dormitory": 326000000,
         "State and Local Government Construction Spending - Instructional": 1306000000,
         "State and Local Government Construction Spending - Higher Education": 2395000000,
         "State and Local Government Construction Spending - High School": 3139000000,
         "State and Local Government Construction Spending - Middle School / Junior High": 1145000000,
         "State and Local Government Construction Spending - Elementary Schools": 1667000000,
         "State and Local Government Construction Spending - Primary/Secondary Schools": 6092000000,
         "State and Local Government Construction Spending - Educational": 8793000000,
         "State and Local Government Construction Spending - Special Care": 72000000,
         "State and Local Government Construction Spending - Medical Building": 142000000,
         "State and Local Government Construction Spending - Hospital": 349000000,
         "State and Local Government Construction Spending - Health Care": 563000000,
         "State and Local Government Construction Spending - Parking": 82000000,
         "State and Local Government Construction Spending - Automotive": 120000000,
         "State and Local Government Construction Spending - Commercial": 187000000,
         "State and Local Government Construction Spending - Office": 780000000,
         "State and Local Government Construction Spending - Non Residential": 32027000000,
         "State and Local Government Construction Spending - Multi Family": 527000000,
         "State and Local Government Construction Spending - Residential": 586000000,
         "State and Local Government Construction Spending - Total": 32614000000,
         "National Highway Construction Cost Index (NHCCI)": "nan",
         "Highway Fuel Price - On-highway Diesel": 3.005,
         "Highway Fuel Price - Regular Gasoline": 2.621,
         "Transportation Employment - Pipeline Transportation": 51700,
         "Transportation Employment - Water Transportation": 69400,
         "Transportation Employment - Rail Transportation": 173300,
         "Transportation Employment - Air Transportation": 508300,
         "Transportation Employment - Transit and ground passenger transportation": 422600,
         "Transportation Employment - Truck Transportation": 1549700,
         "Personal Spending on Transportation - Transportation Services - Seasonally Adjusted": "nan",
         "Personal Spending on Transportation - Gasoline and Other Energy Goods - Seasonally Adjusted": "nan",
         "Personal Spending on Transportation - Motor Vehicles and Parts - Seasonally Adjusted": "nan",
         "Unemployment Rate - Seasonally Adjusted": 0.037,
         "Labor Force Participation Rate - Seasonally Adjusted": 0.631,
         "Unemployed - Seasonally Adjusted": 5993000,
         "Real Gross Domestic Product - Seasonally Adjusted": "nan",
         "Passenger Rail Passengers": 3056574,
         "Passenger Rail Passenger Miles": 626644744,
         "Passenger Rail Total Train Miles": 3566282,
         "Passenger Rail Employee Hours Worked": 3291356,
         "Passenger Rail Yard Switching Miles": 207037,
         "Passenger Rail Total Reports": 2,
         "U.S. Waterway Tonnage": 54300000,
         "Amtrak On-time Performance": 0.708,
         "Rail Fatalities": 87,
         "Rail Fatalities at Highway-Rail Crossings": 28,
         "Trespasser Fatalities Not at Highwaya-Rail Crossings": 57,
         "Transportation Services Index - Freight": 142.1,
         "Transportation Services Index - Passenger": 136,
         "Transportation Services Index - Combined": 139.6,
         "U.S.-Canada Incoming Person Crossings": 90021,
         "U.S.-Canada Incoming Truck Crossings": 485797,
         "U.S.-Mexico Incoming Person Crossings": 4125207,
         "Air Safety - Air Taxi and Commuter Fatalities": 0,
         "Heavy truck sales": 46600,
         "U.S.-Mexico Incoming Truck Crossings": 549757,
         "Light truck sales": 1205100,
         "Auto sales": 434200,
         "Air Safety - Air Carrier Fatalities": 0,
         "U.S. Air Carrier Cargo (millions of revenue ton-miles) - International": 2259258208.79,
         "Truck tonnage index": 120.6,
         "U.S. Air Carrier Cargo (millions of revenue ton-miles) - Domestic": 1410974294.62,
         "Heavy truck sales SAAR (millions)": 535000,
         "U.S. Airline Traffic - Total - Non Seasonally Adjusted": 83780000,
         "Light truck sales SAAR (millions)": 12501000,
         "U.S. Airline Traffic - International - Non Seasonally Adjusted": 11070000,
         "Auto sales SAAR (millions)": 4609000,
         "U.S. Airline Traffic - Domestic - Non Seasonally Adjusted": 72720000,
         "Transborder - Total North American Freight": 105102970454,
         "Transborder - U.S. - Mexico Freight": 53101214084,
         "U.S. marketing air carriers on-time performance (percent)": 0.8,
         "Transborder - U.S. - Canada Freight": 52001756370,
         "_deepnote_index_column": 871
        },
        {
         "Index": 872,
         "Date": 2019,
         "Air Safety - General Aviation Fatalities": 30,
         "Highway Fatalities Per 100 Million Vehicle Miles Traveled": "nan",
         "Highway Fatalities": "nan",
         "U.S. Airline Traffic - Total - Seasonally Adjusted": 78160000,
         "U.S. Airline Traffic - International - Seasonally Adjusted": 9760000,
         "U.S. Airline Traffic - Domestic - Seasonally Adjusted": 68400000,
         "Transit Ridership - Other Transit Modes - Adjusted": 18338805,
         "Transit Ridership - Fixed Route Bus - Adjusted": 396062247,
         "Transit Ridership - Urban Rail - Adjusted": 410903169,
         "Freight Rail Intermodal Units": 1329532,
         "Freight Rail Carloads": 1239455,
         "Highway Vehicle Miles Traveled - All Systems": 268847000000,
         "Highway Vehicle Miles Traveled - Total Rural": 82659000000,
         "Highway Vehicle Miles Traveled - Other Rural": 28460000000,
         "Highway Vehicle Miles Traveled - Rural Other Arterial": 32615000000,
         "Highway Vehicle Miles Traveled - Rural Interstate": 21585000000,
         "State and Local Government Construction Spending - Breakwater/Jetty": 104000000,
         "State and Local Government Construction Spending - Dam/Levee": 125000000,
         "State and Local Government Construction Spending - Conservation and Development": 308000000,
         "State and Local Government Construction Spending - Pump Station": 76000000,
         "State and Local Government Construction Spending - Line": 737000000,
         "State and Local Government Construction Spending - Water Treatment Plant": 458000000,
         "State and Local Government Construction Spending - Water Supply": 1475000000,
         "State and Local Government Construction Spending - Line/Drain": 351000000,
         "State and Local Government Construction Spending - Waste Water Treatment Plant": 789000000,
         "State and Local Government Construction Spending - Waste Water": 1141000000,
         "State and Local Government Construction Spending - Line/Pump Station": 1115000000,
         "State and Local Government Construction Spending - Sewage Treatment Plant": 250000000,
         "State and Local Government Construction Spending - Sewage / Dry Waste": 1383000000,
         "State and Local Government Construction Spending - Sewage and Waste Disposal": 2524000000,
         "State and Local Government Construction Spending - Rest Facility": 72000000,
         "State and Local Government Construction Spending - Bridge": 2536000000,
         "State and Local Government Construction Spending - Lighting": 225000000,
         "State and Local Government Construction Spending - Pavement": 7506000000,
         "State and Local Government Construction Spending - Highway and Street": 10563000000,
         "State and Local Government Construction Spending - Power": 683000000,
         "State and Local Government Construction Spending - Dock / Marina": 215000000,
         "State and Local Government Construction Spending - Water": 240000000,
         "State and Local Government Construction Spending - Mass Transit": 917000000,
         "State and Local Government Construction Spending - Land Passenger Terminal": 163000000,
         "State and Local Government Construction Spending - Land": 1459000000,
         "State and Local Government Construction Spending - Runway": 530000000,
         "State and Local Government Construction Spending - Air Passenger Terminal": 1112000000,
         "State and Local Government Construction Spending - Air": 1770000000,
         "State and Local Government Construction Spending - Transportation": 3469000000,
         "State and Local Government Construction Spending - Park / Camp": 487000000,
         "State and Local Government Construction Spending - Neighborhood Center": 131000000,
         "State and Local Government Construction Spending - Social Center": 144000000,
         "State and Local Government Construction Spending - Convention Center": 229000000,
         "State and Local Government Construction Spending - Performance / Meeting Center": 310000000,
         "State and Local Government Construction Spending - Sports": 314000000,
         "State and Local Government Construction Spending - Amusement and Recreation": 1302000000,
         "State and Local Government Construction Spending - Fire & Rescue": 235000000,
         "State and Local Government Construction Spending - Other Public Safety": 282000000,
         "State and Local Government Construction Spending - Police & Sheriff": 191000000,
         "State and Local Government Construction Spending - Detention": 260000000,
         "State and Local Government Construction Spending - Correctional": 451000000,
         "State and Local Government Construction Spending - Public Safety": 733000000,
         "State and Local Government Construction Spending - Library / Archive": 133000000,
         "State and Local Government Construction Spending - Other Educational": 190000000,
         "State and Local Government Construction Spending - Infrastructure": 180000000,
         "State and Local Government Construction Spending - Sports & Recreation": 270000000,
         "State and Local Government Construction Spending - Dormitory": 281000000,
         "State and Local Government Construction Spending - Instructional": 1323000000,
         "State and Local Government Construction Spending - Higher Education": 2410000000,
         "State and Local Government Construction Spending - High School": 2692000000,
         "State and Local Government Construction Spending - Middle School / Junior High": 913000000,
         "State and Local Government Construction Spending - Elementary Schools": 1436000000,
         "State and Local Government Construction Spending - Primary/Secondary Schools": 5171000000,
         "State and Local Government Construction Spending - Educational": 7856000000,
         "State and Local Government Construction Spending - Special Care": 61000000,
         "State and Local Government Construction Spending - Medical Building": 155000000,
         "State and Local Government Construction Spending - Hospital": 347000000,
         "State and Local Government Construction Spending - Health Care": 563000000,
         "State and Local Government Construction Spending - Parking": 93000000,
         "State and Local Government Construction Spending - Automotive": 141000000,
         "State and Local Government Construction Spending - Commercial": 217000000,
         "State and Local Government Construction Spending - Office": 774000000,
         "State and Local Government Construction Spending - Non Residential": 30602000000,
         "State and Local Government Construction Spending - Multi Family": 551000000,
         "State and Local Government Construction Spending - Residential": 607000000,
         "State and Local Government Construction Spending - Total": 31209000000,
         "National Highway Construction Cost Index (NHCCI)": 1.971934754,
         "Highway Fuel Price - On-highway Diesel": 3.016,
         "Highway Fuel Price - Regular Gasoline": 2.592,
         "Transportation Employment - Pipeline Transportation": 51800,
         "Transportation Employment - Water Transportation": 67900,
         "Transportation Employment - Rail Transportation": 170200,
         "Transportation Employment - Air Transportation": 506300,
         "Transportation Employment - Transit and ground passenger transportation": 505300,
         "Transportation Employment - Truck Transportation": 1540000,
         "Personal Spending on Transportation - Transportation Services - Seasonally Adjusted": "nan",
         "Personal Spending on Transportation - Gasoline and Other Energy Goods - Seasonally Adjusted": "nan",
         "Personal Spending on Transportation - Motor Vehicles and Parts - Seasonally Adjusted": "nan",
         "Unemployment Rate - Seasonally Adjusted": 0.035,
         "Labor Force Participation Rate - Seasonally Adjusted": 0.632,
         "Unemployed - Seasonally Adjusted": 5766000,
         "Real Gross Domestic Product - Seasonally Adjusted": "nan",
         "Passenger Rail Passengers": 2748268,
         "Passenger Rail Passenger Miles": 528336348,
         "Passenger Rail Total Train Miles": 3388490,
         "Passenger Rail Employee Hours Worked": 3045856,
         "Passenger Rail Yard Switching Miles": 184628,
         "Passenger Rail Total Reports": 2,
         "U.S. Waterway Tonnage": 49300000,
         "Amtrak On-time Performance": 0.767,
         "Rail Fatalities": 67,
         "Rail Fatalities at Highway-Rail Crossings": 28,
         "Trespasser Fatalities Not at Highwaya-Rail Crossings": 36,
         "Transportation Services Index - Freight": 138.6,
         "Transportation Services Index - Passenger": 136.2,
         "Transportation Services Index - Combined": 137.5,
         "U.S.-Canada Incoming Person Crossings": 58478,
         "U.S.-Canada Incoming Truck Crossings": 482147,
         "U.S.-Mexico Incoming Person Crossings": 3983133,
         "Air Safety - Air Taxi and Commuter Fatalities": 0,
         "Heavy truck sales": 48500,
         "U.S.-Mexico Incoming Truck Crossings": 514257,
         "Light truck sales": 928200,
         "Auto sales": 339500,
         "Air Safety - Air Carrier Fatalities": 0,
         "U.S. Air Carrier Cargo (millions of revenue ton-miles) - International": 2223775950.2,
         "Truck tonnage index": 117.7,
         "U.S. Air Carrier Cargo (millions of revenue ton-miles) - Domestic": 1304837720.14,
         "Heavy truck sales SAAR (millions)": 554000,
         "U.S. Airline Traffic - Total - Non Seasonally Adjusted": 72590000,
         "Light truck sales SAAR (millions)": 12564000,
         "U.S. Airline Traffic - International - Non Seasonally Adjusted": 8610000,
         "Auto sales SAAR (millions)": 4596000,
         "U.S. Airline Traffic - Domestic - Non Seasonally Adjusted": 63980000,
         "Transborder - Total North American Freight": 101434882134,
         "Transborder - U.S. - Mexico Freight": 50148716087,
         "U.S. marketing air carriers on-time performance (percent)": 0.8,
         "Transborder - U.S. - Canada Freight": 51286166047,
         "_deepnote_index_column": 872
        },
        {
         "Index": 873,
         "Date": 2019,
         "Air Safety - General Aviation Fatalities": 51,
         "Highway Fatalities Per 100 Million Vehicle Miles Traveled": 1.12,
         "Highway Fatalities": 9155,
         "U.S. Airline Traffic - Total - Seasonally Adjusted": 77850000,
         "U.S. Airline Traffic - International - Seasonally Adjusted": 9680000,
         "U.S. Airline Traffic - Domestic - Seasonally Adjusted": 68170000,
         "Transit Ridership - Other Transit Modes - Adjusted": 19083744,
         "Transit Ridership - Fixed Route Bus - Adjusted": 426327140,
         "Transit Ridership - Urban Rail - Adjusted": 448819797,
         "Freight Rail Intermodal Units": 1063908,
         "Freight Rail Carloads": 977406,
         "Highway Vehicle Miles Traveled - All Systems": 282972000000,
         "Highway Vehicle Miles Traveled - Total Rural": 85972000000,
         "Highway Vehicle Miles Traveled - Other Rural": 29623000000,
         "Highway Vehicle Miles Traveled - Rural Other Arterial": 33849000000,
         "Highway Vehicle Miles Traveled - Rural Interstate": 22500000000,
         "State and Local Government Construction Spending - Breakwater/Jetty": 92000000,
         "State and Local Government Construction Spending - Dam/Levee": 134000000,
         "State and Local Government Construction Spending - Conservation and Development": 304000000,
         "State and Local Government Construction Spending - Pump Station": 106000000,
         "State and Local Government Construction Spending - Line": 729000000,
         "State and Local Government Construction Spending - Water Treatment Plant": 485000000,
         "State and Local Government Construction Spending - Water Supply": 1507000000,
         "State and Local Government Construction Spending - Line/Drain": 301000000,
         "State and Local Government Construction Spending - Waste Water Treatment Plant": 771000000,
         "State and Local Government Construction Spending - Waste Water": 1073000000,
         "State and Local Government Construction Spending - Line/Pump Station": 1033000000,
         "State and Local Government Construction Spending - Sewage Treatment Plant": 230000000,
         "State and Local Government Construction Spending - Sewage / Dry Waste": 1276000000,
         "State and Local Government Construction Spending - Sewage and Waste Disposal": 2348000000,
         "State and Local Government Construction Spending - Rest Facility": 63000000,
         "State and Local Government Construction Spending - Bridge": 2276000000,
         "State and Local Government Construction Spending - Lighting": 213000000,
         "State and Local Government Construction Spending - Pavement": 6663000000,
         "State and Local Government Construction Spending - Highway and Street": 9480000000,
         "State and Local Government Construction Spending - Power": 677000000,
         "State and Local Government Construction Spending - Dock / Marina": 221000000,
         "State and Local Government Construction Spending - Water": 239000000,
         "State and Local Government Construction Spending - Mass Transit": 906000000,
         "State and Local Government Construction Spending - Land Passenger Terminal": 142000000,
         "State and Local Government Construction Spending - Land": 1438000000,
         "State and Local Government Construction Spending - Runway": 496000000,
         "State and Local Government Construction Spending - Air Passenger Terminal": 1140000000,
         "State and Local Government Construction Spending - Air": 1732000000,
         "State and Local Government Construction Spending - Transportation": 3409000000,
         "State and Local Government Construction Spending - Park / Camp": 461000000,
         "State and Local Government Construction Spending - Neighborhood Center": 133000000,
         "State and Local Government Construction Spending - Social Center": 148000000,
         "State and Local Government Construction Spending - Convention Center": 239000000,
         "State and Local Government Construction Spending - Performance / Meeting Center": 322000000,
         "State and Local Government Construction Spending - Sports": 297000000,
         "State and Local Government Construction Spending - Amusement and Recreation": 1281000000,
         "State and Local Government Construction Spending - Fire & Rescue": 245000000,
         "State and Local Government Construction Spending - Other Public Safety": 305000000,
         "State and Local Government Construction Spending - Police & Sheriff": 207000000,
         "State and Local Government Construction Spending - Detention": 281000000,
         "State and Local Government Construction Spending - Correctional": 488000000,
         "State and Local Government Construction Spending - Public Safety": 794000000,
         "State and Local Government Construction Spending - Library / Archive": 117000000,
         "State and Local Government Construction Spending - Other Educational": 185000000,
         "State and Local Government Construction Spending - Infrastructure": 176000000,
         "State and Local Government Construction Spending - Sports & Recreation": 256000000,
         "State and Local Government Construction Spending - Dormitory": 290000000,
         "State and Local Government Construction Spending - Instructional": 1272000000,
         "State and Local Government Construction Spending - Higher Education": 2260000000,
         "State and Local Government Construction Spending - High School": 2475000000,
         "State and Local Government Construction Spending - Middle School / Junior High": 918000000,
         "State and Local Government Construction Spending - Elementary Schools": 1379000000,
         "State and Local Government Construction Spending - Primary/Secondary Schools": 4933000000,
         "State and Local Government Construction Spending - Educational": 7469000000,
         "State and Local Government Construction Spending - Special Care": 87000000,
         "State and Local Government Construction Spending - Medical Building": 165000000,
         "State and Local Government Construction Spending - Hospital": 346000000,
         "State and Local Government Construction Spending - Health Care": 598000000,
         "State and Local Government Construction Spending - Parking": 99000000,
         "State and Local Government Construction Spending - Automotive": 145000000,
         "State and Local Government Construction Spending - Commercial": 219000000,
         "State and Local Government Construction Spending - Office": 765000000,
         "State and Local Government Construction Spending - Non Residential": 28996000000,
         "State and Local Government Construction Spending - Multi Family": 545000000,
         "State and Local Government Construction Spending - Residential": 610000000,
         "State and Local Government Construction Spending - Total": 29607000000,
         "National Highway Construction Cost Index (NHCCI)": "nan",
         "Highway Fuel Price - On-highway Diesel": 3.053,
         "Highway Fuel Price - Regular Gasoline": 2.627,
         "Transportation Employment - Pipeline Transportation": 51800,
         "Transportation Employment - Water Transportation": 68200,
         "Transportation Employment - Rail Transportation": 167300,
         "Transportation Employment - Air Transportation": 509800,
         "Transportation Employment - Transit and ground passenger transportation": 509200,
         "Transportation Employment - Truck Transportation": 1539500,
         "Personal Spending on Transportation - Transportation Services - Seasonally Adjusted": 461905000000,
         "Personal Spending on Transportation - Gasoline and Other Energy Goods - Seasonally Adjusted": 442967000000.00006,
         "Personal Spending on Transportation - Motor Vehicles and Parts - Seasonally Adjusted": 537490000000,
         "Unemployment Rate - Seasonally Adjusted": 0.036,
         "Labor Force Participation Rate - Seasonally Adjusted": 0.632,
         "Unemployed - Seasonally Adjusted": 5980000,
         "Real Gross Domestic Product - Seasonally Adjusted": 19202310000000,
         "Passenger Rail Passengers": 2856692,
         "Passenger Rail Passenger Miles": 540165523,
         "Passenger Rail Total Train Miles": 3535184,
         "Passenger Rail Employee Hours Worked": 3314190,
         "Passenger Rail Yard Switching Miles": 185349,
         "Passenger Rail Total Reports": 2,
         "U.S. Waterway Tonnage": 54200000,
         "Amtrak On-time Performance": 0.767,
         "Rail Fatalities": 85,
         "Rail Fatalities at Highway-Rail Crossings": 36,
         "Trespasser Fatalities Not at Highwaya-Rail Crossings": 49,
         "Transportation Services Index - Freight": 138.3,
         "Transportation Services Index - Passenger": 135.6,
         "Transportation Services Index - Combined": 137.2,
         "U.S.-Canada Incoming Person Crossings": 46365,
         "U.S.-Canada Incoming Truck Crossings": 501929,
         "U.S.-Mexico Incoming Person Crossings": 4141103,
         "Air Safety - Air Taxi and Commuter Fatalities": 0,
         "Heavy truck sales": 46200,
         "U.S.-Mexico Incoming Truck Crossings": 574078,
         "Light truck sales": 991100,
         "Auto sales": 343800,
         "Air Safety - Air Carrier Fatalities": 1,
         "U.S. Air Carrier Cargo (millions of revenue ton-miles) - International": 2399057228.94,
         "Truck tonnage index": 118,
         "U.S. Air Carrier Cargo (millions of revenue ton-miles) - Domestic": 1433811470.34,
         "Heavy truck sales SAAR (millions)": 505000,
         "U.S. Airline Traffic - Total - Non Seasonally Adjusted": 78620000,
         "Light truck sales SAAR (millions)": 12330000,
         "U.S. Airline Traffic - International - Non Seasonally Adjusted": 8690000,
         "Auto sales SAAR (millions)": 4395000,
         "U.S. Airline Traffic - Domestic - Non Seasonally Adjusted": 69920000,
         "Transborder - Total North American Freight": 107112005583.99998,
         "Transborder - U.S. - Mexico Freight": 53351771221,
         "U.S. marketing air carriers on-time performance (percent)": 0.8,
         "Transborder - U.S. - Canada Freight": 53760234363,
         "_deepnote_index_column": 873
        }
       ]
      },
      "text/plain": "     Index  Date  Air Safety - General Aviation Fatalities  \\\n864    864  2019                                      21.0   \n865    865  2019                                      21.0   \n866    866  2019                                      32.0   \n867    867  2019                                      28.0   \n868    868  2019                                      48.0   \n869    869  2019                                      69.0   \n870    870  2019                                      29.0   \n871    871  2019                                      40.0   \n872    872  2019                                      30.0   \n873    873  2019                                      51.0   \n874    874  2019                                      30.0   \n875    875  2019                                      14.0   \n876    876  2020                                      28.0   \n877    877  2020                                      25.0   \n878    878  2020                                      17.0   \n\n     Highway Fatalities Per 100 Million Vehicle Miles Traveled  \\\n864                                               1.04           \n865                                                NaN           \n866                                                NaN           \n867                                               1.08           \n868                                                NaN           \n869                                                NaN           \n870                                               1.17           \n871                                                NaN           \n872                                                NaN           \n873                                               1.12           \n874                                                NaN           \n875                                                NaN           \n876                                               1.12           \n877                                                NaN           \n878                                                NaN           \n\n     Highway Fatalities  U.S. Airline Traffic - Total - Seasonally Adjusted  \\\n864              7816.0                                         75040000.0    \n865                 NaN                                         76020000.0    \n866                 NaN                                         76710000.0    \n867              9172.0                                         76800000.0    \n868                 NaN                                         77040000.0    \n869                 NaN                                         77250000.0    \n870              9953.0                                         77210000.0    \n871                 NaN                                         77520000.0    \n872                 NaN                                         78160000.0    \n873              9155.0                                         77850000.0    \n874                 NaN                                         78830000.0    \n875                 NaN                                         78690000.0    \n876              7900.0                                         79590000.0    \n877                 NaN                                         78840000.0    \n878                 NaN                                         37460000.0    \n\n     U.S. Airline Traffic - International - Seasonally Adjusted  \\\n864                                          9430000.0            \n865                                          9600000.0            \n866                                          9620000.0            \n867                                          9620000.0            \n868                                          9620000.0            \n869                                          9590000.0            \n870                                          9540000.0            \n871                                          9620000.0            \n872                                          9760000.0            \n873                                          9680000.0            \n874                                          9690000.0            \n875                                          9620000.0            \n876                                          9680000.0            \n877                                          9350000.0            \n878                                          4560000.0            \n\n     U.S. Airline Traffic - Domestic - Seasonally Adjusted  \\\n864                                         65600000.0       \n865                                         66420000.0       \n866                                         67090000.0       \n867                                         67180000.0       \n868                                         67420000.0       \n869                                         67670000.0       \n870                                         67680000.0       \n871                                         67900000.0       \n872                                         68400000.0       \n873                                         68170000.0       \n874                                         69140000.0       \n875                                         69070000.0       \n876                                         69910000.0       \n877                                         69480000.0       \n878                                         32900000.0       \n\n     Transit Ridership - Other Transit Modes - Adjusted  \\\n864                                         16515635.0    \n865                                         15136059.0    \n866                                         17796909.0    \n867                                         18746430.0    \n868                                         19596702.0    \n869                                         19006565.0    \n870                                         20378395.0    \n871                                         20593034.0    \n872                                         18338805.0    \n873                                         19083744.0    \n874                                         16328180.0    \n875                                         16239029.0    \n876                                         16883290.0    \n877                                         16123791.0    \n878                                         10828249.0    \n\n     Transit Ridership - Fixed Route Bus - Adjusted  ...  \\\n864                                     367851089.0  ...   \n865                                     354692992.0  ...   \n866                                     390228157.0  ...   \n867                                     397479345.0  ...   \n868                                     399640786.0  ...   \n869                                     362002815.0  ...   \n870                                     369257081.0  ...   \n871                                     384027047.0  ...   \n872                                     396062247.0  ...   \n873                                     426327140.0  ...   \n874                                     371791492.0  ...   \n875                                     352319744.0  ...   \n876                                     375738346.0  ...   \n877                                     364933382.0  ...   \n878                                     260816728.0  ...   \n\n     Heavy truck sales SAAR (millions)  \\\n864                           522000.0   \n865                           510000.0   \n866                           524000.0   \n867                           570000.0   \n868                           564000.0   \n869                           550000.0   \n870                           565000.0   \n871                           535000.0   \n872                           554000.0   \n873                           505000.0   \n874                           456000.0   \n875                           470000.0   \n876                           431000.0   \n877                           456000.0   \n878                           387000.0   \n\n     U.S. Airline Traffic - Total - Non Seasonally Adjusted  \\\n864                                         67020000.0        \n865                                         63580000.0        \n866                                         80210000.0        \n867                                         76430000.0        \n868                                         81350000.0        \n869                                         83840000.0        \n870                                         86960000.0        \n871                                         83780000.0        \n872                                         72590000.0        \n873                                         78620000.0        \n874                                         73070000.0        \n875                                         79300000.0        \n876                                         70780000.0        \n877                                         67830000.0        \n878                                         39070000.0        \n\n     Light truck sales SAAR (millions)  \\\n864                         11503000.0   \n865                         11861000.0   \n866                         12210000.0   \n867                         11668000.0   \n868                         12474000.0   \n869                         12380000.0   \n870                         12339000.0   \n871                         12501000.0   \n872                         12564000.0   \n873                         12330000.0   \n874                         12700000.0   \n875                         12367000.0   \n876                         12533000.0   \n877                         12609000.0   \n878                          8400000.0   \n\n     U.S. Airline Traffic - International - Non Seasonally Adjusted  \\\n864                                          8980000.0                \n865                                          7900000.0                \n866                                          9980000.0                \n867                                          9490000.0                \n868                                          9980000.0                \n869                                         11050000.0                \n870                                         11670000.0                \n871                                         11070000.0                \n872                                          8610000.0                \n873                                          8690000.0                \n874                                          8260000.0                \n875                                          9580000.0                \n876                                          9160000.0                \n877                                          7960000.0                \n878                                          4650000.0                \n\n     Auto sales SAAR (millions)  \\\n864                   5241000.0   \n865                   4814000.0   \n866                   4922000.0   \n867                   4760000.0   \n868                   4802000.0   \n869                   4902000.0   \n870                   4692000.0   \n871                   4609000.0   \n872                   4596000.0   \n873                   4395000.0   \n874                   4401000.0   \n875                   4502000.0   \n876                   4342000.0   \n877                   4272000.0   \n878                   2847000.0   \n\n     U.S. Airline Traffic - Domestic - Non Seasonally Adjusted  \\\n864                                         58030000.0           \n865                                         55680000.0           \n866                                         70230000.0           \n867                                         66940000.0           \n868                                         71370000.0           \n869                                         72790000.0           \n870                                         75280000.0           \n871                                         72720000.0           \n872                                         63980000.0           \n873                                         69920000.0           \n874                                         64820000.0           \n875                                         69720000.0           \n876                                         61620000.0           \n877                                         59870000.0           \n878                                         34410000.0           \n\n     Transborder - Total North American Freight  \\\n864                                9.562308e+10   \n865                                9.418898e+10   \n866                                1.072299e+11   \n867                                1.045488e+11   \n868                                1.097959e+11   \n869                                1.037658e+11   \n870                                1.024414e+11   \n871                                1.051030e+11   \n872                                1.014349e+11   \n873                                1.071120e+11   \n874                                9.903155e+10   \n875                                9.634248e+10   \n876                                9.709232e+10   \n877                                9.594929e+10   \n878                                9.881026e+10   \n\n     Transborder - U.S. - Mexico Freight  \\\n864                         4.959533e+10   \n865                         4.782260e+10   \n866                         5.316518e+10   \n867                         5.259620e+10   \n868                         5.454501e+10   \n869                         5.116206e+10   \n870                         5.222079e+10   \n871                         5.310121e+10   \n872                         5.014872e+10   \n873                         5.335177e+10   \n874                         5.010448e+10   \n875                         4.668673e+10   \n876                         4.916571e+10   \n877                         4.845558e+10   \n878                         5.015464e+10   \n\n     U.S. marketing air carriers on-time performance (percent)  \\\n864                                                0.8           \n865                                                0.7           \n866                                                0.8           \n867                                                0.8           \n868                                                0.8           \n869                                                0.7           \n870                                                0.8           \n871                                                0.8           \n872                                                0.8           \n873                                                0.8           \n874                                                0.8           \n875                                                0.8           \n876                                                0.8           \n877                                                0.8           \n878                                                0.7           \n\n     Transborder - U.S. - Canada Freight  \n864                         4.602775e+10  \n865                         4.636638e+10  \n866                         5.406468e+10  \n867                         5.195258e+10  \n868                         5.525088e+10  \n869                         5.260373e+10  \n870                         5.022060e+10  \n871                         5.200176e+10  \n872                         5.128617e+10  \n873                         5.376023e+10  \n874                         4.892707e+10  \n875                         4.965575e+10  \n876                         4.792660e+10  \n877                         4.749372e+10  \n878                         4.865562e+10  \n\n[15 rows x 136 columns]",
      "text/html": "<div>\n<style scoped>\n    .dataframe tbody tr th:only-of-type {\n        vertical-align: middle;\n    }\n\n    .dataframe tbody tr th {\n        vertical-align: top;\n    }\n\n    .dataframe thead th {\n        text-align: right;\n    }\n</style>\n<table border=\"1\" class=\"dataframe\">\n  <thead>\n    <tr style=\"text-align: right;\">\n      <th></th>\n      <th>Index</th>\n      <th>Date</th>\n      <th>Air Safety - General Aviation Fatalities</th>\n      <th>Highway Fatalities Per 100 Million Vehicle Miles Traveled</th>\n      <th>Highway Fatalities</th>\n      <th>U.S. Airline Traffic - Total - Seasonally Adjusted</th>\n      <th>U.S. Airline Traffic - International - Seasonally Adjusted</th>\n      <th>U.S. Airline Traffic - Domestic - Seasonally Adjusted</th>\n      <th>Transit Ridership - Other Transit Modes - Adjusted</th>\n      <th>Transit Ridership - Fixed Route Bus - Adjusted</th>\n      <th>...</th>\n      <th>Heavy truck sales SAAR (millions)</th>\n      <th>U.S. Airline Traffic - Total - Non Seasonally Adjusted</th>\n      <th>Light truck sales SAAR (millions)</th>\n      <th>U.S. Airline Traffic - International - Non Seasonally Adjusted</th>\n      <th>Auto sales SAAR (millions)</th>\n      <th>U.S. Airline Traffic - Domestic - Non Seasonally Adjusted</th>\n      <th>Transborder - Total North American Freight</th>\n      <th>Transborder - U.S. - Mexico Freight</th>\n      <th>U.S. marketing air carriers on-time performance (percent)</th>\n      <th>Transborder - U.S. - Canada Freight</th>\n    </tr>\n  </thead>\n  <tbody>\n    <tr>\n      <th>864</th>\n      <td>864</td>\n      <td>2019</td>\n      <td>21.0</td>\n      <td>1.04</td>\n      <td>7816.0</td>\n      <td>75040000.0</td>\n      <td>9430000.0</td>\n      <td>65600000.0</td>\n      <td>16515635.0</td>\n      <td>367851089.0</td>\n      <td>...</td>\n      <td>522000.0</td>\n      <td>67020000.0</td>\n      <td>11503000.0</td>\n      <td>8980000.0</td>\n      <td>5241000.0</td>\n      <td>58030000.0</td>\n      <td>9.562308e+10</td>\n      <td>4.959533e+10</td>\n      <td>0.8</td>\n      <td>4.602775e+10</td>\n    </tr>\n    <tr>\n      <th>865</th>\n      <td>865</td>\n      <td>2019</td>\n      <td>21.0</td>\n      <td>NaN</td>\n      <td>NaN</td>\n      <td>76020000.0</td>\n      <td>9600000.0</td>\n      <td>66420000.0</td>\n      <td>15136059.0</td>\n      <td>354692992.0</td>\n      <td>...</td>\n      <td>510000.0</td>\n      <td>63580000.0</td>\n      <td>11861000.0</td>\n      <td>7900000.0</td>\n      <td>4814000.0</td>\n      <td>55680000.0</td>\n      <td>9.418898e+10</td>\n      <td>4.782260e+10</td>\n      <td>0.7</td>\n      <td>4.636638e+10</td>\n    </tr>\n    <tr>\n      <th>866</th>\n      <td>866</td>\n      <td>2019</td>\n      <td>32.0</td>\n      <td>NaN</td>\n      <td>NaN</td>\n      <td>76710000.0</td>\n      <td>9620000.0</td>\n      <td>67090000.0</td>\n      <td>17796909.0</td>\n      <td>390228157.0</td>\n      <td>...</td>\n      <td>524000.0</td>\n      <td>80210000.0</td>\n      <td>12210000.0</td>\n      <td>9980000.0</td>\n      <td>4922000.0</td>\n      <td>70230000.0</td>\n      <td>1.072299e+11</td>\n      <td>5.316518e+10</td>\n      <td>0.8</td>\n      <td>5.406468e+10</td>\n    </tr>\n    <tr>\n      <th>867</th>\n      <td>867</td>\n      <td>2019</td>\n      <td>28.0</td>\n      <td>1.08</td>\n      <td>9172.0</td>\n      <td>76800000.0</td>\n      <td>9620000.0</td>\n      <td>67180000.0</td>\n      <td>18746430.0</td>\n      <td>397479345.0</td>\n      <td>...</td>\n      <td>570000.0</td>\n      <td>76430000.0</td>\n      <td>11668000.0</td>\n      <td>9490000.0</td>\n      <td>4760000.0</td>\n      <td>66940000.0</td>\n      <td>1.045488e+11</td>\n      <td>5.259620e+10</td>\n      <td>0.8</td>\n      <td>5.195258e+10</td>\n    </tr>\n    <tr>\n      <th>868</th>\n      <td>868</td>\n      <td>2019</td>\n      <td>48.0</td>\n      <td>NaN</td>\n      <td>NaN</td>\n      <td>77040000.0</td>\n      <td>9620000.0</td>\n      <td>67420000.0</td>\n      <td>19596702.0</td>\n      <td>399640786.0</td>\n      <td>...</td>\n      <td>564000.0</td>\n      <td>81350000.0</td>\n      <td>12474000.0</td>\n      <td>9980000.0</td>\n      <td>4802000.0</td>\n      <td>71370000.0</td>\n      <td>1.097959e+11</td>\n      <td>5.454501e+10</td>\n      <td>0.8</td>\n      <td>5.525088e+10</td>\n    </tr>\n    <tr>\n      <th>869</th>\n      <td>869</td>\n      <td>2019</td>\n      <td>69.0</td>\n      <td>NaN</td>\n      <td>NaN</td>\n      <td>77250000.0</td>\n      <td>9590000.0</td>\n      <td>67670000.0</td>\n      <td>19006565.0</td>\n      <td>362002815.0</td>\n      <td>...</td>\n      <td>550000.0</td>\n      <td>83840000.0</td>\n      <td>12380000.0</td>\n      <td>11050000.0</td>\n      <td>4902000.0</td>\n      <td>72790000.0</td>\n      <td>1.037658e+11</td>\n      <td>5.116206e+10</td>\n      <td>0.7</td>\n      <td>5.260373e+10</td>\n    </tr>\n    <tr>\n      <th>870</th>\n      <td>870</td>\n      <td>2019</td>\n      <td>29.0</td>\n      <td>1.17</td>\n      <td>9953.0</td>\n      <td>77210000.0</td>\n      <td>9540000.0</td>\n      <td>67680000.0</td>\n      <td>20378395.0</td>\n      <td>369257081.0</td>\n      <td>...</td>\n      <td>565000.0</td>\n      <td>86960000.0</td>\n      <td>12339000.0</td>\n      <td>11670000.0</td>\n      <td>4692000.0</td>\n      <td>75280000.0</td>\n      <td>1.024414e+11</td>\n      <td>5.222079e+10</td>\n      <td>0.8</td>\n      <td>5.022060e+10</td>\n    </tr>\n    <tr>\n      <th>871</th>\n      <td>871</td>\n      <td>2019</td>\n      <td>40.0</td>\n      <td>NaN</td>\n      <td>NaN</td>\n      <td>77520000.0</td>\n      <td>9620000.0</td>\n      <td>67900000.0</td>\n      <td>20593034.0</td>\n      <td>384027047.0</td>\n      <td>...</td>\n      <td>535000.0</td>\n      <td>83780000.0</td>\n      <td>12501000.0</td>\n      <td>11070000.0</td>\n      <td>4609000.0</td>\n      <td>72720000.0</td>\n      <td>1.051030e+11</td>\n      <td>5.310121e+10</td>\n      <td>0.8</td>\n      <td>5.200176e+10</td>\n    </tr>\n    <tr>\n      <th>872</th>\n      <td>872</td>\n      <td>2019</td>\n      <td>30.0</td>\n      <td>NaN</td>\n      <td>NaN</td>\n      <td>78160000.0</td>\n      <td>9760000.0</td>\n      <td>68400000.0</td>\n      <td>18338805.0</td>\n      <td>396062247.0</td>\n      <td>...</td>\n      <td>554000.0</td>\n      <td>72590000.0</td>\n      <td>12564000.0</td>\n      <td>8610000.0</td>\n      <td>4596000.0</td>\n      <td>63980000.0</td>\n      <td>1.014349e+11</td>\n      <td>5.014872e+10</td>\n      <td>0.8</td>\n      <td>5.128617e+10</td>\n    </tr>\n    <tr>\n      <th>873</th>\n      <td>873</td>\n      <td>2019</td>\n      <td>51.0</td>\n      <td>1.12</td>\n      <td>9155.0</td>\n      <td>77850000.0</td>\n      <td>9680000.0</td>\n      <td>68170000.0</td>\n      <td>19083744.0</td>\n      <td>426327140.0</td>\n      <td>...</td>\n      <td>505000.0</td>\n      <td>78620000.0</td>\n      <td>12330000.0</td>\n      <td>8690000.0</td>\n      <td>4395000.0</td>\n      <td>69920000.0</td>\n      <td>1.071120e+11</td>\n      <td>5.335177e+10</td>\n      <td>0.8</td>\n      <td>5.376023e+10</td>\n    </tr>\n    <tr>\n      <th>874</th>\n      <td>874</td>\n      <td>2019</td>\n      <td>30.0</td>\n      <td>NaN</td>\n      <td>NaN</td>\n      <td>78830000.0</td>\n      <td>9690000.0</td>\n      <td>69140000.0</td>\n      <td>16328180.0</td>\n      <td>371791492.0</td>\n      <td>...</td>\n      <td>456000.0</td>\n      <td>73070000.0</td>\n      <td>12700000.0</td>\n      <td>8260000.0</td>\n      <td>4401000.0</td>\n      <td>64820000.0</td>\n      <td>9.903155e+10</td>\n      <td>5.010448e+10</td>\n      <td>0.8</td>\n      <td>4.892707e+10</td>\n    </tr>\n    <tr>\n      <th>875</th>\n      <td>875</td>\n      <td>2019</td>\n      <td>14.0</td>\n      <td>NaN</td>\n      <td>NaN</td>\n      <td>78690000.0</td>\n      <td>9620000.0</td>\n      <td>69070000.0</td>\n      <td>16239029.0</td>\n      <td>352319744.0</td>\n      <td>...</td>\n      <td>470000.0</td>\n      <td>79300000.0</td>\n      <td>12367000.0</td>\n      <td>9580000.0</td>\n      <td>4502000.0</td>\n      <td>69720000.0</td>\n      <td>9.634248e+10</td>\n      <td>4.668673e+10</td>\n      <td>0.8</td>\n      <td>4.965575e+10</td>\n    </tr>\n    <tr>\n      <th>876</th>\n      <td>876</td>\n      <td>2020</td>\n      <td>28.0</td>\n      <td>1.12</td>\n      <td>7900.0</td>\n      <td>79590000.0</td>\n      <td>9680000.0</td>\n      <td>69910000.0</td>\n      <td>16883290.0</td>\n      <td>375738346.0</td>\n      <td>...</td>\n      <td>431000.0</td>\n      <td>70780000.0</td>\n      <td>12533000.0</td>\n      <td>9160000.0</td>\n      <td>4342000.0</td>\n      <td>61620000.0</td>\n      <td>9.709232e+10</td>\n      <td>4.916571e+10</td>\n      <td>0.8</td>\n      <td>4.792660e+10</td>\n    </tr>\n    <tr>\n      <th>877</th>\n      <td>877</td>\n      <td>2020</td>\n      <td>25.0</td>\n      <td>NaN</td>\n      <td>NaN</td>\n      <td>78840000.0</td>\n      <td>9350000.0</td>\n      <td>69480000.0</td>\n      <td>16123791.0</td>\n      <td>364933382.0</td>\n      <td>...</td>\n      <td>456000.0</td>\n      <td>67830000.0</td>\n      <td>12609000.0</td>\n      <td>7960000.0</td>\n      <td>4272000.0</td>\n      <td>59870000.0</td>\n      <td>9.594929e+10</td>\n      <td>4.845558e+10</td>\n      <td>0.8</td>\n      <td>4.749372e+10</td>\n    </tr>\n    <tr>\n      <th>878</th>\n      <td>878</td>\n      <td>2020</td>\n      <td>17.0</td>\n      <td>NaN</td>\n      <td>NaN</td>\n      <td>37460000.0</td>\n      <td>4560000.0</td>\n      <td>32900000.0</td>\n      <td>10828249.0</td>\n      <td>260816728.0</td>\n      <td>...</td>\n      <td>387000.0</td>\n      <td>39070000.0</td>\n      <td>8400000.0</td>\n      <td>4650000.0</td>\n      <td>2847000.0</td>\n      <td>34410000.0</td>\n      <td>9.881026e+10</td>\n      <td>5.015464e+10</td>\n      <td>0.7</td>\n      <td>4.865562e+10</td>\n    </tr>\n  </tbody>\n</table>\n<p>15 rows × 136 columns</p>\n</div>"
     },
     "metadata": {}
    }
   ]
  },
  {
   "cell_type": "markdown",
   "source": "#Goal: to look at pre pandemic and post pandemic effect on government spending \n#hypothesis testing: Is year associated with government spending for a specific location? \n\n#Null hypothesis: There was no difference in the mean of government spending for 2019 versus 2020\n#Alternative hypthesis: On average government spending was less in 2020 than in 2019 ",
   "metadata": {
    "deepnote_to_be_reexecuted": false,
    "execution_millis": 2,
    "execution_start": 1652050201664,
    "source_hash": "a2521774",
    "tags": [],
    "cell_id": "00002-eaed6ebb-a2d0-4289-8310-9b6b63e7eb4e",
    "deepnote_cell_type": "markdown",
    "deepnote_cell_height": 133.59375
   }
  },
  {
   "cell_type": "markdown",
   "source": "# Government Spending - Sports & Rec",
   "metadata": {
    "tags": [],
    "cell_id": "00003-9f9319f7-d21a-4fdb-8156-f213d142e0e5",
    "deepnote_cell_type": "markdown",
    "deepnote_cell_height": 82
   }
  },
  {
   "cell_type": "code",
   "metadata": {
    "deepnote_to_be_reexecuted": false,
    "execution_millis": 12490,
    "execution_start": 1652129112922,
    "source_hash": "d40bf244",
    "tags": [],
    "cell_id": "00004-0711215b-b45b-45dd-8069-d395252a8583",
    "deepnote_cell_type": "code",
    "deepnote_cell_height": 841.15625
   },
   "source": "#Hypothesis test skeleton code\n\ndef difference_of_means(table,label, location):\n    \"\"\"Takes: name of table,\n    column label that indicates the year\n    Returns: Difference of mean government spending of the two years for that location\"\"\"\n    reduced = table[[label, location]]\n    means_table = reduced.groupby(label).mean()\n    means = np.array(means_table.iloc[:,0])\n    difference = means[1] - means[0]\n    return difference\n\n\ndef one_simulated_difference_of_means(table, label, location):\n    \"\"\"Returns: Difference between mean government spending for the 2 years after shuffling labels\n    (after shuffling year)\"\"\"\n    x = np.array(table[label])\n    np.random.shuffle(x)\n    shuffled_table = table[[label, location]]\n    shuffled_table[label] = x\n    return difference_of_means(shuffled_table, label, location)   \n\n\ndifferences = []\n\nrepetitions = 5000\nfor i in np.arange(repetitions):\n    new_difference = one_simulated_difference_of_means(spending,'Date', 'State and Local Government Construction Spending - Sports & Recreation')\n    differences = np.append(differences, new_difference)  \n\n\nobserved_difference = difference_of_means(spending,'Date', 'State and Local Government Construction Spending - Sports & Recreation')\nempirical_p = np.count_nonzero(differences <= observed_difference) / repetitions\nempirical_p",
   "execution_count": null,
   "outputs": [
    {
     "name": "stderr",
     "text": "/shared-libs/python3.7/py-core/lib/python3.7/site-packages/ipykernel_launcher.py:20: SettingWithCopyWarning: \nA value is trying to be set on a copy of a slice from a DataFrame.\nTry using .loc[row_indexer,col_indexer] = value instead\n\nSee the caveats in the documentation: https://pandas.pydata.org/pandas-docs/stable/user_guide/indexing.html#returning-a-view-versus-a-copy\n",
     "output_type": "stream"
    },
    {
     "output_type": "execute_result",
     "execution_count": 4,
     "data": {
      "text/plain": "0.1338"
     },
     "metadata": {}
    }
   ]
  },
  {
   "cell_type": "code",
   "metadata": {
    "deepnote_to_be_reexecuted": false,
    "execution_millis": 705,
    "execution_start": 1652129125416,
    "source_hash": "478533f6",
    "tags": [],
    "cell_id": "00005-c0e6184d-bf4a-4a51-be64-11f17e66de31",
    "deepnote_cell_type": "code",
    "deepnote_cell_height": 501.6875
   },
   "source": "plt.hist(differences)\nplt.xlabel('Difference Between Group Means')\nplt.title('Prediction Under the Null Hypothesis')\nplt.scatter(observed_difference, 0, color='blue')\nprint('Observed Difference:', observed_difference)",
   "execution_count": null,
   "outputs": [
    {
     "name": "stdout",
     "text": "Observed Difference: -25833333.333333343\n",
     "output_type": "stream"
    },
    {
     "data": {
      "text/plain": "<Figure size 432x288 with 1 Axes>",
      "image/png": "[encoded data removed]"
     },
     "metadata": {
      "needs_background": "light",
      "image/png": {
       "width": 386,
       "height": 285
      }
     },
     "output_type": "display_data"
    }
   ]
  },
  {
   "cell_type": "markdown",
   "source": "### Government spending Park/Camp",
   "metadata": {
    "tags": [],
    "cell_id": "00006-12f91ae6-ed39-4ccf-8ba6-fccc1df7b167",
    "deepnote_cell_type": "markdown",
    "deepnote_cell_height": 62
   }
  },
  {
   "cell_type": "code",
   "metadata": {
    "deepnote_to_be_reexecuted": false,
    "execution_millis": 12436,
    "execution_start": 1652129125833,
    "source_hash": "75bce903",
    "tags": [],
    "cell_id": "00007-433c6949-5ece-4f2f-b064-371d939a1adf",
    "deepnote_cell_type": "code",
    "deepnote_cell_height": 823.15625
   },
   "source": "def difference_of_means(table,label, location):\n    \"\"\"Takes: name of table,\n    column label that indicates the year\n    Returns: Difference of mean government spending of the two years for that location\"\"\"\n    reduced = table[[label, location]]\n    means_table = reduced.groupby(label).mean()\n    means = np.array(means_table.iloc[:,0])\n    difference = means[1] - means[0]\n    return difference\n\n\ndef one_simulated_difference_of_means(table, label, location):\n    \"\"\"Returns: Difference between mean government spending for the 2 years after shuffling labels\n    (after shuffling year)\"\"\"\n    x = np.array(table[label])\n    np.random.shuffle(x)\n    shuffled_table = table[[label, location]]\n    shuffled_table[label] = x\n\n    return difference_of_means(shuffled_table, label, location)   \n\n\ndifferences = []\n\nrepetitions = 5000\nfor i in np.arange(repetitions):\n    new_difference = one_simulated_difference_of_means(spending,'Date', 'State and Local Government Construction Spending - Park / Camp')\n    differences = np.append(differences, new_difference)  \n\n\nobserved_difference = difference_of_means(spending,'Date', 'State and Local Government Construction Spending - Park / Camp')\nempirical_p_2 = np.count_nonzero(differences <= observed_difference) / repetitions\nempirical_p_2",
   "execution_count": null,
   "outputs": [
    {
     "name": "stderr",
     "text": "/shared-libs/python3.7/py-core/lib/python3.7/site-packages/ipykernel_launcher.py:18: SettingWithCopyWarning: \nA value is trying to be set on a copy of a slice from a DataFrame.\nTry using .loc[row_indexer,col_indexer] = value instead\n\nSee the caveats in the documentation: https://pandas.pydata.org/pandas-docs/stable/user_guide/indexing.html#returning-a-view-versus-a-copy\n",
     "output_type": "stream"
    },
    {
     "output_type": "execute_result",
     "execution_count": 6,
     "data": {
      "text/plain": "0.0888"
     },
     "metadata": {}
    }
   ]
  },
  {
   "cell_type": "code",
   "metadata": {
    "cell_id": "00008-35344eef-83f4-4e05-821f-13a77b9881e2",
    "deepnote_to_be_reexecuted": false,
    "source_hash": "478533f6",
    "execution_start": 1652129138274,
    "execution_millis": 373,
    "deepnote_cell_type": "code",
    "deepnote_cell_height": 501.6875
   },
   "source": "plt.hist(differences)\nplt.xlabel('Difference Between Group Means')\nplt.title('Prediction Under the Null Hypothesis')\nplt.scatter(observed_difference, 0, color='blue')\nprint('Observed Difference:', observed_difference)",
   "execution_count": null,
   "outputs": [
    {
     "name": "stdout",
     "text": "Observed Difference: -57000000.0\n",
     "output_type": "stream"
    },
    {
     "data": {
      "text/plain": "<Figure size 432x288 with 1 Axes>",
      "image/png": "[encoded data removed]"
     },
     "metadata": {
      "needs_background": "light",
      "image/png": {
       "width": 379,
       "height": 285
      }
     },
     "output_type": "display_data"
    }
   ]
  },
  {
   "cell_type": "markdown",
   "source": "### Government Spending Health Care",
   "metadata": {
    "tags": [],
    "cell_id": "00009-7d629b6c-2e6b-4330-b8da-6ae9e9126ec0",
    "deepnote_cell_type": "markdown",
    "deepnote_cell_height": 62
   }
  },
  {
   "cell_type": "code",
   "metadata": {
    "deepnote_to_be_reexecuted": false,
    "execution_millis": 13389,
    "execution_start": 1652129138607,
    "source_hash": "6234a82b",
    "tags": [],
    "cell_id": "00010-14950684-66d5-4adf-9065-4c3a57eba739",
    "deepnote_cell_type": "code",
    "deepnote_cell_height": 823.15625
   },
   "source": "def difference_of_means(table,label, location):\n    \"\"\"Takes: name of table,\n    column label that indicates the year\n    Returns: Difference of mean government spending of the two years for that location\"\"\"\n    reduced = table[[label, location]]\n    means_table = reduced.groupby(label).mean()\n    means = np.array(means_table.iloc[:,0])\n    difference = means[1] - means[0]\n    return difference\n\n\ndef one_simulated_difference_of_means(table, label, location):\n    \"\"\"Returns: Difference between mean government spending for the 2 years after shuffling labels\n    (after shuffling year)\"\"\"\n    x = np.array(table[label])\n    np.random.shuffle(x)\n    shuffled_table = table[[label, location]]\n    shuffled_table[label] = x\n\n    return difference_of_means(shuffled_table, label, location)   \n\n\ndifferences = []\n\nrepetitions = 5000\nfor i in np.arange(repetitions):\n    new_difference = one_simulated_difference_of_means(spending,'Date', 'State and Local Government Construction Spending - Health Care')\n    differences = np.append(differences, new_difference)  \n\n\nobserved_difference = difference_of_means(spending,'Date', 'State and Local Government Construction Spending - Health Care')\nempirical_p_3 = np.count_nonzero(differences <= observed_difference) / repetitions\nempirical_p_3",
   "execution_count": null,
   "outputs": [
    {
     "name": "stderr",
     "text": "/shared-libs/python3.7/py-core/lib/python3.7/site-packages/ipykernel_launcher.py:18: SettingWithCopyWarning: \nA value is trying to be set on a copy of a slice from a DataFrame.\nTry using .loc[row_indexer,col_indexer] = value instead\n\nSee the caveats in the documentation: https://pandas.pydata.org/pandas-docs/stable/user_guide/indexing.html#returning-a-view-versus-a-copy\n",
     "output_type": "stream"
    },
    {
     "output_type": "execute_result",
     "execution_count": 8,
     "data": {
      "text/plain": "0.2892"
     },
     "metadata": {}
    }
   ]
  },
  {
   "cell_type": "code",
   "metadata": {
    "cell_id": "00011-451f2924-0180-467f-8f67-3997ff3e54e7",
    "deepnote_to_be_reexecuted": false,
    "source_hash": "478533f6",
    "execution_start": 1652129151131,
    "execution_millis": 898,
    "deepnote_cell_type": "code",
    "deepnote_cell_height": 501.6875
   },
   "source": "plt.hist(differences)\nplt.xlabel('Difference Between Group Means')\nplt.title('Prediction Under the Null Hypothesis')\nplt.scatter(observed_difference, 0, color='blue')\nprint('Observed Difference:', observed_difference)",
   "execution_count": null,
   "outputs": [
    {
     "name": "stdout",
     "text": "Observed Difference: -12166666.666666687\n",
     "output_type": "stream"
    },
    {
     "data": {
      "text/plain": "<Figure size 432x288 with 1 Axes>",
      "image/png": "[encoded data removed]"
     },
     "metadata": {
      "needs_background": "light",
      "image/png": {
       "width": 386,
       "height": 285
      }
     },
     "output_type": "display_data"
    }
   ]
  },
  {
   "cell_type": "markdown",
   "source": "# State and Local Government Construction Spending - Amusement and Recreation\n",
   "metadata": {
    "tags": [],
    "cell_id": "00012-f113e54d-784d-4889-9e09-d66008cc52dc",
    "deepnote_cell_type": "markdown",
    "deepnote_cell_height": 134
   }
  },
  {
   "cell_type": "code",
   "metadata": {
    "deepnote_to_be_reexecuted": false,
    "execution_millis": 13498,
    "execution_start": 1652129151444,
    "source_hash": "4572aac3",
    "tags": [],
    "cell_id": "00013-8e46f45e-56ba-47cf-8c12-cbc44bde6d14",
    "deepnote_cell_type": "code",
    "deepnote_cell_height": 859.15625
   },
   "source": "#Hypothesis 4\n\ndef difference_of_means(table,label, location):\n    \"\"\"Takes: name of table,\n    column label that indicates the year\n    Returns: Difference of mean government spending of the two years for that location\"\"\"\n    reduced = table[[label, location]]\n    means_table = reduced.groupby(label).mean()\n    means = np.array(means_table.iloc[:,0])\n    difference = means[1] - means[0]\n    return difference\n\n\ndef one_simulated_difference_of_means(table, label, location):\n    \"\"\"Returns: Difference between mean government spending for the 2 years after shuffling labels\n    (after shuffling year)\"\"\"\n    x = np.array(table[label])\n    np.random.shuffle(x)\n    shuffled_table = table[[label, location]]\n    shuffled_table[label] = x\n\n    return difference_of_means(shuffled_table, label, location)   \n\n\ndifferences = []\n\nrepetitions = 5000\nfor i in np.arange(repetitions):\n    new_difference = one_simulated_difference_of_means(spending,'Date', 'State and Local Government Construction Spending - Amusement and Recreation')\n    differences = np.append(differences, new_difference)  \n\n\nobserved_difference = difference_of_means(spending,'Date', 'State and Local Government Construction Spending - Amusement and Recreation')\nempirical_p_4 = np.count_nonzero(differences <= observed_difference) / repetitions\nempirical_p_4",
   "execution_count": null,
   "outputs": [
    {
     "name": "stderr",
     "text": "/shared-libs/python3.7/py-core/lib/python3.7/site-packages/ipykernel_launcher.py:20: SettingWithCopyWarning: \nA value is trying to be set on a copy of a slice from a DataFrame.\nTry using .loc[row_indexer,col_indexer] = value instead\n\nSee the caveats in the documentation: https://pandas.pydata.org/pandas-docs/stable/user_guide/indexing.html#returning-a-view-versus-a-copy\n",
     "output_type": "stream"
    },
    {
     "output_type": "execute_result",
     "execution_count": 10,
     "data": {
      "text/plain": "0.0856"
     },
     "metadata": {}
    }
   ]
  },
  {
   "cell_type": "code",
   "metadata": {
    "deepnote_to_be_reexecuted": false,
    "execution_millis": 364,
    "execution_start": 1652129164597,
    "source_hash": "3f9cecd8",
    "tags": [],
    "cell_id": "00014-a39bb86d-2065-424c-a236-912ee1a8e714",
    "deepnote_cell_type": "code",
    "deepnote_cell_height": 501.6875
   },
   "source": "plt.hist(differences)\nplt.xlabel('Difference Between Group Means')\nplt.title('Prediction Under the Null Hypothesis: Amusements & Rec')\nplt.scatter(observed_difference, 0, color='blue')\nprint('Observed Difference:', observed_difference)",
   "execution_count": null,
   "outputs": [
    {
     "name": "stdout",
     "text": "Observed Difference: -128083333.33333337\n",
     "output_type": "stream"
    },
    {
     "data": {
      "text/plain": "<Figure size 432x288 with 1 Axes>",
      "image/png": "[encoded data removed]"
     },
     "metadata": {
      "needs_background": "light",
      "image/png": {
       "width": 429,
       "height": 285
      }
     },
     "output_type": "display_data"
    }
   ]
  },
  {
   "cell_type": "markdown",
   "source": "# State and Local Government Construction Spending - High School",
   "metadata": {
    "tags": [],
    "cell_id": "00015-e164a00f-7697-4a7a-bc7b-6a2250a383ba",
    "deepnote_cell_type": "markdown",
    "deepnote_cell_height": 134
   }
  },
  {
   "cell_type": "code",
   "metadata": {
    "deepnote_to_be_reexecuted": false,
    "execution_millis": 12997,
    "execution_start": 1652129164988,
    "source_hash": "20f6b20b",
    "tags": [],
    "cell_id": "00016-6ec984aa-5ffe-4631-b0e0-028903023370",
    "deepnote_cell_type": "code",
    "deepnote_cell_height": 859.15625
   },
   "source": "#Hypothesis test skeleton code\n\ndef difference_of_means(table,label, location):\n    \"\"\"Takes: name of table,\n    column label that indicates the year\n    Returns: Difference of mean government spending of the two years for that location\"\"\"\n    reduced = table[[label, location]]\n    means_table = reduced.groupby(label).mean()\n    means = np.array(means_table.iloc[:,0])\n    difference = means[1] - means[0]\n    return difference\n\n\ndef one_simulated_difference_of_means(table, label, location):\n    \"\"\"Returns: Difference between mean government spending for the 2 years after shuffling labels\n    (after shuffling year)\"\"\"\n    x = np.array(table[label])\n    np.random.shuffle(x)\n    shuffled_table = table[[label, location]]\n    shuffled_table[label] = x\n\n    return difference_of_means(shuffled_table, label, location)   \n\n\ndifferences = []\n\nrepetitions = 5000\nfor i in np.arange(repetitions):\n    new_difference = one_simulated_difference_of_means(spending,'Date', 'State and Local Government Construction Spending - High School')\n    differences = np.append(differences, new_difference)  \n\n\nobserved_difference = difference_of_means(spending,'Date', 'State and Local Government Construction Spending - High School')\nempirical_p_5 = np.count_nonzero(differences <= observed_difference) / repetitions\nempirical_p_5",
   "execution_count": null,
   "outputs": [
    {
     "name": "stderr",
     "text": "/shared-libs/python3.7/py-core/lib/python3.7/site-packages/ipykernel_launcher.py:20: SettingWithCopyWarning: \nA value is trying to be set on a copy of a slice from a DataFrame.\nTry using .loc[row_indexer,col_indexer] = value instead\n\nSee the caveats in the documentation: https://pandas.pydata.org/pandas-docs/stable/user_guide/indexing.html#returning-a-view-versus-a-copy\n",
     "output_type": "stream"
    },
    {
     "output_type": "execute_result",
     "execution_count": 12,
     "data": {
      "text/plain": "0.158"
     },
     "metadata": {}
    }
   ]
  },
  {
   "cell_type": "code",
   "metadata": {
    "deepnote_to_be_reexecuted": false,
    "execution_millis": 1612,
    "execution_start": 1652129177972,
    "source_hash": "e1435cb8",
    "tags": [],
    "cell_id": "00017-09742908-abf5-48e8-8885-7ee4c2716f0d",
    "deepnote_cell_type": "code",
    "deepnote_cell_height": 501.6875
   },
   "source": "plt.hist(differences)\nplt.xlabel('Difference Between Group Means')\nplt.title('Prediction Under the Null Hypothesis: High School')\nplt.scatter(observed_difference, 0, color='blue')\nprint('Observed Difference:', observed_difference)",
   "execution_count": null,
   "outputs": [
    {
     "name": "stdout",
     "text": "Observed Difference: -354666666.66666675\n",
     "output_type": "stream"
    },
    {
     "data": {
      "text/plain": "<Figure size 432x288 with 1 Axes>",
      "image/png": "[encoded data removed]"
     },
     "metadata": {
      "needs_background": "light",
      "image/png": {
       "width": 392,
       "height": 285
      }
     },
     "output_type": "display_data"
    }
   ]
  },
  {
   "cell_type": "markdown",
   "source": "# State and Local Government Construction Spending - Higher Education",
   "metadata": {
    "tags": [],
    "cell_id": "00018-e7d0df67-e720-4fc9-9974-ab1e9cf8799f",
    "deepnote_cell_type": "markdown",
    "deepnote_cell_height": 134
   }
  },
  {
   "cell_type": "code",
   "metadata": {
    "deepnote_to_be_reexecuted": false,
    "execution_millis": 12854,
    "execution_start": 1652129178340,
    "source_hash": "cc56339b",
    "tags": [],
    "cell_id": "00019-8748c159-b0eb-41d9-8cce-d30b3eb5680b",
    "deepnote_cell_type": "code",
    "deepnote_cell_height": 859.15625
   },
   "source": "#Hypothesis test skeleton code\n\ndef difference_of_means(table,label, location):\n    \"\"\"Takes: name of table,\n    column label that indicates the year\n    Returns: Difference of mean government spending of the two years for that location\"\"\"\n    reduced = table[[label, location]]\n    means_table = reduced.groupby(label).mean()\n    means = np.array(means_table.iloc[:,0])\n    difference = means[1] - means[0]\n    return difference\n\n\ndef one_simulated_difference_of_means(table, label, location):\n    \"\"\"Returns: Difference between mean government spending for the 2 years after shuffling labels\n    (after shuffling year)\"\"\"\n    x = np.array(table[label])\n    np.random.shuffle(x)\n    shuffled_table = table[[label, location]]\n    shuffled_table[label] = x\n\n    return difference_of_means(shuffled_table, label, location)   \n\n\ndifferences = []\n\nrepetitions = 5000\nfor i in np.arange(repetitions):\n    new_difference = one_simulated_difference_of_means(spending,'Date', 'State and Local Government Construction Spending - Higher Education')\n    differences = np.append(differences, new_difference)  \n\n\nobserved_difference = difference_of_means(spending,'Date', 'State and Local Government Construction Spending - Higher Education')\nempirical_p_6 = np.count_nonzero(differences <= observed_difference) / repetitions\nempirical_p_6",
   "execution_count": null,
   "outputs": [
    {
     "name": "stderr",
     "text": "/shared-libs/python3.7/py-core/lib/python3.7/site-packages/ipykernel_launcher.py:20: SettingWithCopyWarning: \nA value is trying to be set on a copy of a slice from a DataFrame.\nTry using .loc[row_indexer,col_indexer] = value instead\n\nSee the caveats in the documentation: https://pandas.pydata.org/pandas-docs/stable/user_guide/indexing.html#returning-a-view-versus-a-copy\n",
     "output_type": "stream"
    },
    {
     "output_type": "execute_result",
     "execution_count": 14,
     "data": {
      "text/plain": "0.0904"
     },
     "metadata": {}
    }
   ]
  },
  {
   "cell_type": "code",
   "metadata": {
    "deepnote_to_be_reexecuted": false,
    "execution_millis": 301,
    "execution_start": 1652129191193,
    "source_hash": "478533f6",
    "tags": [],
    "cell_id": "00020-1641544d-cce5-43b6-bfa7-d4a9869703a7",
    "deepnote_cell_type": "code",
    "deepnote_cell_height": 501.6875
   },
   "source": "plt.hist(differences)\nplt.xlabel('Difference Between Group Means')\nplt.title('Prediction Under the Null Hypothesis')\nplt.scatter(observed_difference, 0, color='blue')\nprint('Observed Difference:', observed_difference)",
   "execution_count": null,
   "outputs": [
    {
     "name": "stdout",
     "text": "Observed Difference: -189916666.66666675\n",
     "output_type": "stream"
    },
    {
     "data": {
      "text/plain": "<Figure size 432x288 with 1 Axes>",
      "image/png": "[encoded data removed]"
     },
     "metadata": {
      "needs_background": "light",
      "image/png": {
       "width": 386,
       "height": 285
      }
     },
     "output_type": "display_data"
    }
   ]
  },
  {
   "cell_type": "markdown",
   "source": "## Empirical p values for the 6 hypothesis tests",
   "metadata": {
    "cell_id": "00021-2dc7d499-ccdf-4917-98e9-c81b9b205a44",
    "deepnote_cell_type": "markdown",
    "deepnote_cell_height": 70
   }
  },
  {
   "cell_type": "code",
   "metadata": {
    "cell_id": "00022-64805376-ae8f-459f-9262-99f818d10230",
    "deepnote_to_be_reexecuted": false,
    "source_hash": "369f11b5",
    "execution_start": 1652129191499,
    "execution_millis": 3,
    "deepnote_cell_type": "code",
    "deepnote_cell_height": 154.1875
   },
   "source": "#Empirical p values \nemp_pvals = np.array((empirical_p,empirical_p_2, empirical_p_3, empirical_p_4, empirical_p_5, empirical_p_6))\nemp_pvals",
   "execution_count": null,
   "outputs": [
    {
     "output_type": "execute_result",
     "execution_count": 16,
     "data": {
      "text/plain": "array([0.1338, 0.0888, 0.2892, 0.0856, 0.158 , 0.0904])"
     },
     "metadata": {}
    }
   ]
  },
  {
   "cell_type": "code",
   "metadata": {
    "deepnote_to_be_reexecuted": false,
    "execution_millis": 3,
    "execution_start": 1652129191508,
    "source_hash": "c31dc0b0",
    "tags": [],
    "cell_id": "00023-6fa74447-f782-4f3a-866b-78d7ccfa1765",
    "deepnote_cell_type": "code",
    "deepnote_cell_height": 424.1875
   },
   "source": "#Bonferroni Correction for empirical p values: \ndef bonferroni(p_values, alpha_total):\n    \"\"\"\n    Returns decisions on p-values using the Bonferroni correction.\n    \n    Inputs:\n        p_values: array of p-values\n        alpha_total: desired family-wise error rate (FWER = P(at least one false discovery))\n    \n    Returns:\n        decisions: binary array of same length as p-values, where `decisions[i]` is 1\n        if `p_values[i]` is deemed significant, and 0 otherwise\n    \"\"\"\n    threshold = alpha_total / len(p_values)\n    decisions = p_values <= threshold # TODO: fill in\n    return decisions\n\nbonferroni(emp_pvals, 0.2)",
   "execution_count": null,
   "outputs": [
    {
     "output_type": "execute_result",
     "execution_count": 17,
     "data": {
      "text/plain": "array([False, False, False, False, False, False])"
     },
     "metadata": {}
    }
   ]
  },
  {
   "cell_type": "code",
   "metadata": {
    "deepnote_to_be_reexecuted": false,
    "execution_millis": 3,
    "execution_start": 1652129191564,
    "owner_user_id": "86278d58-3528-4bab-86cc-fc17a8747412",
    "source_hash": "cd346a2",
    "tags": [],
    "cell_id": "00024-ccaf3150-639b-4a32-8780-a6969c3da972",
    "deepnote_cell_type": "code",
    "deepnote_cell_height": 568.1875
   },
   "source": "#Benjamini Hochberg for empirical p values: \ndef benjamini_hochberg(p_values, alpha):\n    \"\"\"\n    Returns decisions on p-values using Benjamini-Hochberg.\n    \n    Inputs:\n        p_values: array of p-values\n        alpha: desired FDR (FDR = E[# false positives / # positives])\n    \n    Returns:\n        decisions: binary array of same length as p-values, where `decisions[i]` is 1\n        if `p_values[i]` is deemed significant, and 0 otherwise\n    \"\"\"\n    y = np.sort(p_values)\n    z = [i for i in range(len(p_values)) if y[i] <= (i + 1)*(alpha/len(p_values))]\n                \n    if len(z) == 0:\n        decisions = np.ones(len(y)) < 0\n    else:\n        max_z = max(z)\n        threshold = y[max_z]\n        decisions = p_values <= threshold \n                \n    return decisions\n\nbenjamini_hochberg(emp_pvals, .2)",
   "execution_count": null,
   "outputs": [
    {
     "output_type": "execute_result",
     "execution_count": 18,
     "data": {
      "text/plain": "array([ True,  True, False,  True,  True,  True])"
     },
     "metadata": {}
    }
   ]
  },
  {
   "cell_type": "markdown",
   "source": "## Results: \nWe fail to reject the null for all 6 hypothesis tests with the Bonferroni Correction. \nFor the Benjamini Hochberg correction, we reject the null for all hypothesis tests except the third one, which is government spending for health care. \n\n\n#False: accepting the null\n#True: rejecting the null ",
   "metadata": {
    "cell_id": "00025-702971eb-204b-467a-a206-db1c43f1669e",
    "deepnote_cell_type": "markdown",
    "deepnote_cell_height": 167.1875
   }
  },
  {
   "cell_type": "code",
   "metadata": {
    "cell_id": "00026-e5cc632b-a64a-41d4-abbb-9cd507a0544a",
    "deepnote_to_be_reexecuted": false,
    "source_hash": "b623e53d",
    "execution_start": 1652129191565,
    "deepnote_cell_type": "code",
    "deepnote_cell_height": 81
   },
   "source": "",
   "execution_count": null,
   "outputs": []
  },
  {
   "cell_type": "markdown",
   "source": "<a style='text-decoration:none;line-height:16px;display:flex;color:#5B5B62;padding:10px;justify-content:end;' href='https://deepnote.com?utm_source=created-in-deepnote-cell&projectId=b973bf52-720f-4f08-a354-6907a41c78da' target=\"_blank\">\n<img alt='Created in deepnote.com' style='display:inline;max-height:16px;margin:0px;margin-right:7.5px;' src='data:image/svg+xml;base64,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' > </img>\nCreated in <span style='font-weight:600;margin-left:4px;'>Deepnote</span></a>",
   "metadata": {
    "tags": [],
    "created_in_deepnote_cell": true,
    "deepnote_cell_type": "markdown"
   }
  }
 ],
 "nbformat": 4,
 "nbformat_minor": 2,
 "metadata": {
  "deepnote": {},
  "deepnote_execution_queue": [],
  "deepnote_notebook_id": "5c6a3e34-7ddf-4bbd-8b61-278da00fda19",
  "kernelspec": {
   "display_name": "Python 3 (ipykernel)",
   "language": "python",
   "name": "python3"
  },
  "language_info": {
   "codemirror_mode": {
    "name": "ipython",
    "version": 3
   },
   "file_extension": ".py",
   "mimetype": "text/x-python",
   "name": "python",
   "nbconvert_exporter": "python",
   "pygments_lexer": "ipython3",
   "version": "3.9.12"
  }
 }
}